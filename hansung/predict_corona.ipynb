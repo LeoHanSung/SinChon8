{
  "nbformat": 4,
  "nbformat_minor": 0,
  "metadata": {
    "colab": {
      "name": "predict_corona.ipynb",
      "provenance": [],
      "collapsed_sections": [],
      "authorship_tag": "ABX9TyOkMd2KP0SQN0SkAvKlRjbS",
      "include_colab_link": true
    },
    "kernelspec": {
      "name": "python3",
      "display_name": "Python 3"
    }
  },
  "cells": [
    {
      "cell_type": "markdown",
      "metadata": {
        "id": "view-in-github",
        "colab_type": "text"
      },
      "source": [
        "<a href=\"https://colab.research.google.com/github/LeoHanSung/SinChon8/blob/master/hansung/predict_corona.ipynb\" target=\"_parent\"><img src=\"https://colab.research.google.com/assets/colab-badge.svg\" alt=\"Open In Colab\"/></a>"
      ]
    },
    {
      "cell_type": "code",
      "metadata": {
        "id": "S3JW87ECY_DI",
        "colab_type": "code",
        "colab": {}
      },
      "source": [
        "hansung/predict_corona.ipynb"
      ],
      "execution_count": 0,
      "outputs": []
    },
    {
      "cell_type": "code",
      "metadata": {
        "id": "6-yQBz92FWy_",
        "colab_type": "code",
        "colab": {}
      },
      "source": [
        "# data analysis and wrangling\n",
        "import pandas as pd\n",
        "import numpy as np\n",
        "from pandas import Series\n",
        "from sklearn.decomposition import PCA\n",
        "import matplotlib.pylab as plt\n",
        "%matplotlib inline\n",
        "import seaborn as sns"
      ],
      "execution_count": 0,
      "outputs": []
    },
    {
      "cell_type": "code",
      "metadata": {
        "id": "rMHG9yCRHGpr",
        "colab_type": "code",
        "colab": {}
      },
      "source": [
        "from matplotlib.pylab import rcParams\n",
        "rcParams['figure.figsize'] = 15, 6\n",
        "import requests, pandas as pd, numpy as np\n",
        "from pandas import DataFrame\n",
        "from io import StringIO\n",
        "import time, json\n",
        "from datetime import date\n",
        "import statsmodels\n",
        "from statsmodels.tsa.stattools import adfuller, acf, pacf\n",
        "from statsmodels.tsa.arima_model import ARIMA\n",
        "from statsmodels.tsa.seasonal import seasonal_decompose\n",
        "from sklearn.metrics import mean_squared_error"
      ],
      "execution_count": 0,
      "outputs": []
    },
    {
      "cell_type": "code",
      "metadata": {
        "id": "4C4U2yxDFeev",
        "colab_type": "code",
        "outputId": "e1f62dd8-bb90-4fd4-caf7-f0e94de23fd4",
        "colab": {
          "base_uri": "https://localhost:8080/",
          "height": 125
        }
      },
      "source": [
        "from google.colab import drive\n",
        "drive.mount('/content/gdrive')\n",
        "\n",
        "patientDF = pd.read_csv('/content/gdrive/My Drive/SinChon8/kaggle/Corona_competition/train.csv')\n",
        "\n",
        "# sex, region, disease, infection_reason, infection_order, infected_by, contact_number, "
      ],
      "execution_count": 2,
      "outputs": [
        {
          "output_type": "stream",
          "text": [
            "Go to this URL in a browser: https://accounts.google.com/o/oauth2/auth?client_id=947318989803-6bn6qk8qdgf4n4g3pfee6491hc0brc4i.apps.googleusercontent.com&redirect_uri=urn%3aietf%3awg%3aoauth%3a2.0%3aoob&response_type=code&scope=email%20https%3a%2f%2fwww.googleapis.com%2fauth%2fdocs.test%20https%3a%2f%2fwww.googleapis.com%2fauth%2fdrive%20https%3a%2f%2fwww.googleapis.com%2fauth%2fdrive.photos.readonly%20https%3a%2f%2fwww.googleapis.com%2fauth%2fpeopleapi.readonly\n",
            "\n",
            "Enter your authorization code:\n",
            "··········\n",
            "Mounted at /content/gdrive\n"
          ],
          "name": "stdout"
        }
      ]
    },
    {
      "cell_type": "code",
      "metadata": {
        "id": "V1ZVevsCFspU",
        "colab_type": "code",
        "outputId": "a539a1a9-8952-4f8f-becd-5f95ff69bda8",
        "colab": {
          "base_uri": "https://localhost:8080/",
          "height": 195
        }
      },
      "source": [
        "train_df = pd.read_csv('/content/gdrive/My Drive/SinChon8/kaggle/Corona_competition/train.csv')\n",
        "train_df.head(5)"
      ],
      "execution_count": 4,
      "outputs": [
        {
          "output_type": "execute_result",
          "data": {
            "text/html": [
              "<div>\n",
              "<style scoped>\n",
              "    .dataframe tbody tr th:only-of-type {\n",
              "        vertical-align: middle;\n",
              "    }\n",
              "\n",
              "    .dataframe tbody tr th {\n",
              "        vertical-align: top;\n",
              "    }\n",
              "\n",
              "    .dataframe thead th {\n",
              "        text-align: right;\n",
              "    }\n",
              "</style>\n",
              "<table border=\"1\" class=\"dataframe\">\n",
              "  <thead>\n",
              "    <tr style=\"text-align: right;\">\n",
              "      <th></th>\n",
              "      <th>Id</th>\n",
              "      <th>Province/State</th>\n",
              "      <th>Country/Region</th>\n",
              "      <th>Lat</th>\n",
              "      <th>Long</th>\n",
              "      <th>Date</th>\n",
              "      <th>ConfirmedCases</th>\n",
              "      <th>Fatalities</th>\n",
              "    </tr>\n",
              "  </thead>\n",
              "  <tbody>\n",
              "    <tr>\n",
              "      <th>0</th>\n",
              "      <td>1</td>\n",
              "      <td>NaN</td>\n",
              "      <td>Afghanistan</td>\n",
              "      <td>33.0</td>\n",
              "      <td>65.0</td>\n",
              "      <td>2020-01-22</td>\n",
              "      <td>0.0</td>\n",
              "      <td>0.0</td>\n",
              "    </tr>\n",
              "    <tr>\n",
              "      <th>1</th>\n",
              "      <td>2</td>\n",
              "      <td>NaN</td>\n",
              "      <td>Afghanistan</td>\n",
              "      <td>33.0</td>\n",
              "      <td>65.0</td>\n",
              "      <td>2020-01-23</td>\n",
              "      <td>0.0</td>\n",
              "      <td>0.0</td>\n",
              "    </tr>\n",
              "    <tr>\n",
              "      <th>2</th>\n",
              "      <td>3</td>\n",
              "      <td>NaN</td>\n",
              "      <td>Afghanistan</td>\n",
              "      <td>33.0</td>\n",
              "      <td>65.0</td>\n",
              "      <td>2020-01-24</td>\n",
              "      <td>0.0</td>\n",
              "      <td>0.0</td>\n",
              "    </tr>\n",
              "    <tr>\n",
              "      <th>3</th>\n",
              "      <td>4</td>\n",
              "      <td>NaN</td>\n",
              "      <td>Afghanistan</td>\n",
              "      <td>33.0</td>\n",
              "      <td>65.0</td>\n",
              "      <td>2020-01-25</td>\n",
              "      <td>0.0</td>\n",
              "      <td>0.0</td>\n",
              "    </tr>\n",
              "    <tr>\n",
              "      <th>4</th>\n",
              "      <td>5</td>\n",
              "      <td>NaN</td>\n",
              "      <td>Afghanistan</td>\n",
              "      <td>33.0</td>\n",
              "      <td>65.0</td>\n",
              "      <td>2020-01-26</td>\n",
              "      <td>0.0</td>\n",
              "      <td>0.0</td>\n",
              "    </tr>\n",
              "  </tbody>\n",
              "</table>\n",
              "</div>"
            ],
            "text/plain": [
              "   Id Province/State Country/Region  ...        Date  ConfirmedCases Fatalities\n",
              "0   1            NaN    Afghanistan  ...  2020-01-22             0.0        0.0\n",
              "1   2            NaN    Afghanistan  ...  2020-01-23             0.0        0.0\n",
              "2   3            NaN    Afghanistan  ...  2020-01-24             0.0        0.0\n",
              "3   4            NaN    Afghanistan  ...  2020-01-25             0.0        0.0\n",
              "4   5            NaN    Afghanistan  ...  2020-01-26             0.0        0.0\n",
              "\n",
              "[5 rows x 8 columns]"
            ]
          },
          "metadata": {
            "tags": []
          },
          "execution_count": 4
        }
      ]
    },
    {
      "cell_type": "code",
      "metadata": {
        "id": "JpzxU5WiHlGJ",
        "colab_type": "code",
        "colab": {}
      },
      "source": [
        "test_df = pd.read_csv('/content/gdrive/My Drive/SinChon8/kaggle/Corona_competition/test.csv')\n",
        "test_df.head(5)"
      ],
      "execution_count": 0,
      "outputs": []
    },
    {
      "cell_type": "code",
      "metadata": {
        "id": "YG5ZTRM_G_QV",
        "colab_type": "code",
        "outputId": "ae09c376-aa2a-434b-c721-92fc16ba40bb",
        "colab": {
          "base_uri": "https://localhost:8080/",
          "height": 615
        }
      },
      "source": [
        "train_df['Country/Region'].unique()"
      ],
      "execution_count": 5,
      "outputs": [
        {
          "output_type": "execute_result",
          "data": {
            "text/plain": [
              "array(['Afghanistan', 'Albania', 'Algeria', 'Andorra',\n",
              "       'Antigua and Barbuda', 'Argentina', 'Armenia', 'Aruba',\n",
              "       'Australia', 'Austria', 'Azerbaijan', 'Bahrain', 'Bangladesh',\n",
              "       'Barbados', 'Belarus', 'Belgium', 'Benin', 'Bhutan', 'Bolivia',\n",
              "       'Bosnia and Herzegovina', 'Brazil', 'Brunei', 'Bulgaria',\n",
              "       'Burkina Faso', 'Cambodia', 'Cameroon', 'Canada',\n",
              "       'Central African Republic', 'Chile', 'China', 'Colombia',\n",
              "       'Congo (Brazzaville)', 'Congo (Kinshasa)', 'Costa Rica',\n",
              "       \"Cote d'Ivoire\", 'Croatia', 'Cruise Ship', 'Cuba', 'Cyprus',\n",
              "       'Czechia', 'Denmark', 'Djibouti', 'Dominican Republic', 'Ecuador',\n",
              "       'Egypt', 'Equatorial Guinea', 'Estonia', 'Eswatini', 'Ethiopia',\n",
              "       'Finland', 'France', 'French Guiana', 'Gabon', 'Gambia, The',\n",
              "       'Georgia', 'Germany', 'Ghana', 'Greece', 'Greenland', 'Guadeloupe',\n",
              "       'Guam', 'Guatemala', 'Guernsey', 'Guinea', 'Guyana', 'Holy See',\n",
              "       'Honduras', 'Hungary', 'Iceland', 'India', 'Indonesia', 'Iran',\n",
              "       'Iraq', 'Ireland', 'Israel', 'Italy', 'Jamaica', 'Japan', 'Jersey',\n",
              "       'Jordan', 'Kazakhstan', 'Kenya', 'Korea, South', 'Kosovo',\n",
              "       'Kuwait', 'Kyrgyzstan', 'Latvia', 'Lebanon', 'Liberia',\n",
              "       'Liechtenstein', 'Lithuania', 'Luxembourg', 'Malaysia', 'Maldives',\n",
              "       'Malta', 'Martinique', 'Mauritania', 'Mauritius', 'Mayotte',\n",
              "       'Mexico', 'Moldova', 'Monaco', 'Mongolia', 'Montenegro', 'Morocco',\n",
              "       'Namibia', 'Nepal', 'Netherlands', 'New Zealand', 'Nigeria',\n",
              "       'North Macedonia', 'Norway', 'Oman', 'Pakistan', 'Panama',\n",
              "       'Paraguay', 'Peru', 'Philippines', 'Poland', 'Portugal',\n",
              "       'Puerto Rico', 'Qatar', 'Republic of the Congo', 'Reunion',\n",
              "       'Romania', 'Russia', 'Rwanda', 'Saint Lucia',\n",
              "       'Saint Vincent and the Grenadines', 'San Marino', 'Saudi Arabia',\n",
              "       'Senegal', 'Serbia', 'Seychelles', 'Singapore', 'Slovakia',\n",
              "       'Slovenia', 'Somalia', 'South Africa', 'Spain', 'Sri Lanka',\n",
              "       'Sudan', 'Suriname', 'Sweden', 'Switzerland', 'Taiwan*',\n",
              "       'Tanzania', 'Thailand', 'The Bahamas', 'The Gambia', 'Togo',\n",
              "       'Trinidad and Tobago', 'Tunisia', 'Turkey', 'US', 'Ukraine',\n",
              "       'United Arab Emirates', 'United Kingdom', 'Uruguay', 'Uzbekistan',\n",
              "       'Venezuela', 'Vietnam', 'Zambia'], dtype=object)"
            ]
          },
          "metadata": {
            "tags": []
          },
          "execution_count": 5
        }
      ]
    },
    {
      "cell_type": "code",
      "metadata": {
        "id": "AR0uIEc532zc",
        "colab_type": "code",
        "outputId": "ff3706b9-cfc4-4aca-ec89-aad407375db1",
        "colab": {
          "base_uri": "https://localhost:8080/",
          "height": 122
        }
      },
      "source": [
        "korea_df = train_df[train_df['Country/Region'].str.contains(\"Korea, South\")]\n",
        "korea_df['date'] = korea_df['Date']"
      ],
      "execution_count": 6,
      "outputs": [
        {
          "output_type": "stream",
          "text": [
            "/usr/local/lib/python3.6/dist-packages/ipykernel_launcher.py:2: SettingWithCopyWarning: \n",
            "A value is trying to be set on a copy of a slice from a DataFrame.\n",
            "Try using .loc[row_indexer,col_indexer] = value instead\n",
            "\n",
            "See the caveats in the documentation: http://pandas.pydata.org/pandas-docs/stable/user_guide/indexing.html#returning-a-view-versus-a-copy\n",
            "  \n"
          ],
          "name": "stderr"
        }
      ]
    },
    {
      "cell_type": "code",
      "metadata": {
        "id": "3odpiv08A0cI",
        "colab_type": "code",
        "outputId": "966411a7-14f0-4592-e056-5e2ebe8d4918",
        "colab": {
          "base_uri": "https://localhost:8080/",
          "height": 284
        }
      },
      "source": [
        "korea_df.drop(columns=['Date'])\n",
        "korea_df.describe()"
      ],
      "execution_count": 7,
      "outputs": [
        {
          "output_type": "execute_result",
          "data": {
            "text/html": [
              "<div>\n",
              "<style scoped>\n",
              "    .dataframe tbody tr th:only-of-type {\n",
              "        vertical-align: middle;\n",
              "    }\n",
              "\n",
              "    .dataframe tbody tr th {\n",
              "        vertical-align: top;\n",
              "    }\n",
              "\n",
              "    .dataframe thead th {\n",
              "        text-align: right;\n",
              "    }\n",
              "</style>\n",
              "<table border=\"1\" class=\"dataframe\">\n",
              "  <thead>\n",
              "    <tr style=\"text-align: right;\">\n",
              "      <th></th>\n",
              "      <th>Id</th>\n",
              "      <th>Lat</th>\n",
              "      <th>Long</th>\n",
              "      <th>ConfirmedCases</th>\n",
              "      <th>Fatalities</th>\n",
              "    </tr>\n",
              "  </thead>\n",
              "  <tbody>\n",
              "    <tr>\n",
              "      <th>count</th>\n",
              "      <td>59.000000</td>\n",
              "      <td>59.0</td>\n",
              "      <td>59.0</td>\n",
              "      <td>59.000000</td>\n",
              "      <td>59.000000</td>\n",
              "    </tr>\n",
              "    <tr>\n",
              "      <th>mean</th>\n",
              "      <td>13050.000000</td>\n",
              "      <td>36.0</td>\n",
              "      <td>128.0</td>\n",
              "      <td>2628.915254</td>\n",
              "      <td>20.898305</td>\n",
              "    </tr>\n",
              "    <tr>\n",
              "      <th>std</th>\n",
              "      <td>17.175564</td>\n",
              "      <td>0.0</td>\n",
              "      <td>0.0</td>\n",
              "      <td>3412.903846</td>\n",
              "      <td>29.621576</td>\n",
              "    </tr>\n",
              "    <tr>\n",
              "      <th>min</th>\n",
              "      <td>13021.000000</td>\n",
              "      <td>36.0</td>\n",
              "      <td>128.0</td>\n",
              "      <td>1.000000</td>\n",
              "      <td>0.000000</td>\n",
              "    </tr>\n",
              "    <tr>\n",
              "      <th>25%</th>\n",
              "      <td>13035.500000</td>\n",
              "      <td>36.0</td>\n",
              "      <td>128.0</td>\n",
              "      <td>21.000000</td>\n",
              "      <td>0.000000</td>\n",
              "    </tr>\n",
              "    <tr>\n",
              "      <th>50%</th>\n",
              "      <td>13050.000000</td>\n",
              "      <td>36.0</td>\n",
              "      <td>128.0</td>\n",
              "      <td>104.000000</td>\n",
              "      <td>1.000000</td>\n",
              "    </tr>\n",
              "    <tr>\n",
              "      <th>75%</th>\n",
              "      <td>13064.500000</td>\n",
              "      <td>36.0</td>\n",
              "      <td>128.0</td>\n",
              "      <td>6340.500000</td>\n",
              "      <td>38.500000</td>\n",
              "    </tr>\n",
              "    <tr>\n",
              "      <th>max</th>\n",
              "      <td>13079.000000</td>\n",
              "      <td>36.0</td>\n",
              "      <td>128.0</td>\n",
              "      <td>8652.000000</td>\n",
              "      <td>94.000000</td>\n",
              "    </tr>\n",
              "  </tbody>\n",
              "</table>\n",
              "</div>"
            ],
            "text/plain": [
              "                 Id   Lat   Long  ConfirmedCases  Fatalities\n",
              "count     59.000000  59.0   59.0       59.000000   59.000000\n",
              "mean   13050.000000  36.0  128.0     2628.915254   20.898305\n",
              "std       17.175564   0.0    0.0     3412.903846   29.621576\n",
              "min    13021.000000  36.0  128.0        1.000000    0.000000\n",
              "25%    13035.500000  36.0  128.0       21.000000    0.000000\n",
              "50%    13050.000000  36.0  128.0      104.000000    1.000000\n",
              "75%    13064.500000  36.0  128.0     6340.500000   38.500000\n",
              "max    13079.000000  36.0  128.0     8652.000000   94.000000"
            ]
          },
          "metadata": {
            "tags": []
          },
          "execution_count": 7
        }
      ]
    },
    {
      "cell_type": "code",
      "metadata": {
        "id": "lg55s8V4-3pa",
        "colab_type": "code",
        "outputId": "548bc64c-f1c3-42e0-d6ff-2bc24cdfed89",
        "colab": {
          "base_uri": "https://localhost:8080/",
          "height": 195
        }
      },
      "source": [
        "time_df = pd.read_csv('/content/gdrive/My Drive/SinChon8/kaggle/Corona/Time.csv')\n",
        "\n",
        "time_df.head(5)"
      ],
      "execution_count": 8,
      "outputs": [
        {
          "output_type": "execute_result",
          "data": {
            "text/html": [
              "<div>\n",
              "<style scoped>\n",
              "    .dataframe tbody tr th:only-of-type {\n",
              "        vertical-align: middle;\n",
              "    }\n",
              "\n",
              "    .dataframe tbody tr th {\n",
              "        vertical-align: top;\n",
              "    }\n",
              "\n",
              "    .dataframe thead th {\n",
              "        text-align: right;\n",
              "    }\n",
              "</style>\n",
              "<table border=\"1\" class=\"dataframe\">\n",
              "  <thead>\n",
              "    <tr style=\"text-align: right;\">\n",
              "      <th></th>\n",
              "      <th>date</th>\n",
              "      <th>time</th>\n",
              "      <th>test</th>\n",
              "      <th>negative</th>\n",
              "      <th>confirmed</th>\n",
              "      <th>released</th>\n",
              "      <th>deceased</th>\n",
              "    </tr>\n",
              "  </thead>\n",
              "  <tbody>\n",
              "    <tr>\n",
              "      <th>0</th>\n",
              "      <td>2020-01-20</td>\n",
              "      <td>16</td>\n",
              "      <td>1</td>\n",
              "      <td>0</td>\n",
              "      <td>1</td>\n",
              "      <td>0</td>\n",
              "      <td>0</td>\n",
              "    </tr>\n",
              "    <tr>\n",
              "      <th>1</th>\n",
              "      <td>2020-01-21</td>\n",
              "      <td>16</td>\n",
              "      <td>1</td>\n",
              "      <td>0</td>\n",
              "      <td>1</td>\n",
              "      <td>0</td>\n",
              "      <td>0</td>\n",
              "    </tr>\n",
              "    <tr>\n",
              "      <th>2</th>\n",
              "      <td>2020-01-22</td>\n",
              "      <td>16</td>\n",
              "      <td>4</td>\n",
              "      <td>3</td>\n",
              "      <td>1</td>\n",
              "      <td>0</td>\n",
              "      <td>0</td>\n",
              "    </tr>\n",
              "    <tr>\n",
              "      <th>3</th>\n",
              "      <td>2020-01-23</td>\n",
              "      <td>16</td>\n",
              "      <td>22</td>\n",
              "      <td>21</td>\n",
              "      <td>1</td>\n",
              "      <td>0</td>\n",
              "      <td>0</td>\n",
              "    </tr>\n",
              "    <tr>\n",
              "      <th>4</th>\n",
              "      <td>2020-01-24</td>\n",
              "      <td>16</td>\n",
              "      <td>27</td>\n",
              "      <td>25</td>\n",
              "      <td>2</td>\n",
              "      <td>0</td>\n",
              "      <td>0</td>\n",
              "    </tr>\n",
              "  </tbody>\n",
              "</table>\n",
              "</div>"
            ],
            "text/plain": [
              "         date  time  test  negative  confirmed  released  deceased\n",
              "0  2020-01-20    16     1         0          1         0         0\n",
              "1  2020-01-21    16     1         0          1         0         0\n",
              "2  2020-01-22    16     4         3          1         0         0\n",
              "3  2020-01-23    16    22        21          1         0         0\n",
              "4  2020-01-24    16    27        25          2         0         0"
            ]
          },
          "metadata": {
            "tags": []
          },
          "execution_count": 8
        }
      ]
    },
    {
      "cell_type": "code",
      "metadata": {
        "id": "qnYNn1qhDIAW",
        "colab_type": "code",
        "outputId": "00b321fa-5e95-4326-8d0c-36950ec9efac",
        "colab": {
          "base_uri": "https://localhost:8080/",
          "height": 70
        }
      },
      "source": [
        "time_df.columns"
      ],
      "execution_count": 9,
      "outputs": [
        {
          "output_type": "execute_result",
          "data": {
            "text/plain": [
              "Index(['date', 'time', 'test', 'negative', 'confirmed', 'released',\n",
              "       'deceased'],\n",
              "      dtype='object')"
            ]
          },
          "metadata": {
            "tags": []
          },
          "execution_count": 9
        }
      ]
    },
    {
      "cell_type": "code",
      "metadata": {
        "id": "LyucKgRbCi1q",
        "colab_type": "code",
        "outputId": "d5eb6db4-c7fc-4ead-ba43-1691a592eecb",
        "colab": {
          "base_uri": "https://localhost:8080/",
          "height": 195
        }
      },
      "source": [
        "korea_df[['Id','date']][:5]"
      ],
      "execution_count": 23,
      "outputs": [
        {
          "output_type": "execute_result",
          "data": {
            "text/html": [
              "<div>\n",
              "<style scoped>\n",
              "    .dataframe tbody tr th:only-of-type {\n",
              "        vertical-align: middle;\n",
              "    }\n",
              "\n",
              "    .dataframe tbody tr th {\n",
              "        vertical-align: top;\n",
              "    }\n",
              "\n",
              "    .dataframe thead th {\n",
              "        text-align: right;\n",
              "    }\n",
              "</style>\n",
              "<table border=\"1\" class=\"dataframe\">\n",
              "  <thead>\n",
              "    <tr style=\"text-align: right;\">\n",
              "      <th></th>\n",
              "      <th>Id</th>\n",
              "      <th>date</th>\n",
              "    </tr>\n",
              "  </thead>\n",
              "  <tbody>\n",
              "    <tr>\n",
              "      <th>8260</th>\n",
              "      <td>13021</td>\n",
              "      <td>2020-01-22</td>\n",
              "    </tr>\n",
              "    <tr>\n",
              "      <th>8261</th>\n",
              "      <td>13022</td>\n",
              "      <td>2020-01-23</td>\n",
              "    </tr>\n",
              "    <tr>\n",
              "      <th>8262</th>\n",
              "      <td>13023</td>\n",
              "      <td>2020-01-24</td>\n",
              "    </tr>\n",
              "    <tr>\n",
              "      <th>8263</th>\n",
              "      <td>13024</td>\n",
              "      <td>2020-01-25</td>\n",
              "    </tr>\n",
              "    <tr>\n",
              "      <th>8264</th>\n",
              "      <td>13025</td>\n",
              "      <td>2020-01-26</td>\n",
              "    </tr>\n",
              "  </tbody>\n",
              "</table>\n",
              "</div>"
            ],
            "text/plain": [
              "         Id        date\n",
              "8260  13021  2020-01-22\n",
              "8261  13022  2020-01-23\n",
              "8262  13023  2020-01-24\n",
              "8263  13024  2020-01-25\n",
              "8264  13025  2020-01-26"
            ]
          },
          "metadata": {
            "tags": []
          },
          "execution_count": 23
        }
      ]
    },
    {
      "cell_type": "code",
      "metadata": {
        "id": "bkMV9fIf_j9z",
        "colab_type": "code",
        "colab": {}
      },
      "source": [
        "new_korea_df = pd.merge(korea_df[['Id','date']], time_df[['date','test', 'negative', 'confirmed', 'released', 'deceased']], on='date')\n"
      ],
      "execution_count": 0,
      "outputs": []
    },
    {
      "cell_type": "markdown",
      "metadata": {
        "id": "r2FdAMlWBxb2",
        "colab_type": "text"
      },
      "source": [
        ""
      ]
    },
    {
      "cell_type": "code",
      "metadata": {
        "id": "vEJHK_Q0Bl4p",
        "colab_type": "code",
        "colab": {}
      },
      "source": [
        "new_korea_df['confirmed/test'] = new_korea_df['confirmed']/new_korea_df['test']*100"
      ],
      "execution_count": 0,
      "outputs": []
    },
    {
      "cell_type": "code",
      "metadata": {
        "id": "Faw2NXZAHbLB",
        "colab_type": "code",
        "outputId": "28673edb-b346-46c0-8341-e53ce99ee508",
        "colab": {
          "base_uri": "https://localhost:8080/",
          "height": 195
        }
      },
      "source": [
        "new_korea_df.head(5)"
      ],
      "execution_count": 24,
      "outputs": [
        {
          "output_type": "execute_result",
          "data": {
            "text/html": [
              "<div>\n",
              "<style scoped>\n",
              "    .dataframe tbody tr th:only-of-type {\n",
              "        vertical-align: middle;\n",
              "    }\n",
              "\n",
              "    .dataframe tbody tr th {\n",
              "        vertical-align: top;\n",
              "    }\n",
              "\n",
              "    .dataframe thead th {\n",
              "        text-align: right;\n",
              "    }\n",
              "</style>\n",
              "<table border=\"1\" class=\"dataframe\">\n",
              "  <thead>\n",
              "    <tr style=\"text-align: right;\">\n",
              "      <th></th>\n",
              "      <th>Id</th>\n",
              "      <th>date</th>\n",
              "      <th>test</th>\n",
              "      <th>negative</th>\n",
              "      <th>confirmed</th>\n",
              "      <th>released</th>\n",
              "      <th>deceased</th>\n",
              "      <th>confirmed/test</th>\n",
              "    </tr>\n",
              "  </thead>\n",
              "  <tbody>\n",
              "    <tr>\n",
              "      <th>0</th>\n",
              "      <td>13021</td>\n",
              "      <td>2020-01-22</td>\n",
              "      <td>4</td>\n",
              "      <td>3</td>\n",
              "      <td>1</td>\n",
              "      <td>0</td>\n",
              "      <td>0</td>\n",
              "      <td>25.000000</td>\n",
              "    </tr>\n",
              "    <tr>\n",
              "      <th>1</th>\n",
              "      <td>13022</td>\n",
              "      <td>2020-01-23</td>\n",
              "      <td>22</td>\n",
              "      <td>21</td>\n",
              "      <td>1</td>\n",
              "      <td>0</td>\n",
              "      <td>0</td>\n",
              "      <td>4.545455</td>\n",
              "    </tr>\n",
              "    <tr>\n",
              "      <th>2</th>\n",
              "      <td>13023</td>\n",
              "      <td>2020-01-24</td>\n",
              "      <td>27</td>\n",
              "      <td>25</td>\n",
              "      <td>2</td>\n",
              "      <td>0</td>\n",
              "      <td>0</td>\n",
              "      <td>7.407407</td>\n",
              "    </tr>\n",
              "    <tr>\n",
              "      <th>3</th>\n",
              "      <td>13024</td>\n",
              "      <td>2020-01-25</td>\n",
              "      <td>27</td>\n",
              "      <td>25</td>\n",
              "      <td>2</td>\n",
              "      <td>0</td>\n",
              "      <td>0</td>\n",
              "      <td>7.407407</td>\n",
              "    </tr>\n",
              "    <tr>\n",
              "      <th>4</th>\n",
              "      <td>13025</td>\n",
              "      <td>2020-01-26</td>\n",
              "      <td>51</td>\n",
              "      <td>47</td>\n",
              "      <td>3</td>\n",
              "      <td>0</td>\n",
              "      <td>0</td>\n",
              "      <td>5.882353</td>\n",
              "    </tr>\n",
              "  </tbody>\n",
              "</table>\n",
              "</div>"
            ],
            "text/plain": [
              "      Id        date  test  ...  released  deceased  confirmed/test\n",
              "0  13021  2020-01-22     4  ...         0         0       25.000000\n",
              "1  13022  2020-01-23    22  ...         0         0        4.545455\n",
              "2  13023  2020-01-24    27  ...         0         0        7.407407\n",
              "3  13024  2020-01-25    27  ...         0         0        7.407407\n",
              "4  13025  2020-01-26    51  ...         0         0        5.882353\n",
              "\n",
              "[5 rows x 8 columns]"
            ]
          },
          "metadata": {
            "tags": []
          },
          "execution_count": 24
        }
      ]
    },
    {
      "cell_type": "code",
      "metadata": {
        "id": "del4suHQLL2y",
        "colab_type": "code",
        "outputId": "49d81668-cf4d-4f37-a41d-f1b43d4ba7fd",
        "colab": {
          "base_uri": "https://localhost:8080/",
          "height": 77
        }
      },
      "source": [
        "pca_df = new_korea_df.drop(columns=['Id','date'])\n",
        "pca_df.head(1)"
      ],
      "execution_count": 14,
      "outputs": [
        {
          "output_type": "execute_result",
          "data": {
            "text/html": [
              "<div>\n",
              "<style scoped>\n",
              "    .dataframe tbody tr th:only-of-type {\n",
              "        vertical-align: middle;\n",
              "    }\n",
              "\n",
              "    .dataframe tbody tr th {\n",
              "        vertical-align: top;\n",
              "    }\n",
              "\n",
              "    .dataframe thead th {\n",
              "        text-align: right;\n",
              "    }\n",
              "</style>\n",
              "<table border=\"1\" class=\"dataframe\">\n",
              "  <thead>\n",
              "    <tr style=\"text-align: right;\">\n",
              "      <th></th>\n",
              "      <th>test</th>\n",
              "      <th>negative</th>\n",
              "      <th>confirmed</th>\n",
              "      <th>released</th>\n",
              "      <th>deceased</th>\n",
              "      <th>confirmed/test</th>\n",
              "    </tr>\n",
              "  </thead>\n",
              "  <tbody>\n",
              "    <tr>\n",
              "      <th>0</th>\n",
              "      <td>4</td>\n",
              "      <td>3</td>\n",
              "      <td>1</td>\n",
              "      <td>0</td>\n",
              "      <td>0</td>\n",
              "      <td>25.0</td>\n",
              "    </tr>\n",
              "  </tbody>\n",
              "</table>\n",
              "</div>"
            ],
            "text/plain": [
              "   test  negative  confirmed  released  deceased  confirmed/test\n",
              "0     4         3          1         0         0            25.0"
            ]
          },
          "metadata": {
            "tags": []
          },
          "execution_count": 14
        }
      ]
    },
    {
      "cell_type": "code",
      "metadata": {
        "id": "gKqwji3mJqYk",
        "colab_type": "code",
        "outputId": "332bc94c-1ff2-4c30-b72e-ae5c22bbbb15",
        "colab": {
          "base_uri": "https://localhost:8080/",
          "height": 193
        }
      },
      "source": [
        "from sklearn.preprocessing import StandardScaler\n",
        "\n",
        "scaler = StandardScaler()\n",
        "scaler.fit(pca_df)\n",
        "##scaler.fit(new_korea_df['confirmed'],new_korea_df['confirmed/test'],new_korea_df['deceased'],new_korea_df['negative'],new_korea_df['released'],new_korea_df['test'])\n",
        "X_scale = scaler.transform(pca_df)\n",
        "X_scale[:5]"
      ],
      "execution_count": 22,
      "outputs": [
        {
          "output_type": "execute_result",
          "data": {
            "text/plain": [
              "array([[-0.78226933, -0.73371157, -0.77463291, -0.43122725, -0.70959527,\n",
              "         6.64483564],\n",
              "       [-0.78209627, -0.73351981, -0.77463291, -0.43122725, -0.70959527,\n",
              "         0.42605728],\n",
              "       [-0.7820482 , -0.73347719, -0.77433432, -0.43122725, -0.70959527,\n",
              "         1.29617442],\n",
              "       [-0.7820482 , -0.73347719, -0.77433432, -0.43122725, -0.70959527,\n",
              "         1.29617442],\n",
              "       [-0.78181746, -0.73324282, -0.77403573, -0.43122725, -0.70959527,\n",
              "         0.83251338]])"
            ]
          },
          "metadata": {
            "tags": []
          },
          "execution_count": 22
        }
      ]
    },
    {
      "cell_type": "code",
      "metadata": {
        "id": "ELLMl2dnLELb",
        "colab_type": "code",
        "outputId": "3980f2cf-88e3-45c4-f65d-56f44fe1ddef",
        "colab": {
          "base_uri": "https://localhost:8080/",
          "height": 52
        }
      },
      "source": [
        "model_pca = PCA(n_components=5).fit(X_scale)\n",
        "model_pca"
      ],
      "execution_count": 16,
      "outputs": [
        {
          "output_type": "execute_result",
          "data": {
            "text/plain": [
              "PCA(copy=True, iterated_power='auto', n_components=5, random_state=None,\n",
              "    svd_solver='auto', tol=0.0, whiten=False)"
            ]
          },
          "metadata": {
            "tags": []
          },
          "execution_count": 16
        }
      ]
    },
    {
      "cell_type": "code",
      "metadata": {
        "id": "dFW1FHksMhsK",
        "colab_type": "code",
        "outputId": "04e4d382-27bd-4731-9c3e-5470da761b08",
        "colab": {
          "base_uri": "https://localhost:8080/",
          "height": 193
        }
      },
      "source": [
        "model_pca.components_"
      ],
      "execution_count": 17,
      "outputs": [
        {
          "output_type": "execute_result",
          "data": {
            "text/plain": [
              "array([[ 0.46085901,  0.46266766,  0.4485797 ,  0.39717361,  0.46318191,\n",
              "         0.00628449],\n",
              "       [ 0.00133483, -0.00395669,  0.03229213, -0.05504731,  0.00501243,\n",
              "         0.9979401 ],\n",
              "       [-0.18697864, -0.09589655, -0.42214401,  0.87741137, -0.06254898,\n",
              "         0.06224295],\n",
              "       [ 0.1619405 , -0.53345836,  0.64046774,  0.2517359 , -0.46430681,\n",
              "        -0.00683836],\n",
              "       [ 0.85175631, -0.19412712, -0.45746572, -0.07116075, -0.14964166,\n",
              "         0.00972037]])"
            ]
          },
          "metadata": {
            "tags": []
          },
          "execution_count": 17
        }
      ]
    },
    {
      "cell_type": "code",
      "metadata": {
        "id": "H0bv4FLDMuq2",
        "colab_type": "code",
        "outputId": "58b3f2f2-5272-4e4d-c3de-fc188d99f2eb",
        "colab": {
          "base_uri": "https://localhost:8080/",
          "height": 52
        }
      },
      "source": [
        "model_pca.explained_variance_"
      ],
      "execution_count": 18,
      "outputs": [
        {
          "output_type": "execute_result",
          "data": {
            "text/plain": [
              "array([4.72465226e+00, 1.01990102e+00, 3.48622041e-01, 7.16383074e-03,\n",
              "       1.91407846e-03])"
            ]
          },
          "metadata": {
            "tags": []
          },
          "execution_count": 18
        }
      ]
    },
    {
      "cell_type": "code",
      "metadata": {
        "id": "BfanGn48M1ws",
        "colab_type": "code",
        "outputId": "d6d2789a-eed9-44d0-e778-b84139ad75ba",
        "colab": {
          "base_uri": "https://localhost:8080/",
          "height": 52
        }
      },
      "source": [
        "ratio = model_pca.explained_variance_ratio_\n",
        "ratio"
      ],
      "execution_count": 19,
      "outputs": [
        {
          "output_type": "execute_result",
          "data": {
            "text/plain": [
              "array([7.74095568e-01, 1.67102427e-01, 5.71188654e-02, 1.17373498e-03,\n",
              "       3.13606075e-04])"
            ]
          },
          "metadata": {
            "tags": []
          },
          "execution_count": 19
        }
      ]
    },
    {
      "cell_type": "code",
      "metadata": {
        "id": "1YTbOptBNPKP",
        "colab_type": "code",
        "outputId": "1eec85e8-59c8-424f-8004-36712f6a1854",
        "colab": {
          "base_uri": "https://localhost:8080/",
          "height": 535
        }
      },
      "source": [
        "df_v = pd.DataFrame(ratio, index=['PC1','PC2','PC3','PC4','PC5'], columns=['V_ration'])\n",
        "df_v.plot.pie(y='V_ration')\n",
        "df_v"
      ],
      "execution_count": 20,
      "outputs": [
        {
          "output_type": "execute_result",
          "data": {
            "text/html": [
              "<div>\n",
              "<style scoped>\n",
              "    .dataframe tbody tr th:only-of-type {\n",
              "        vertical-align: middle;\n",
              "    }\n",
              "\n",
              "    .dataframe tbody tr th {\n",
              "        vertical-align: top;\n",
              "    }\n",
              "\n",
              "    .dataframe thead th {\n",
              "        text-align: right;\n",
              "    }\n",
              "</style>\n",
              "<table border=\"1\" class=\"dataframe\">\n",
              "  <thead>\n",
              "    <tr style=\"text-align: right;\">\n",
              "      <th></th>\n",
              "      <th>V_ration</th>\n",
              "    </tr>\n",
              "  </thead>\n",
              "  <tbody>\n",
              "    <tr>\n",
              "      <th>PC1</th>\n",
              "      <td>0.774096</td>\n",
              "    </tr>\n",
              "    <tr>\n",
              "      <th>PC2</th>\n",
              "      <td>0.167102</td>\n",
              "    </tr>\n",
              "    <tr>\n",
              "      <th>PC3</th>\n",
              "      <td>0.057119</td>\n",
              "    </tr>\n",
              "    <tr>\n",
              "      <th>PC4</th>\n",
              "      <td>0.001174</td>\n",
              "    </tr>\n",
              "    <tr>\n",
              "      <th>PC5</th>\n",
              "      <td>0.000314</td>\n",
              "    </tr>\n",
              "  </tbody>\n",
              "</table>\n",
              "</div>"
            ],
            "text/plain": [
              "     V_ration\n",
              "PC1  0.774096\n",
              "PC2  0.167102\n",
              "PC3  0.057119\n",
              "PC4  0.001174\n",
              "PC5  0.000314"
            ]
          },
          "metadata": {
            "tags": []
          },
          "execution_count": 20
        },
        {
          "output_type": "display_data",
          "data": {
            "image/png": "[encoded data removed]",
            "text/plain": [
              "<Figure size 1080x432 with 1 Axes>"
            ]
          },
          "metadata": {
            "tags": []
          }
        }
      ]
    },
    {
      "cell_type": "code",
      "metadata": {
        "id": "znSjcMepHPq7",
        "colab_type": "code",
        "outputId": "4374ccd5-f0fa-4afa-c514-40ec514ce2ed",
        "colab": {
          "base_uri": "https://localhost:8080/",
          "height": 195
        }
      },
      "source": [
        "new_korea_df.head(5)"
      ],
      "execution_count": 21,
      "outputs": [
        {
          "output_type": "execute_result",
          "data": {
            "text/html": [
              "<div>\n",
              "<style scoped>\n",
              "    .dataframe tbody tr th:only-of-type {\n",
              "        vertical-align: middle;\n",
              "    }\n",
              "\n",
              "    .dataframe tbody tr th {\n",
              "        vertical-align: top;\n",
              "    }\n",
              "\n",
              "    .dataframe thead th {\n",
              "        text-align: right;\n",
              "    }\n",
              "</style>\n",
              "<table border=\"1\" class=\"dataframe\">\n",
              "  <thead>\n",
              "    <tr style=\"text-align: right;\">\n",
              "      <th></th>\n",
              "      <th>Id</th>\n",
              "      <th>date</th>\n",
              "      <th>test</th>\n",
              "      <th>negative</th>\n",
              "      <th>confirmed</th>\n",
              "      <th>released</th>\n",
              "      <th>deceased</th>\n",
              "      <th>confirmed/test</th>\n",
              "    </tr>\n",
              "  </thead>\n",
              "  <tbody>\n",
              "    <tr>\n",
              "      <th>0</th>\n",
              "      <td>13021</td>\n",
              "      <td>2020-01-22</td>\n",
              "      <td>4</td>\n",
              "      <td>3</td>\n",
              "      <td>1</td>\n",
              "      <td>0</td>\n",
              "      <td>0</td>\n",
              "      <td>25.000000</td>\n",
              "    </tr>\n",
              "    <tr>\n",
              "      <th>1</th>\n",
              "      <td>13022</td>\n",
              "      <td>2020-01-23</td>\n",
              "      <td>22</td>\n",
              "      <td>21</td>\n",
              "      <td>1</td>\n",
              "      <td>0</td>\n",
              "      <td>0</td>\n",
              "      <td>4.545455</td>\n",
              "    </tr>\n",
              "    <tr>\n",
              "      <th>2</th>\n",
              "      <td>13023</td>\n",
              "      <td>2020-01-24</td>\n",
              "      <td>27</td>\n",
              "      <td>25</td>\n",
              "      <td>2</td>\n",
              "      <td>0</td>\n",
              "      <td>0</td>\n",
              "      <td>7.407407</td>\n",
              "    </tr>\n",
              "    <tr>\n",
              "      <th>3</th>\n",
              "      <td>13024</td>\n",
              "      <td>2020-01-25</td>\n",
              "      <td>27</td>\n",
              "      <td>25</td>\n",
              "      <td>2</td>\n",
              "      <td>0</td>\n",
              "      <td>0</td>\n",
              "      <td>7.407407</td>\n",
              "    </tr>\n",
              "    <tr>\n",
              "      <th>4</th>\n",
              "      <td>13025</td>\n",
              "      <td>2020-01-26</td>\n",
              "      <td>51</td>\n",
              "      <td>47</td>\n",
              "      <td>3</td>\n",
              "      <td>0</td>\n",
              "      <td>0</td>\n",
              "      <td>5.882353</td>\n",
              "    </tr>\n",
              "  </tbody>\n",
              "</table>\n",
              "</div>"
            ],
            "text/plain": [
              "      Id        date  test  ...  released  deceased  confirmed/test\n",
              "0  13021  2020-01-22     4  ...         0         0       25.000000\n",
              "1  13022  2020-01-23    22  ...         0         0        4.545455\n",
              "2  13023  2020-01-24    27  ...         0         0        7.407407\n",
              "3  13024  2020-01-25    27  ...         0         0        7.407407\n",
              "4  13025  2020-01-26    51  ...         0         0        5.882353\n",
              "\n",
              "[5 rows x 8 columns]"
            ]
          },
          "metadata": {
            "tags": []
          },
          "execution_count": 21
        }
      ]
    },
    {
      "cell_type": "code",
      "metadata": {
        "id": "GHIW_m82SGL6",
        "colab_type": "code",
        "colab": {
          "base_uri": "https://localhost:8080/",
          "height": 378
        },
        "outputId": "80d7324d-f9fa-432a-8ee2-4854897e68fe"
      },
      "source": [
        "plt.figure(figsize=(7,6)) #크기지정\n",
        "boxplot = new_korea_df.boxplot(column=['confirmed/test'])\n",
        "plt.yticks(np.arange(0,41, step=5))\n",
        "plt.show()"
      ],
      "execution_count": 30,
      "outputs": [
        {
          "output_type": "display_data",
          "data": {
            "image/png": "[encoded data removed]",
            "text/plain": [
              "<Figure size 504x432 with 1 Axes>"
            ]
          },
          "metadata": {
            "tags": []
          }
        }
      ]
    },
    {
      "cell_type": "code",
      "metadata": {
        "id": "64Okt8FMUS9_",
        "colab_type": "code",
        "colab": {}
      },
      "source": [
        "# 이상치 제거 함수\n",
        "def removeOutliers(x, column):\n",
        "    # Q1, Q3구하기\n",
        "    q1 = x[column].quantile(0.25)\n",
        "    q3 = x[column].quantile(0.75)\n",
        "    \n",
        "    # 1.5 * IQR(Q3 - Q1)\n",
        "    iqt = 1.5 * (q3 - q1)\n",
        "    \n",
        "    # 원래 데이터 복제\n",
        "    y = x\n",
        "    \n",
        "    # 이상치를 NA로 변환\n",
        "    y[\"confirmed/test\"][(new_korea_df[\"confirmed/test\"] > (q3 + iqt)) | (new_korea_df[\"confirmed/test\"] < (q1 - iqt))] = None\n",
        "    y[\"confirmed/test\"]\n",
        "    \n",
        "    # y 반환\n",
        "    return(y)"
      ],
      "execution_count": 0,
      "outputs": []
    },
    {
      "cell_type": "code",
      "metadata": {
        "id": "iUvY-GOrUa0W",
        "colab_type": "code",
        "colab": {
          "base_uri": "https://localhost:8080/",
          "height": 1000
        },
        "outputId": "0c54d579-d031-4c20-88d8-2ffc8360f81c"
      },
      "source": [
        "removeOutliers(new_korea_df,'confirmed/test')"
      ],
      "execution_count": 36,
      "outputs": [
        {
          "output_type": "stream",
          "text": [
            "/usr/local/lib/python3.6/dist-packages/ipykernel_launcher.py:13: SettingWithCopyWarning: \n",
            "A value is trying to be set on a copy of a slice from a DataFrame\n",
            "\n",
            "See the caveats in the documentation: http://pandas.pydata.org/pandas-docs/stable/user_guide/indexing.html#returning-a-view-versus-a-copy\n",
            "  del sys.path[0]\n"
          ],
          "name": "stderr"
        },
        {
          "output_type": "execute_result",
          "data": {
            "text/html": [
              "<div>\n",
              "<style scoped>\n",
              "    .dataframe tbody tr th:only-of-type {\n",
              "        vertical-align: middle;\n",
              "    }\n",
              "\n",
              "    .dataframe tbody tr th {\n",
              "        vertical-align: top;\n",
              "    }\n",
              "\n",
              "    .dataframe thead th {\n",
              "        text-align: right;\n",
              "    }\n",
              "</style>\n",
              "<table border=\"1\" class=\"dataframe\">\n",
              "  <thead>\n",
              "    <tr style=\"text-align: right;\">\n",
              "      <th></th>\n",
              "      <th>Id</th>\n",
              "      <th>date</th>\n",
              "      <th>test</th>\n",
              "      <th>negative</th>\n",
              "      <th>confirmed</th>\n",
              "      <th>released</th>\n",
              "      <th>deceased</th>\n",
              "      <th>confirmed/test</th>\n",
              "    </tr>\n",
              "  </thead>\n",
              "  <tbody>\n",
              "    <tr>\n",
              "      <th>0</th>\n",
              "      <td>13021</td>\n",
              "      <td>2020-01-22</td>\n",
              "      <td>4</td>\n",
              "      <td>3</td>\n",
              "      <td>1</td>\n",
              "      <td>0</td>\n",
              "      <td>0</td>\n",
              "      <td>NaN</td>\n",
              "    </tr>\n",
              "    <tr>\n",
              "      <th>1</th>\n",
              "      <td>13022</td>\n",
              "      <td>2020-01-23</td>\n",
              "      <td>22</td>\n",
              "      <td>21</td>\n",
              "      <td>1</td>\n",
              "      <td>0</td>\n",
              "      <td>0</td>\n",
              "      <td>4.545455</td>\n",
              "    </tr>\n",
              "    <tr>\n",
              "      <th>2</th>\n",
              "      <td>13023</td>\n",
              "      <td>2020-01-24</td>\n",
              "      <td>27</td>\n",
              "      <td>25</td>\n",
              "      <td>2</td>\n",
              "      <td>0</td>\n",
              "      <td>0</td>\n",
              "      <td>NaN</td>\n",
              "    </tr>\n",
              "    <tr>\n",
              "      <th>3</th>\n",
              "      <td>13024</td>\n",
              "      <td>2020-01-25</td>\n",
              "      <td>27</td>\n",
              "      <td>25</td>\n",
              "      <td>2</td>\n",
              "      <td>0</td>\n",
              "      <td>0</td>\n",
              "      <td>NaN</td>\n",
              "    </tr>\n",
              "    <tr>\n",
              "      <th>4</th>\n",
              "      <td>13025</td>\n",
              "      <td>2020-01-26</td>\n",
              "      <td>51</td>\n",
              "      <td>47</td>\n",
              "      <td>3</td>\n",
              "      <td>0</td>\n",
              "      <td>0</td>\n",
              "      <td>5.882353</td>\n",
              "    </tr>\n",
              "    <tr>\n",
              "      <th>5</th>\n",
              "      <td>13026</td>\n",
              "      <td>2020-01-27</td>\n",
              "      <td>61</td>\n",
              "      <td>56</td>\n",
              "      <td>4</td>\n",
              "      <td>0</td>\n",
              "      <td>0</td>\n",
              "      <td>NaN</td>\n",
              "    </tr>\n",
              "    <tr>\n",
              "      <th>6</th>\n",
              "      <td>13027</td>\n",
              "      <td>2020-01-28</td>\n",
              "      <td>116</td>\n",
              "      <td>97</td>\n",
              "      <td>4</td>\n",
              "      <td>0</td>\n",
              "      <td>0</td>\n",
              "      <td>3.448276</td>\n",
              "    </tr>\n",
              "    <tr>\n",
              "      <th>7</th>\n",
              "      <td>13028</td>\n",
              "      <td>2020-01-29</td>\n",
              "      <td>187</td>\n",
              "      <td>155</td>\n",
              "      <td>4</td>\n",
              "      <td>0</td>\n",
              "      <td>0</td>\n",
              "      <td>2.139037</td>\n",
              "    </tr>\n",
              "    <tr>\n",
              "      <th>8</th>\n",
              "      <td>13029</td>\n",
              "      <td>2020-01-30</td>\n",
              "      <td>246</td>\n",
              "      <td>199</td>\n",
              "      <td>6</td>\n",
              "      <td>0</td>\n",
              "      <td>0</td>\n",
              "      <td>2.439024</td>\n",
              "    </tr>\n",
              "    <tr>\n",
              "      <th>9</th>\n",
              "      <td>13030</td>\n",
              "      <td>2020-01-31</td>\n",
              "      <td>312</td>\n",
              "      <td>245</td>\n",
              "      <td>11</td>\n",
              "      <td>0</td>\n",
              "      <td>0</td>\n",
              "      <td>3.525641</td>\n",
              "    </tr>\n",
              "    <tr>\n",
              "      <th>10</th>\n",
              "      <td>13031</td>\n",
              "      <td>2020-02-01</td>\n",
              "      <td>371</td>\n",
              "      <td>289</td>\n",
              "      <td>12</td>\n",
              "      <td>0</td>\n",
              "      <td>0</td>\n",
              "      <td>3.234501</td>\n",
              "    </tr>\n",
              "    <tr>\n",
              "      <th>11</th>\n",
              "      <td>13032</td>\n",
              "      <td>2020-02-02</td>\n",
              "      <td>429</td>\n",
              "      <td>327</td>\n",
              "      <td>15</td>\n",
              "      <td>0</td>\n",
              "      <td>0</td>\n",
              "      <td>3.496503</td>\n",
              "    </tr>\n",
              "    <tr>\n",
              "      <th>12</th>\n",
              "      <td>13033</td>\n",
              "      <td>2020-02-03</td>\n",
              "      <td>490</td>\n",
              "      <td>414</td>\n",
              "      <td>15</td>\n",
              "      <td>0</td>\n",
              "      <td>0</td>\n",
              "      <td>3.061224</td>\n",
              "    </tr>\n",
              "    <tr>\n",
              "      <th>13</th>\n",
              "      <td>13034</td>\n",
              "      <td>2020-02-04</td>\n",
              "      <td>607</td>\n",
              "      <td>462</td>\n",
              "      <td>16</td>\n",
              "      <td>0</td>\n",
              "      <td>0</td>\n",
              "      <td>2.635914</td>\n",
              "    </tr>\n",
              "    <tr>\n",
              "      <th>14</th>\n",
              "      <td>13035</td>\n",
              "      <td>2020-02-05</td>\n",
              "      <td>714</td>\n",
              "      <td>522</td>\n",
              "      <td>18</td>\n",
              "      <td>1</td>\n",
              "      <td>0</td>\n",
              "      <td>2.521008</td>\n",
              "    </tr>\n",
              "    <tr>\n",
              "      <th>15</th>\n",
              "      <td>13036</td>\n",
              "      <td>2020-02-06</td>\n",
              "      <td>885</td>\n",
              "      <td>693</td>\n",
              "      <td>23</td>\n",
              "      <td>2</td>\n",
              "      <td>0</td>\n",
              "      <td>2.598870</td>\n",
              "    </tr>\n",
              "    <tr>\n",
              "      <th>16</th>\n",
              "      <td>13037</td>\n",
              "      <td>2020-02-07</td>\n",
              "      <td>1352</td>\n",
              "      <td>1001</td>\n",
              "      <td>24</td>\n",
              "      <td>2</td>\n",
              "      <td>0</td>\n",
              "      <td>1.775148</td>\n",
              "    </tr>\n",
              "    <tr>\n",
              "      <th>17</th>\n",
              "      <td>13038</td>\n",
              "      <td>2020-02-08</td>\n",
              "      <td>2097</td>\n",
              "      <td>1134</td>\n",
              "      <td>24</td>\n",
              "      <td>2</td>\n",
              "      <td>0</td>\n",
              "      <td>1.144492</td>\n",
              "    </tr>\n",
              "    <tr>\n",
              "      <th>18</th>\n",
              "      <td>13039</td>\n",
              "      <td>2020-02-09</td>\n",
              "      <td>2598</td>\n",
              "      <td>1683</td>\n",
              "      <td>27</td>\n",
              "      <td>3</td>\n",
              "      <td>0</td>\n",
              "      <td>1.039261</td>\n",
              "    </tr>\n",
              "    <tr>\n",
              "      <th>19</th>\n",
              "      <td>13040</td>\n",
              "      <td>2020-02-10</td>\n",
              "      <td>3110</td>\n",
              "      <td>2552</td>\n",
              "      <td>27</td>\n",
              "      <td>4</td>\n",
              "      <td>0</td>\n",
              "      <td>0.868167</td>\n",
              "    </tr>\n",
              "    <tr>\n",
              "      <th>20</th>\n",
              "      <td>13041</td>\n",
              "      <td>2020-02-11</td>\n",
              "      <td>4325</td>\n",
              "      <td>3535</td>\n",
              "      <td>28</td>\n",
              "      <td>4</td>\n",
              "      <td>0</td>\n",
              "      <td>0.647399</td>\n",
              "    </tr>\n",
              "    <tr>\n",
              "      <th>21</th>\n",
              "      <td>13042</td>\n",
              "      <td>2020-02-12</td>\n",
              "      <td>5624</td>\n",
              "      <td>4811</td>\n",
              "      <td>28</td>\n",
              "      <td>7</td>\n",
              "      <td>0</td>\n",
              "      <td>0.497866</td>\n",
              "    </tr>\n",
              "    <tr>\n",
              "      <th>22</th>\n",
              "      <td>13043</td>\n",
              "      <td>2020-02-13</td>\n",
              "      <td>6511</td>\n",
              "      <td>5921</td>\n",
              "      <td>28</td>\n",
              "      <td>7</td>\n",
              "      <td>0</td>\n",
              "      <td>0.430041</td>\n",
              "    </tr>\n",
              "    <tr>\n",
              "      <th>23</th>\n",
              "      <td>13044</td>\n",
              "      <td>2020-02-14</td>\n",
              "      <td>7242</td>\n",
              "      <td>6679</td>\n",
              "      <td>28</td>\n",
              "      <td>7</td>\n",
              "      <td>0</td>\n",
              "      <td>0.386634</td>\n",
              "    </tr>\n",
              "    <tr>\n",
              "      <th>24</th>\n",
              "      <td>13045</td>\n",
              "      <td>2020-02-15</td>\n",
              "      <td>7734</td>\n",
              "      <td>7148</td>\n",
              "      <td>28</td>\n",
              "      <td>9</td>\n",
              "      <td>0</td>\n",
              "      <td>0.362038</td>\n",
              "    </tr>\n",
              "    <tr>\n",
              "      <th>25</th>\n",
              "      <td>13046</td>\n",
              "      <td>2020-02-16</td>\n",
              "      <td>8161</td>\n",
              "      <td>7647</td>\n",
              "      <td>29</td>\n",
              "      <td>9</td>\n",
              "      <td>0</td>\n",
              "      <td>0.355349</td>\n",
              "    </tr>\n",
              "    <tr>\n",
              "      <th>26</th>\n",
              "      <td>13047</td>\n",
              "      <td>2020-02-17</td>\n",
              "      <td>8718</td>\n",
              "      <td>7980</td>\n",
              "      <td>30</td>\n",
              "      <td>10</td>\n",
              "      <td>0</td>\n",
              "      <td>0.344116</td>\n",
              "    </tr>\n",
              "    <tr>\n",
              "      <th>27</th>\n",
              "      <td>13048</td>\n",
              "      <td>2020-02-18</td>\n",
              "      <td>9772</td>\n",
              "      <td>8923</td>\n",
              "      <td>31</td>\n",
              "      <td>12</td>\n",
              "      <td>0</td>\n",
              "      <td>0.317233</td>\n",
              "    </tr>\n",
              "    <tr>\n",
              "      <th>28</th>\n",
              "      <td>13049</td>\n",
              "      <td>2020-02-19</td>\n",
              "      <td>11173</td>\n",
              "      <td>9973</td>\n",
              "      <td>51</td>\n",
              "      <td>16</td>\n",
              "      <td>0</td>\n",
              "      <td>0.456458</td>\n",
              "    </tr>\n",
              "    <tr>\n",
              "      <th>29</th>\n",
              "      <td>13050</td>\n",
              "      <td>2020-02-20</td>\n",
              "      <td>13202</td>\n",
              "      <td>11238</td>\n",
              "      <td>104</td>\n",
              "      <td>16</td>\n",
              "      <td>1</td>\n",
              "      <td>0.787759</td>\n",
              "    </tr>\n",
              "    <tr>\n",
              "      <th>30</th>\n",
              "      <td>13051</td>\n",
              "      <td>2020-02-21</td>\n",
              "      <td>16400</td>\n",
              "      <td>13016</td>\n",
              "      <td>204</td>\n",
              "      <td>17</td>\n",
              "      <td>2</td>\n",
              "      <td>1.243902</td>\n",
              "    </tr>\n",
              "    <tr>\n",
              "      <th>31</th>\n",
              "      <td>13052</td>\n",
              "      <td>2020-02-22</td>\n",
              "      <td>21586</td>\n",
              "      <td>15116</td>\n",
              "      <td>433</td>\n",
              "      <td>18</td>\n",
              "      <td>2</td>\n",
              "      <td>2.005930</td>\n",
              "    </tr>\n",
              "    <tr>\n",
              "      <th>32</th>\n",
              "      <td>13053</td>\n",
              "      <td>2020-02-23</td>\n",
              "      <td>26179</td>\n",
              "      <td>17520</td>\n",
              "      <td>602</td>\n",
              "      <td>18</td>\n",
              "      <td>6</td>\n",
              "      <td>2.299553</td>\n",
              "    </tr>\n",
              "    <tr>\n",
              "      <th>33</th>\n",
              "      <td>13054</td>\n",
              "      <td>2020-02-24</td>\n",
              "      <td>32756</td>\n",
              "      <td>20292</td>\n",
              "      <td>833</td>\n",
              "      <td>24</td>\n",
              "      <td>8</td>\n",
              "      <td>2.543046</td>\n",
              "    </tr>\n",
              "    <tr>\n",
              "      <th>34</th>\n",
              "      <td>13055</td>\n",
              "      <td>2020-02-25</td>\n",
              "      <td>40304</td>\n",
              "      <td>25447</td>\n",
              "      <td>977</td>\n",
              "      <td>24</td>\n",
              "      <td>12</td>\n",
              "      <td>2.424077</td>\n",
              "    </tr>\n",
              "    <tr>\n",
              "      <th>35</th>\n",
              "      <td>13056</td>\n",
              "      <td>2020-02-26</td>\n",
              "      <td>53553</td>\n",
              "      <td>31576</td>\n",
              "      <td>1261</td>\n",
              "      <td>24</td>\n",
              "      <td>12</td>\n",
              "      <td>2.354677</td>\n",
              "    </tr>\n",
              "    <tr>\n",
              "      <th>36</th>\n",
              "      <td>13057</td>\n",
              "      <td>2020-02-27</td>\n",
              "      <td>66652</td>\n",
              "      <td>39318</td>\n",
              "      <td>1766</td>\n",
              "      <td>26</td>\n",
              "      <td>13</td>\n",
              "      <td>2.649583</td>\n",
              "    </tr>\n",
              "    <tr>\n",
              "      <th>37</th>\n",
              "      <td>13058</td>\n",
              "      <td>2020-02-28</td>\n",
              "      <td>81167</td>\n",
              "      <td>48593</td>\n",
              "      <td>2337</td>\n",
              "      <td>27</td>\n",
              "      <td>13</td>\n",
              "      <td>2.879249</td>\n",
              "    </tr>\n",
              "    <tr>\n",
              "      <th>38</th>\n",
              "      <td>13059</td>\n",
              "      <td>2020-02-29</td>\n",
              "      <td>94055</td>\n",
              "      <td>55723</td>\n",
              "      <td>3150</td>\n",
              "      <td>28</td>\n",
              "      <td>17</td>\n",
              "      <td>3.349104</td>\n",
              "    </tr>\n",
              "    <tr>\n",
              "      <th>39</th>\n",
              "      <td>13060</td>\n",
              "      <td>2020-03-01</td>\n",
              "      <td>98921</td>\n",
              "      <td>61825</td>\n",
              "      <td>3736</td>\n",
              "      <td>30</td>\n",
              "      <td>18</td>\n",
              "      <td>3.776751</td>\n",
              "    </tr>\n",
              "    <tr>\n",
              "      <th>40</th>\n",
              "      <td>13061</td>\n",
              "      <td>2020-03-02</td>\n",
              "      <td>109591</td>\n",
              "      <td>71580</td>\n",
              "      <td>4212</td>\n",
              "      <td>31</td>\n",
              "      <td>22</td>\n",
              "      <td>3.843381</td>\n",
              "    </tr>\n",
              "    <tr>\n",
              "      <th>41</th>\n",
              "      <td>13062</td>\n",
              "      <td>2020-03-03</td>\n",
              "      <td>125851</td>\n",
              "      <td>85484</td>\n",
              "      <td>4812</td>\n",
              "      <td>34</td>\n",
              "      <td>28</td>\n",
              "      <td>3.823569</td>\n",
              "    </tr>\n",
              "    <tr>\n",
              "      <th>42</th>\n",
              "      <td>13063</td>\n",
              "      <td>2020-03-04</td>\n",
              "      <td>136707</td>\n",
              "      <td>102965</td>\n",
              "      <td>5328</td>\n",
              "      <td>41</td>\n",
              "      <td>32</td>\n",
              "      <td>3.897386</td>\n",
              "    </tr>\n",
              "    <tr>\n",
              "      <th>43</th>\n",
              "      <td>13064</td>\n",
              "      <td>2020-03-05</td>\n",
              "      <td>146541</td>\n",
              "      <td>118965</td>\n",
              "      <td>5766</td>\n",
              "      <td>88</td>\n",
              "      <td>35</td>\n",
              "      <td>3.934735</td>\n",
              "    </tr>\n",
              "    <tr>\n",
              "      <th>44</th>\n",
              "      <td>13065</td>\n",
              "      <td>2020-03-06</td>\n",
              "      <td>164740</td>\n",
              "      <td>136624</td>\n",
              "      <td>6284</td>\n",
              "      <td>108</td>\n",
              "      <td>42</td>\n",
              "      <td>3.814496</td>\n",
              "    </tr>\n",
              "    <tr>\n",
              "      <th>45</th>\n",
              "      <td>13066</td>\n",
              "      <td>2020-03-07</td>\n",
              "      <td>178189</td>\n",
              "      <td>151802</td>\n",
              "      <td>6767</td>\n",
              "      <td>118</td>\n",
              "      <td>44</td>\n",
              "      <td>3.797653</td>\n",
              "    </tr>\n",
              "    <tr>\n",
              "      <th>46</th>\n",
              "      <td>13067</td>\n",
              "      <td>2020-03-08</td>\n",
              "      <td>188518</td>\n",
              "      <td>162008</td>\n",
              "      <td>7134</td>\n",
              "      <td>130</td>\n",
              "      <td>50</td>\n",
              "      <td>3.784254</td>\n",
              "    </tr>\n",
              "    <tr>\n",
              "      <th>47</th>\n",
              "      <td>13068</td>\n",
              "      <td>2020-03-09</td>\n",
              "      <td>196618</td>\n",
              "      <td>171778</td>\n",
              "      <td>7382</td>\n",
              "      <td>166</td>\n",
              "      <td>51</td>\n",
              "      <td>3.754488</td>\n",
              "    </tr>\n",
              "    <tr>\n",
              "      <th>48</th>\n",
              "      <td>13069</td>\n",
              "      <td>2020-03-10</td>\n",
              "      <td>210144</td>\n",
              "      <td>184179</td>\n",
              "      <td>7513</td>\n",
              "      <td>247</td>\n",
              "      <td>54</td>\n",
              "      <td>3.575168</td>\n",
              "    </tr>\n",
              "    <tr>\n",
              "      <th>49</th>\n",
              "      <td>13070</td>\n",
              "      <td>2020-03-11</td>\n",
              "      <td>222395</td>\n",
              "      <td>196100</td>\n",
              "      <td>7755</td>\n",
              "      <td>288</td>\n",
              "      <td>60</td>\n",
              "      <td>3.487039</td>\n",
              "    </tr>\n",
              "    <tr>\n",
              "      <th>50</th>\n",
              "      <td>13071</td>\n",
              "      <td>2020-03-12</td>\n",
              "      <td>234998</td>\n",
              "      <td>209402</td>\n",
              "      <td>7869</td>\n",
              "      <td>333</td>\n",
              "      <td>66</td>\n",
              "      <td>3.348539</td>\n",
              "    </tr>\n",
              "    <tr>\n",
              "      <th>51</th>\n",
              "      <td>13072</td>\n",
              "      <td>2020-03-13</td>\n",
              "      <td>248647</td>\n",
              "      <td>222728</td>\n",
              "      <td>7979</td>\n",
              "      <td>510</td>\n",
              "      <td>67</td>\n",
              "      <td>3.208967</td>\n",
              "    </tr>\n",
              "    <tr>\n",
              "      <th>52</th>\n",
              "      <td>13073</td>\n",
              "      <td>2020-03-14</td>\n",
              "      <td>261335</td>\n",
              "      <td>235615</td>\n",
              "      <td>8086</td>\n",
              "      <td>714</td>\n",
              "      <td>72</td>\n",
              "      <td>3.094113</td>\n",
              "    </tr>\n",
              "    <tr>\n",
              "      <th>53</th>\n",
              "      <td>13074</td>\n",
              "      <td>2020-03-15</td>\n",
              "      <td>268212</td>\n",
              "      <td>243778</td>\n",
              "      <td>8126</td>\n",
              "      <td>834</td>\n",
              "      <td>75</td>\n",
              "      <td>3.029693</td>\n",
              "    </tr>\n",
              "    <tr>\n",
              "      <th>54</th>\n",
              "      <td>13075</td>\n",
              "      <td>2020-03-16</td>\n",
              "      <td>274504</td>\n",
              "      <td>251297</td>\n",
              "      <td>8236</td>\n",
              "      <td>1137</td>\n",
              "      <td>75</td>\n",
              "      <td>3.000321</td>\n",
              "    </tr>\n",
              "    <tr>\n",
              "      <th>55</th>\n",
              "      <td>13076</td>\n",
              "      <td>2020-03-17</td>\n",
              "      <td>286716</td>\n",
              "      <td>261105</td>\n",
              "      <td>8320</td>\n",
              "      <td>1401</td>\n",
              "      <td>81</td>\n",
              "      <td>2.901826</td>\n",
              "    </tr>\n",
              "    <tr>\n",
              "      <th>56</th>\n",
              "      <td>13077</td>\n",
              "      <td>2020-03-18</td>\n",
              "      <td>295647</td>\n",
              "      <td>270888</td>\n",
              "      <td>8413</td>\n",
              "      <td>1540</td>\n",
              "      <td>84</td>\n",
              "      <td>2.845623</td>\n",
              "    </tr>\n",
              "    <tr>\n",
              "      <th>57</th>\n",
              "      <td>13078</td>\n",
              "      <td>2020-03-19</td>\n",
              "      <td>307024</td>\n",
              "      <td>282555</td>\n",
              "      <td>8565</td>\n",
              "      <td>1947</td>\n",
              "      <td>91</td>\n",
              "      <td>2.789684</td>\n",
              "    </tr>\n",
              "    <tr>\n",
              "      <th>58</th>\n",
              "      <td>13079</td>\n",
              "      <td>2020-03-20</td>\n",
              "      <td>316664</td>\n",
              "      <td>292487</td>\n",
              "      <td>8652</td>\n",
              "      <td>2233</td>\n",
              "      <td>94</td>\n",
              "      <td>2.732234</td>\n",
              "    </tr>\n",
              "  </tbody>\n",
              "</table>\n",
              "</div>"
            ],
            "text/plain": [
              "       Id        date    test  ...  released  deceased  confirmed/test\n",
              "0   13021  2020-01-22       4  ...         0         0             NaN\n",
              "1   13022  2020-01-23      22  ...         0         0        4.545455\n",
              "2   13023  2020-01-24      27  ...         0         0             NaN\n",
              "3   13024  2020-01-25      27  ...         0         0             NaN\n",
              "4   13025  2020-01-26      51  ...         0         0        5.882353\n",
              "5   13026  2020-01-27      61  ...         0         0             NaN\n",
              "6   13027  2020-01-28     116  ...         0         0        3.448276\n",
              "7   13028  2020-01-29     187  ...         0         0        2.139037\n",
              "8   13029  2020-01-30     246  ...         0         0        2.439024\n",
              "9   13030  2020-01-31     312  ...         0         0        3.525641\n",
              "10  13031  2020-02-01     371  ...         0         0        3.234501\n",
              "11  13032  2020-02-02     429  ...         0         0        3.496503\n",
              "12  13033  2020-02-03     490  ...         0         0        3.061224\n",
              "13  13034  2020-02-04     607  ...         0         0        2.635914\n",
              "14  13035  2020-02-05     714  ...         1         0        2.521008\n",
              "15  13036  2020-02-06     885  ...         2         0        2.598870\n",
              "16  13037  2020-02-07    1352  ...         2         0        1.775148\n",
              "17  13038  2020-02-08    2097  ...         2         0        1.144492\n",
              "18  13039  2020-02-09    2598  ...         3         0        1.039261\n",
              "19  13040  2020-02-10    3110  ...         4         0        0.868167\n",
              "20  13041  2020-02-11    4325  ...         4         0        0.647399\n",
              "21  13042  2020-02-12    5624  ...         7         0        0.497866\n",
              "22  13043  2020-02-13    6511  ...         7         0        0.430041\n",
              "23  13044  2020-02-14    7242  ...         7         0        0.386634\n",
              "24  13045  2020-02-15    7734  ...         9         0        0.362038\n",
              "25  13046  2020-02-16    8161  ...         9         0        0.355349\n",
              "26  13047  2020-02-17    8718  ...        10         0        0.344116\n",
              "27  13048  2020-02-18    9772  ...        12         0        0.317233\n",
              "28  13049  2020-02-19   11173  ...        16         0        0.456458\n",
              "29  13050  2020-02-20   13202  ...        16         1        0.787759\n",
              "30  13051  2020-02-21   16400  ...        17         2        1.243902\n",
              "31  13052  2020-02-22   21586  ...        18         2        2.005930\n",
              "32  13053  2020-02-23   26179  ...        18         6        2.299553\n",
              "33  13054  2020-02-24   32756  ...        24         8        2.543046\n",
              "34  13055  2020-02-25   40304  ...        24        12        2.424077\n",
              "35  13056  2020-02-26   53553  ...        24        12        2.354677\n",
              "36  13057  2020-02-27   66652  ...        26        13        2.649583\n",
              "37  13058  2020-02-28   81167  ...        27        13        2.879249\n",
              "38  13059  2020-02-29   94055  ...        28        17        3.349104\n",
              "39  13060  2020-03-01   98921  ...        30        18        3.776751\n",
              "40  13061  2020-03-02  109591  ...        31        22        3.843381\n",
              "41  13062  2020-03-03  125851  ...        34        28        3.823569\n",
              "42  13063  2020-03-04  136707  ...        41        32        3.897386\n",
              "43  13064  2020-03-05  146541  ...        88        35        3.934735\n",
              "44  13065  2020-03-06  164740  ...       108        42        3.814496\n",
              "45  13066  2020-03-07  178189  ...       118        44        3.797653\n",
              "46  13067  2020-03-08  188518  ...       130        50        3.784254\n",
              "47  13068  2020-03-09  196618  ...       166        51        3.754488\n",
              "48  13069  2020-03-10  210144  ...       247        54        3.575168\n",
              "49  13070  2020-03-11  222395  ...       288        60        3.487039\n",
              "50  13071  2020-03-12  234998  ...       333        66        3.348539\n",
              "51  13072  2020-03-13  248647  ...       510        67        3.208967\n",
              "52  13073  2020-03-14  261335  ...       714        72        3.094113\n",
              "53  13074  2020-03-15  268212  ...       834        75        3.029693\n",
              "54  13075  2020-03-16  274504  ...      1137        75        3.000321\n",
              "55  13076  2020-03-17  286716  ...      1401        81        2.901826\n",
              "56  13077  2020-03-18  295647  ...      1540        84        2.845623\n",
              "57  13078  2020-03-19  307024  ...      1947        91        2.789684\n",
              "58  13079  2020-03-20  316664  ...      2233        94        2.732234\n",
              "\n",
              "[59 rows x 8 columns]"
            ]
          },
          "metadata": {
            "tags": []
          },
          "execution_count": 36
        }
      ]
    },
    {
      "cell_type": "code",
      "metadata": {
        "id": "4kG3qSYQVYm2",
        "colab_type": "code",
        "colab": {
          "base_uri": "https://localhost:8080/",
          "height": 1000
        },
        "outputId": "56257757-6112-45fd-d9bc-fe876b0295ab"
      },
      "source": [
        "new_korea_dropna_df = new_korea_df.dropna()\n",
        "new_korea_dropna_df"
      ],
      "execution_count": 44,
      "outputs": [
        {
          "output_type": "execute_result",
          "data": {
            "text/html": [
              "<div>\n",
              "<style scoped>\n",
              "    .dataframe tbody tr th:only-of-type {\n",
              "        vertical-align: middle;\n",
              "    }\n",
              "\n",
              "    .dataframe tbody tr th {\n",
              "        vertical-align: top;\n",
              "    }\n",
              "\n",
              "    .dataframe thead th {\n",
              "        text-align: right;\n",
              "    }\n",
              "</style>\n",
              "<table border=\"1\" class=\"dataframe\">\n",
              "  <thead>\n",
              "    <tr style=\"text-align: right;\">\n",
              "      <th></th>\n",
              "      <th>Id</th>\n",
              "      <th>date</th>\n",
              "      <th>test</th>\n",
              "      <th>negative</th>\n",
              "      <th>confirmed</th>\n",
              "      <th>released</th>\n",
              "      <th>deceased</th>\n",
              "      <th>confirmed/test</th>\n",
              "    </tr>\n",
              "  </thead>\n",
              "  <tbody>\n",
              "    <tr>\n",
              "      <th>1</th>\n",
              "      <td>13022</td>\n",
              "      <td>2020-01-23</td>\n",
              "      <td>22</td>\n",
              "      <td>21</td>\n",
              "      <td>1</td>\n",
              "      <td>0</td>\n",
              "      <td>0</td>\n",
              "      <td>4.545455</td>\n",
              "    </tr>\n",
              "    <tr>\n",
              "      <th>4</th>\n",
              "      <td>13025</td>\n",
              "      <td>2020-01-26</td>\n",
              "      <td>51</td>\n",
              "      <td>47</td>\n",
              "      <td>3</td>\n",
              "      <td>0</td>\n",
              "      <td>0</td>\n",
              "      <td>5.882353</td>\n",
              "    </tr>\n",
              "    <tr>\n",
              "      <th>6</th>\n",
              "      <td>13027</td>\n",
              "      <td>2020-01-28</td>\n",
              "      <td>116</td>\n",
              "      <td>97</td>\n",
              "      <td>4</td>\n",
              "      <td>0</td>\n",
              "      <td>0</td>\n",
              "      <td>3.448276</td>\n",
              "    </tr>\n",
              "    <tr>\n",
              "      <th>7</th>\n",
              "      <td>13028</td>\n",
              "      <td>2020-01-29</td>\n",
              "      <td>187</td>\n",
              "      <td>155</td>\n",
              "      <td>4</td>\n",
              "      <td>0</td>\n",
              "      <td>0</td>\n",
              "      <td>2.139037</td>\n",
              "    </tr>\n",
              "    <tr>\n",
              "      <th>8</th>\n",
              "      <td>13029</td>\n",
              "      <td>2020-01-30</td>\n",
              "      <td>246</td>\n",
              "      <td>199</td>\n",
              "      <td>6</td>\n",
              "      <td>0</td>\n",
              "      <td>0</td>\n",
              "      <td>2.439024</td>\n",
              "    </tr>\n",
              "    <tr>\n",
              "      <th>9</th>\n",
              "      <td>13030</td>\n",
              "      <td>2020-01-31</td>\n",
              "      <td>312</td>\n",
              "      <td>245</td>\n",
              "      <td>11</td>\n",
              "      <td>0</td>\n",
              "      <td>0</td>\n",
              "      <td>3.525641</td>\n",
              "    </tr>\n",
              "    <tr>\n",
              "      <th>10</th>\n",
              "      <td>13031</td>\n",
              "      <td>2020-02-01</td>\n",
              "      <td>371</td>\n",
              "      <td>289</td>\n",
              "      <td>12</td>\n",
              "      <td>0</td>\n",
              "      <td>0</td>\n",
              "      <td>3.234501</td>\n",
              "    </tr>\n",
              "    <tr>\n",
              "      <th>11</th>\n",
              "      <td>13032</td>\n",
              "      <td>2020-02-02</td>\n",
              "      <td>429</td>\n",
              "      <td>327</td>\n",
              "      <td>15</td>\n",
              "      <td>0</td>\n",
              "      <td>0</td>\n",
              "      <td>3.496503</td>\n",
              "    </tr>\n",
              "    <tr>\n",
              "      <th>12</th>\n",
              "      <td>13033</td>\n",
              "      <td>2020-02-03</td>\n",
              "      <td>490</td>\n",
              "      <td>414</td>\n",
              "      <td>15</td>\n",
              "      <td>0</td>\n",
              "      <td>0</td>\n",
              "      <td>3.061224</td>\n",
              "    </tr>\n",
              "    <tr>\n",
              "      <th>13</th>\n",
              "      <td>13034</td>\n",
              "      <td>2020-02-04</td>\n",
              "      <td>607</td>\n",
              "      <td>462</td>\n",
              "      <td>16</td>\n",
              "      <td>0</td>\n",
              "      <td>0</td>\n",
              "      <td>2.635914</td>\n",
              "    </tr>\n",
              "    <tr>\n",
              "      <th>14</th>\n",
              "      <td>13035</td>\n",
              "      <td>2020-02-05</td>\n",
              "      <td>714</td>\n",
              "      <td>522</td>\n",
              "      <td>18</td>\n",
              "      <td>1</td>\n",
              "      <td>0</td>\n",
              "      <td>2.521008</td>\n",
              "    </tr>\n",
              "    <tr>\n",
              "      <th>15</th>\n",
              "      <td>13036</td>\n",
              "      <td>2020-02-06</td>\n",
              "      <td>885</td>\n",
              "      <td>693</td>\n",
              "      <td>23</td>\n",
              "      <td>2</td>\n",
              "      <td>0</td>\n",
              "      <td>2.598870</td>\n",
              "    </tr>\n",
              "    <tr>\n",
              "      <th>16</th>\n",
              "      <td>13037</td>\n",
              "      <td>2020-02-07</td>\n",
              "      <td>1352</td>\n",
              "      <td>1001</td>\n",
              "      <td>24</td>\n",
              "      <td>2</td>\n",
              "      <td>0</td>\n",
              "      <td>1.775148</td>\n",
              "    </tr>\n",
              "    <tr>\n",
              "      <th>17</th>\n",
              "      <td>13038</td>\n",
              "      <td>2020-02-08</td>\n",
              "      <td>2097</td>\n",
              "      <td>1134</td>\n",
              "      <td>24</td>\n",
              "      <td>2</td>\n",
              "      <td>0</td>\n",
              "      <td>1.144492</td>\n",
              "    </tr>\n",
              "    <tr>\n",
              "      <th>18</th>\n",
              "      <td>13039</td>\n",
              "      <td>2020-02-09</td>\n",
              "      <td>2598</td>\n",
              "      <td>1683</td>\n",
              "      <td>27</td>\n",
              "      <td>3</td>\n",
              "      <td>0</td>\n",
              "      <td>1.039261</td>\n",
              "    </tr>\n",
              "    <tr>\n",
              "      <th>19</th>\n",
              "      <td>13040</td>\n",
              "      <td>2020-02-10</td>\n",
              "      <td>3110</td>\n",
              "      <td>2552</td>\n",
              "      <td>27</td>\n",
              "      <td>4</td>\n",
              "      <td>0</td>\n",
              "      <td>0.868167</td>\n",
              "    </tr>\n",
              "    <tr>\n",
              "      <th>20</th>\n",
              "      <td>13041</td>\n",
              "      <td>2020-02-11</td>\n",
              "      <td>4325</td>\n",
              "      <td>3535</td>\n",
              "      <td>28</td>\n",
              "      <td>4</td>\n",
              "      <td>0</td>\n",
              "      <td>0.647399</td>\n",
              "    </tr>\n",
              "    <tr>\n",
              "      <th>21</th>\n",
              "      <td>13042</td>\n",
              "      <td>2020-02-12</td>\n",
              "      <td>5624</td>\n",
              "      <td>4811</td>\n",
              "      <td>28</td>\n",
              "      <td>7</td>\n",
              "      <td>0</td>\n",
              "      <td>0.497866</td>\n",
              "    </tr>\n",
              "    <tr>\n",
              "      <th>22</th>\n",
              "      <td>13043</td>\n",
              "      <td>2020-02-13</td>\n",
              "      <td>6511</td>\n",
              "      <td>5921</td>\n",
              "      <td>28</td>\n",
              "      <td>7</td>\n",
              "      <td>0</td>\n",
              "      <td>0.430041</td>\n",
              "    </tr>\n",
              "    <tr>\n",
              "      <th>23</th>\n",
              "      <td>13044</td>\n",
              "      <td>2020-02-14</td>\n",
              "      <td>7242</td>\n",
              "      <td>6679</td>\n",
              "      <td>28</td>\n",
              "      <td>7</td>\n",
              "      <td>0</td>\n",
              "      <td>0.386634</td>\n",
              "    </tr>\n",
              "    <tr>\n",
              "      <th>24</th>\n",
              "      <td>13045</td>\n",
              "      <td>2020-02-15</td>\n",
              "      <td>7734</td>\n",
              "      <td>7148</td>\n",
              "      <td>28</td>\n",
              "      <td>9</td>\n",
              "      <td>0</td>\n",
              "      <td>0.362038</td>\n",
              "    </tr>\n",
              "    <tr>\n",
              "      <th>25</th>\n",
              "      <td>13046</td>\n",
              "      <td>2020-02-16</td>\n",
              "      <td>8161</td>\n",
              "      <td>7647</td>\n",
              "      <td>29</td>\n",
              "      <td>9</td>\n",
              "      <td>0</td>\n",
              "      <td>0.355349</td>\n",
              "    </tr>\n",
              "    <tr>\n",
              "      <th>26</th>\n",
              "      <td>13047</td>\n",
              "      <td>2020-02-17</td>\n",
              "      <td>8718</td>\n",
              "      <td>7980</td>\n",
              "      <td>30</td>\n",
              "      <td>10</td>\n",
              "      <td>0</td>\n",
              "      <td>0.344116</td>\n",
              "    </tr>\n",
              "    <tr>\n",
              "      <th>27</th>\n",
              "      <td>13048</td>\n",
              "      <td>2020-02-18</td>\n",
              "      <td>9772</td>\n",
              "      <td>8923</td>\n",
              "      <td>31</td>\n",
              "      <td>12</td>\n",
              "      <td>0</td>\n",
              "      <td>0.317233</td>\n",
              "    </tr>\n",
              "    <tr>\n",
              "      <th>28</th>\n",
              "      <td>13049</td>\n",
              "      <td>2020-02-19</td>\n",
              "      <td>11173</td>\n",
              "      <td>9973</td>\n",
              "      <td>51</td>\n",
              "      <td>16</td>\n",
              "      <td>0</td>\n",
              "      <td>0.456458</td>\n",
              "    </tr>\n",
              "    <tr>\n",
              "      <th>29</th>\n",
              "      <td>13050</td>\n",
              "      <td>2020-02-20</td>\n",
              "      <td>13202</td>\n",
              "      <td>11238</td>\n",
              "      <td>104</td>\n",
              "      <td>16</td>\n",
              "      <td>1</td>\n",
              "      <td>0.787759</td>\n",
              "    </tr>\n",
              "    <tr>\n",
              "      <th>30</th>\n",
              "      <td>13051</td>\n",
              "      <td>2020-02-21</td>\n",
              "      <td>16400</td>\n",
              "      <td>13016</td>\n",
              "      <td>204</td>\n",
              "      <td>17</td>\n",
              "      <td>2</td>\n",
              "      <td>1.243902</td>\n",
              "    </tr>\n",
              "    <tr>\n",
              "      <th>31</th>\n",
              "      <td>13052</td>\n",
              "      <td>2020-02-22</td>\n",
              "      <td>21586</td>\n",
              "      <td>15116</td>\n",
              "      <td>433</td>\n",
              "      <td>18</td>\n",
              "      <td>2</td>\n",
              "      <td>2.005930</td>\n",
              "    </tr>\n",
              "    <tr>\n",
              "      <th>32</th>\n",
              "      <td>13053</td>\n",
              "      <td>2020-02-23</td>\n",
              "      <td>26179</td>\n",
              "      <td>17520</td>\n",
              "      <td>602</td>\n",
              "      <td>18</td>\n",
              "      <td>6</td>\n",
              "      <td>2.299553</td>\n",
              "    </tr>\n",
              "    <tr>\n",
              "      <th>33</th>\n",
              "      <td>13054</td>\n",
              "      <td>2020-02-24</td>\n",
              "      <td>32756</td>\n",
              "      <td>20292</td>\n",
              "      <td>833</td>\n",
              "      <td>24</td>\n",
              "      <td>8</td>\n",
              "      <td>2.543046</td>\n",
              "    </tr>\n",
              "    <tr>\n",
              "      <th>34</th>\n",
              "      <td>13055</td>\n",
              "      <td>2020-02-25</td>\n",
              "      <td>40304</td>\n",
              "      <td>25447</td>\n",
              "      <td>977</td>\n",
              "      <td>24</td>\n",
              "      <td>12</td>\n",
              "      <td>2.424077</td>\n",
              "    </tr>\n",
              "    <tr>\n",
              "      <th>35</th>\n",
              "      <td>13056</td>\n",
              "      <td>2020-02-26</td>\n",
              "      <td>53553</td>\n",
              "      <td>31576</td>\n",
              "      <td>1261</td>\n",
              "      <td>24</td>\n",
              "      <td>12</td>\n",
              "      <td>2.354677</td>\n",
              "    </tr>\n",
              "    <tr>\n",
              "      <th>36</th>\n",
              "      <td>13057</td>\n",
              "      <td>2020-02-27</td>\n",
              "      <td>66652</td>\n",
              "      <td>39318</td>\n",
              "      <td>1766</td>\n",
              "      <td>26</td>\n",
              "      <td>13</td>\n",
              "      <td>2.649583</td>\n",
              "    </tr>\n",
              "    <tr>\n",
              "      <th>37</th>\n",
              "      <td>13058</td>\n",
              "      <td>2020-02-28</td>\n",
              "      <td>81167</td>\n",
              "      <td>48593</td>\n",
              "      <td>2337</td>\n",
              "      <td>27</td>\n",
              "      <td>13</td>\n",
              "      <td>2.879249</td>\n",
              "    </tr>\n",
              "    <tr>\n",
              "      <th>38</th>\n",
              "      <td>13059</td>\n",
              "      <td>2020-02-29</td>\n",
              "      <td>94055</td>\n",
              "      <td>55723</td>\n",
              "      <td>3150</td>\n",
              "      <td>28</td>\n",
              "      <td>17</td>\n",
              "      <td>3.349104</td>\n",
              "    </tr>\n",
              "    <tr>\n",
              "      <th>39</th>\n",
              "      <td>13060</td>\n",
              "      <td>2020-03-01</td>\n",
              "      <td>98921</td>\n",
              "      <td>61825</td>\n",
              "      <td>3736</td>\n",
              "      <td>30</td>\n",
              "      <td>18</td>\n",
              "      <td>3.776751</td>\n",
              "    </tr>\n",
              "    <tr>\n",
              "      <th>40</th>\n",
              "      <td>13061</td>\n",
              "      <td>2020-03-02</td>\n",
              "      <td>109591</td>\n",
              "      <td>71580</td>\n",
              "      <td>4212</td>\n",
              "      <td>31</td>\n",
              "      <td>22</td>\n",
              "      <td>3.843381</td>\n",
              "    </tr>\n",
              "    <tr>\n",
              "      <th>41</th>\n",
              "      <td>13062</td>\n",
              "      <td>2020-03-03</td>\n",
              "      <td>125851</td>\n",
              "      <td>85484</td>\n",
              "      <td>4812</td>\n",
              "      <td>34</td>\n",
              "      <td>28</td>\n",
              "      <td>3.823569</td>\n",
              "    </tr>\n",
              "    <tr>\n",
              "      <th>42</th>\n",
              "      <td>13063</td>\n",
              "      <td>2020-03-04</td>\n",
              "      <td>136707</td>\n",
              "      <td>102965</td>\n",
              "      <td>5328</td>\n",
              "      <td>41</td>\n",
              "      <td>32</td>\n",
              "      <td>3.897386</td>\n",
              "    </tr>\n",
              "    <tr>\n",
              "      <th>43</th>\n",
              "      <td>13064</td>\n",
              "      <td>2020-03-05</td>\n",
              "      <td>146541</td>\n",
              "      <td>118965</td>\n",
              "      <td>5766</td>\n",
              "      <td>88</td>\n",
              "      <td>35</td>\n",
              "      <td>3.934735</td>\n",
              "    </tr>\n",
              "    <tr>\n",
              "      <th>44</th>\n",
              "      <td>13065</td>\n",
              "      <td>2020-03-06</td>\n",
              "      <td>164740</td>\n",
              "      <td>136624</td>\n",
              "      <td>6284</td>\n",
              "      <td>108</td>\n",
              "      <td>42</td>\n",
              "      <td>3.814496</td>\n",
              "    </tr>\n",
              "    <tr>\n",
              "      <th>45</th>\n",
              "      <td>13066</td>\n",
              "      <td>2020-03-07</td>\n",
              "      <td>178189</td>\n",
              "      <td>151802</td>\n",
              "      <td>6767</td>\n",
              "      <td>118</td>\n",
              "      <td>44</td>\n",
              "      <td>3.797653</td>\n",
              "    </tr>\n",
              "    <tr>\n",
              "      <th>46</th>\n",
              "      <td>13067</td>\n",
              "      <td>2020-03-08</td>\n",
              "      <td>188518</td>\n",
              "      <td>162008</td>\n",
              "      <td>7134</td>\n",
              "      <td>130</td>\n",
              "      <td>50</td>\n",
              "      <td>3.784254</td>\n",
              "    </tr>\n",
              "    <tr>\n",
              "      <th>47</th>\n",
              "      <td>13068</td>\n",
              "      <td>2020-03-09</td>\n",
              "      <td>196618</td>\n",
              "      <td>171778</td>\n",
              "      <td>7382</td>\n",
              "      <td>166</td>\n",
              "      <td>51</td>\n",
              "      <td>3.754488</td>\n",
              "    </tr>\n",
              "    <tr>\n",
              "      <th>48</th>\n",
              "      <td>13069</td>\n",
              "      <td>2020-03-10</td>\n",
              "      <td>210144</td>\n",
              "      <td>184179</td>\n",
              "      <td>7513</td>\n",
              "      <td>247</td>\n",
              "      <td>54</td>\n",
              "      <td>3.575168</td>\n",
              "    </tr>\n",
              "    <tr>\n",
              "      <th>49</th>\n",
              "      <td>13070</td>\n",
              "      <td>2020-03-11</td>\n",
              "      <td>222395</td>\n",
              "      <td>196100</td>\n",
              "      <td>7755</td>\n",
              "      <td>288</td>\n",
              "      <td>60</td>\n",
              "      <td>3.487039</td>\n",
              "    </tr>\n",
              "    <tr>\n",
              "      <th>50</th>\n",
              "      <td>13071</td>\n",
              "      <td>2020-03-12</td>\n",
              "      <td>234998</td>\n",
              "      <td>209402</td>\n",
              "      <td>7869</td>\n",
              "      <td>333</td>\n",
              "      <td>66</td>\n",
              "      <td>3.348539</td>\n",
              "    </tr>\n",
              "    <tr>\n",
              "      <th>51</th>\n",
              "      <td>13072</td>\n",
              "      <td>2020-03-13</td>\n",
              "      <td>248647</td>\n",
              "      <td>222728</td>\n",
              "      <td>7979</td>\n",
              "      <td>510</td>\n",
              "      <td>67</td>\n",
              "      <td>3.208967</td>\n",
              "    </tr>\n",
              "    <tr>\n",
              "      <th>52</th>\n",
              "      <td>13073</td>\n",
              "      <td>2020-03-14</td>\n",
              "      <td>261335</td>\n",
              "      <td>235615</td>\n",
              "      <td>8086</td>\n",
              "      <td>714</td>\n",
              "      <td>72</td>\n",
              "      <td>3.094113</td>\n",
              "    </tr>\n",
              "    <tr>\n",
              "      <th>53</th>\n",
              "      <td>13074</td>\n",
              "      <td>2020-03-15</td>\n",
              "      <td>268212</td>\n",
              "      <td>243778</td>\n",
              "      <td>8126</td>\n",
              "      <td>834</td>\n",
              "      <td>75</td>\n",
              "      <td>3.029693</td>\n",
              "    </tr>\n",
              "    <tr>\n",
              "      <th>54</th>\n",
              "      <td>13075</td>\n",
              "      <td>2020-03-16</td>\n",
              "      <td>274504</td>\n",
              "      <td>251297</td>\n",
              "      <td>8236</td>\n",
              "      <td>1137</td>\n",
              "      <td>75</td>\n",
              "      <td>3.000321</td>\n",
              "    </tr>\n",
              "    <tr>\n",
              "      <th>55</th>\n",
              "      <td>13076</td>\n",
              "      <td>2020-03-17</td>\n",
              "      <td>286716</td>\n",
              "      <td>261105</td>\n",
              "      <td>8320</td>\n",
              "      <td>1401</td>\n",
              "      <td>81</td>\n",
              "      <td>2.901826</td>\n",
              "    </tr>\n",
              "    <tr>\n",
              "      <th>56</th>\n",
              "      <td>13077</td>\n",
              "      <td>2020-03-18</td>\n",
              "      <td>295647</td>\n",
              "      <td>270888</td>\n",
              "      <td>8413</td>\n",
              "      <td>1540</td>\n",
              "      <td>84</td>\n",
              "      <td>2.845623</td>\n",
              "    </tr>\n",
              "    <tr>\n",
              "      <th>57</th>\n",
              "      <td>13078</td>\n",
              "      <td>2020-03-19</td>\n",
              "      <td>307024</td>\n",
              "      <td>282555</td>\n",
              "      <td>8565</td>\n",
              "      <td>1947</td>\n",
              "      <td>91</td>\n",
              "      <td>2.789684</td>\n",
              "    </tr>\n",
              "    <tr>\n",
              "      <th>58</th>\n",
              "      <td>13079</td>\n",
              "      <td>2020-03-20</td>\n",
              "      <td>316664</td>\n",
              "      <td>292487</td>\n",
              "      <td>8652</td>\n",
              "      <td>2233</td>\n",
              "      <td>94</td>\n",
              "      <td>2.732234</td>\n",
              "    </tr>\n",
              "  </tbody>\n",
              "</table>\n",
              "</div>"
            ],
            "text/plain": [
              "       Id        date    test  ...  released  deceased  confirmed/test\n",
              "1   13022  2020-01-23      22  ...         0         0        4.545455\n",
              "4   13025  2020-01-26      51  ...         0         0        5.882353\n",
              "6   13027  2020-01-28     116  ...         0         0        3.448276\n",
              "7   13028  2020-01-29     187  ...         0         0        2.139037\n",
              "8   13029  2020-01-30     246  ...         0         0        2.439024\n",
              "9   13030  2020-01-31     312  ...         0         0        3.525641\n",
              "10  13031  2020-02-01     371  ...         0         0        3.234501\n",
              "11  13032  2020-02-02     429  ...         0         0        3.496503\n",
              "12  13033  2020-02-03     490  ...         0         0        3.061224\n",
              "13  13034  2020-02-04     607  ...         0         0        2.635914\n",
              "14  13035  2020-02-05     714  ...         1         0        2.521008\n",
              "15  13036  2020-02-06     885  ...         2         0        2.598870\n",
              "16  13037  2020-02-07    1352  ...         2         0        1.775148\n",
              "17  13038  2020-02-08    2097  ...         2         0        1.144492\n",
              "18  13039  2020-02-09    2598  ...         3         0        1.039261\n",
              "19  13040  2020-02-10    3110  ...         4         0        0.868167\n",
              "20  13041  2020-02-11    4325  ...         4         0        0.647399\n",
              "21  13042  2020-02-12    5624  ...         7         0        0.497866\n",
              "22  13043  2020-02-13    6511  ...         7         0        0.430041\n",
              "23  13044  2020-02-14    7242  ...         7         0        0.386634\n",
              "24  13045  2020-02-15    7734  ...         9         0        0.362038\n",
              "25  13046  2020-02-16    8161  ...         9         0        0.355349\n",
              "26  13047  2020-02-17    8718  ...        10         0        0.344116\n",
              "27  13048  2020-02-18    9772  ...        12         0        0.317233\n",
              "28  13049  2020-02-19   11173  ...        16         0        0.456458\n",
              "29  13050  2020-02-20   13202  ...        16         1        0.787759\n",
              "30  13051  2020-02-21   16400  ...        17         2        1.243902\n",
              "31  13052  2020-02-22   21586  ...        18         2        2.005930\n",
              "32  13053  2020-02-23   26179  ...        18         6        2.299553\n",
              "33  13054  2020-02-24   32756  ...        24         8        2.543046\n",
              "34  13055  2020-02-25   40304  ...        24        12        2.424077\n",
              "35  13056  2020-02-26   53553  ...        24        12        2.354677\n",
              "36  13057  2020-02-27   66652  ...        26        13        2.649583\n",
              "37  13058  2020-02-28   81167  ...        27        13        2.879249\n",
              "38  13059  2020-02-29   94055  ...        28        17        3.349104\n",
              "39  13060  2020-03-01   98921  ...        30        18        3.776751\n",
              "40  13061  2020-03-02  109591  ...        31        22        3.843381\n",
              "41  13062  2020-03-03  125851  ...        34        28        3.823569\n",
              "42  13063  2020-03-04  136707  ...        41        32        3.897386\n",
              "43  13064  2020-03-05  146541  ...        88        35        3.934735\n",
              "44  13065  2020-03-06  164740  ...       108        42        3.814496\n",
              "45  13066  2020-03-07  178189  ...       118        44        3.797653\n",
              "46  13067  2020-03-08  188518  ...       130        50        3.784254\n",
              "47  13068  2020-03-09  196618  ...       166        51        3.754488\n",
              "48  13069  2020-03-10  210144  ...       247        54        3.575168\n",
              "49  13070  2020-03-11  222395  ...       288        60        3.487039\n",
              "50  13071  2020-03-12  234998  ...       333        66        3.348539\n",
              "51  13072  2020-03-13  248647  ...       510        67        3.208967\n",
              "52  13073  2020-03-14  261335  ...       714        72        3.094113\n",
              "53  13074  2020-03-15  268212  ...       834        75        3.029693\n",
              "54  13075  2020-03-16  274504  ...      1137        75        3.000321\n",
              "55  13076  2020-03-17  286716  ...      1401        81        2.901826\n",
              "56  13077  2020-03-18  295647  ...      1540        84        2.845623\n",
              "57  13078  2020-03-19  307024  ...      1947        91        2.789684\n",
              "58  13079  2020-03-20  316664  ...      2233        94        2.732234\n",
              "\n",
              "[55 rows x 8 columns]"
            ]
          },
          "metadata": {
            "tags": []
          },
          "execution_count": 44
        }
      ]
    },
    {
      "cell_type": "code",
      "metadata": {
        "id": "gEEaymAiWEoP",
        "colab_type": "code",
        "colab": {
          "base_uri": "https://localhost:8080/",
          "height": 254
        },
        "outputId": "633bc320-6b04-4556-ab2c-c33e0137a08a"
      },
      "source": [
        "new_korea_dropna_df.corr()"
      ],
      "execution_count": 45,
      "outputs": [
        {
          "output_type": "execute_result",
          "data": {
            "text/html": [
              "<div>\n",
              "<style scoped>\n",
              "    .dataframe tbody tr th:only-of-type {\n",
              "        vertical-align: middle;\n",
              "    }\n",
              "\n",
              "    .dataframe tbody tr th {\n",
              "        vertical-align: top;\n",
              "    }\n",
              "\n",
              "    .dataframe thead th {\n",
              "        text-align: right;\n",
              "    }\n",
              "</style>\n",
              "<table border=\"1\" class=\"dataframe\">\n",
              "  <thead>\n",
              "    <tr style=\"text-align: right;\">\n",
              "      <th></th>\n",
              "      <th>Id</th>\n",
              "      <th>test</th>\n",
              "      <th>negative</th>\n",
              "      <th>confirmed</th>\n",
              "      <th>released</th>\n",
              "      <th>deceased</th>\n",
              "      <th>confirmed/test</th>\n",
              "    </tr>\n",
              "  </thead>\n",
              "  <tbody>\n",
              "    <tr>\n",
              "      <th>Id</th>\n",
              "      <td>1.000000</td>\n",
              "      <td>0.906294</td>\n",
              "      <td>0.881730</td>\n",
              "      <td>0.899703</td>\n",
              "      <td>0.640968</td>\n",
              "      <td>0.877213</td>\n",
              "      <td>0.218203</td>\n",
              "    </tr>\n",
              "    <tr>\n",
              "      <th>test</th>\n",
              "      <td>0.906294</td>\n",
              "      <td>1.000000</td>\n",
              "      <td>0.995482</td>\n",
              "      <td>0.986690</td>\n",
              "      <td>0.792581</td>\n",
              "      <td>0.994638</td>\n",
              "      <td>0.423210</td>\n",
              "    </tr>\n",
              "    <tr>\n",
              "      <th>negative</th>\n",
              "      <td>0.881730</td>\n",
              "      <td>0.995482</td>\n",
              "      <td>1.000000</td>\n",
              "      <td>0.974470</td>\n",
              "      <td>0.822694</td>\n",
              "      <td>0.998546</td>\n",
              "      <td>0.388813</td>\n",
              "    </tr>\n",
              "    <tr>\n",
              "      <th>confirmed</th>\n",
              "      <td>0.899703</td>\n",
              "      <td>0.986690</td>\n",
              "      <td>0.974470</td>\n",
              "      <td>1.000000</td>\n",
              "      <td>0.695639</td>\n",
              "      <td>0.971267</td>\n",
              "      <td>0.488020</td>\n",
              "    </tr>\n",
              "    <tr>\n",
              "      <th>released</th>\n",
              "      <td>0.640968</td>\n",
              "      <td>0.792581</td>\n",
              "      <td>0.822694</td>\n",
              "      <td>0.695639</td>\n",
              "      <td>1.000000</td>\n",
              "      <td>0.833211</td>\n",
              "      <td>0.148051</td>\n",
              "    </tr>\n",
              "    <tr>\n",
              "      <th>deceased</th>\n",
              "      <td>0.877213</td>\n",
              "      <td>0.994638</td>\n",
              "      <td>0.998546</td>\n",
              "      <td>0.971267</td>\n",
              "      <td>0.833211</td>\n",
              "      <td>1.000000</td>\n",
              "      <td>0.402283</td>\n",
              "    </tr>\n",
              "    <tr>\n",
              "      <th>confirmed/test</th>\n",
              "      <td>0.218203</td>\n",
              "      <td>0.423210</td>\n",
              "      <td>0.388813</td>\n",
              "      <td>0.488020</td>\n",
              "      <td>0.148051</td>\n",
              "      <td>0.402283</td>\n",
              "      <td>1.000000</td>\n",
              "    </tr>\n",
              "  </tbody>\n",
              "</table>\n",
              "</div>"
            ],
            "text/plain": [
              "                      Id      test  ...  deceased  confirmed/test\n",
              "Id              1.000000  0.906294  ...  0.877213        0.218203\n",
              "test            0.906294  1.000000  ...  0.994638        0.423210\n",
              "negative        0.881730  0.995482  ...  0.998546        0.388813\n",
              "confirmed       0.899703  0.986690  ...  0.971267        0.488020\n",
              "released        0.640968  0.792581  ...  0.833211        0.148051\n",
              "deceased        0.877213  0.994638  ...  1.000000        0.402283\n",
              "confirmed/test  0.218203  0.423210  ...  0.402283        1.000000\n",
              "\n",
              "[7 rows x 7 columns]"
            ]
          },
          "metadata": {
            "tags": []
          },
          "execution_count": 45
        }
      ]
    },
    {
      "cell_type": "code",
      "metadata": {
        "id": "JS0jCUNxXM6S",
        "colab_type": "code",
        "colab": {
          "base_uri": "https://localhost:8080/",
          "height": 1000
        },
        "outputId": "ad829e4e-db92-4438-a1aa-fc23fe887866"
      },
      "source": [
        "# scatterplot matrix with histogram only for continuous variables\n",
        "\n",
        "sns.pairplot(new_korea_dropna_df, diag_kind='hist')\n",
        "\n",
        "plt.show()"
      ],
      "execution_count": 58,
      "outputs": [
        {
          "output_type": "display_data",
          "data": {
            "image/png": "[encoded data removed]",
            "text/plain": [
              "<Figure size 1260x1260 with 56 Axes>"
            ]
          },
          "metadata": {
            "tags": []
          }
        }
      ]
    },
    {
      "cell_type": "markdown",
      "metadata": {
        "id": "OBQOn3TmR9ds",
        "colab_type": "text"
      },
      "source": [
        "이 아래쪽으로 시계열분석 ARIMA모형을 도입해보려 했지만, 데이터 수가 부족하여 중간에 그만 두었음"
      ]
    },
    {
      "cell_type": "code",
      "metadata": {
        "id": "6Gd5MT4THiL5",
        "colab_type": "code",
        "colab": {}
      },
      "source": [
        "new_korea_df['date'] = pd.to_datetime(new_korea_df['date'], format='%Y-%m-%d')\n",
        "indexed_df = new_korea_df.set_index('date')"
      ],
      "execution_count": 0,
      "outputs": []
    },
    {
      "cell_type": "code",
      "metadata": {
        "id": "IwaYOlO9IZbE",
        "colab_type": "code",
        "colab": {}
      },
      "source": [
        "ts_test = indexed_df['test']\n",
        "ts_negative = indexed_df['negative']\n",
        "ts_confirmed = indexed_df['confirmed']\n",
        "ts_released = indexed_df['released']\n",
        "ts_deceased = indexed_df['deceased']\n",
        "ts_confirmed_test = indexed_df['confirmed/test']"
      ],
      "execution_count": 0,
      "outputs": []
    },
    {
      "cell_type": "code",
      "metadata": {
        "id": "eUIr-nzLINOQ",
        "colab_type": "code",
        "outputId": "d02a96e0-1215-4e68-e5e5-49e3f9fb81a0",
        "colab": {
          "base_uri": "https://localhost:8080/",
          "height": 392
        }
      },
      "source": [
        "#검사자 수\n",
        "plt.plot(ts_test.index.to_pydatetime(), ts_test.values)"
      ],
      "execution_count": 0,
      "outputs": [
        {
          "output_type": "execute_result",
          "data": {
            "text/plain": [
              "[<matplotlib.lines.Line2D at 0x7f0b328ae780>]"
            ]
          },
          "metadata": {
            "tags": []
          },
          "execution_count": 39
        },
        {
          "output_type": "display_data",
          "data": {
            "image/png": "[encoded data removed]",
            "text/plain": [
              "<Figure size 1080x432 with 1 Axes>"
            ]
          },
          "metadata": {
            "tags": []
          }
        }
      ]
    },
    {
      "cell_type": "code",
      "metadata": {
        "id": "eUtuRpWPI1Oe",
        "colab_type": "code",
        "outputId": "722b2df7-f058-46ee-8488-51840bfd77b4",
        "colab": {
          "base_uri": "https://localhost:8080/",
          "height": 392
        }
      },
      "source": [
        "#음성\n",
        "plt.plot(ts_negative.index.to_pydatetime(), ts_negative.values)"
      ],
      "execution_count": 0,
      "outputs": [
        {
          "output_type": "execute_result",
          "data": {
            "text/plain": [
              "[<matplotlib.lines.Line2D at 0x7f0b327b9128>]"
            ]
          },
          "metadata": {
            "tags": []
          },
          "execution_count": 40
        },
        {
          "output_type": "display_data",
          "data": {
            "image/png": "[encoded data removed]",
            "text/plain": [
              "<Figure size 1080x432 with 1 Axes>"
            ]
          },
          "metadata": {
            "tags": []
          }
        }
      ]
    },
    {
      "cell_type": "code",
      "metadata": {
        "id": "wHkmHFQmJIIe",
        "colab_type": "code",
        "outputId": "1d529e83-8e5d-4e71-9954-46c0bcf740ba",
        "colab": {
          "base_uri": "https://localhost:8080/",
          "height": 392
        }
      },
      "source": [
        "#확진자\n",
        "plt.plot(ts_confirmed.index.to_pydatetime(), ts_confirmed.values)"
      ],
      "execution_count": 0,
      "outputs": [
        {
          "output_type": "execute_result",
          "data": {
            "text/plain": [
              "[<matplotlib.lines.Line2D at 0x7f0b3277a7b8>]"
            ]
          },
          "metadata": {
            "tags": []
          },
          "execution_count": 44
        },
        {
          "output_type": "display_data",
          "data": {
            "image/png": "[encoded data removed]",
            "text/plain": [
              "<Figure size 1080x432 with 1 Axes>"
            ]
          },
          "metadata": {
            "tags": []
          }
        }
      ]
    },
    {
      "cell_type": "code",
      "metadata": {
        "id": "20CNEuyJJUSz",
        "colab_type": "code",
        "outputId": "4a8f5272-a55d-4e79-ff31-ee042ec39a5b",
        "colab": {
          "base_uri": "https://localhost:8080/",
          "height": 392
        }
      },
      "source": [
        "#격리해제\n",
        "plt.plot(ts_released.index.to_pydatetime(), ts_released.values)"
      ],
      "execution_count": 0,
      "outputs": [
        {
          "output_type": "execute_result",
          "data": {
            "text/plain": [
              "[<matplotlib.lines.Line2D at 0x7f0b327077b8>]"
            ]
          },
          "metadata": {
            "tags": []
          },
          "execution_count": 45
        },
        {
          "output_type": "display_data",
          "data": {
            "image/png": "[encoded data removed]",
            "text/plain": [
              "<Figure size 1080x432 with 1 Axes>"
            ]
          },
          "metadata": {
            "tags": []
          }
        }
      ]
    },
    {
      "cell_type": "code",
      "metadata": {
        "id": "IrJ2eB5kJcAT",
        "colab_type": "code",
        "outputId": "84e6101f-3aeb-4759-f0e0-6ee76ab62b46",
        "colab": {
          "base_uri": "https://localhost:8080/",
          "height": 392
        }
      },
      "source": [
        "#사망자\n",
        "plt.plot(ts_deceased.index.to_pydatetime(), ts_deceased.values)"
      ],
      "execution_count": 0,
      "outputs": [
        {
          "output_type": "execute_result",
          "data": {
            "text/plain": [
              "[<matplotlib.lines.Line2D at 0x7f0b326f06d8>]"
            ]
          },
          "metadata": {
            "tags": []
          },
          "execution_count": 46
        },
        {
          "output_type": "display_data",
          "data": {
            "image/png": "[encoded data removed]",
            "text/plain": [
              "<Figure size 1080x432 with 1 Axes>"
            ]
          },
          "metadata": {
            "tags": []
          }
        }
      ]
    },
    {
      "cell_type": "code",
      "metadata": {
        "id": "Km_MI4W-Jhuz",
        "colab_type": "code",
        "outputId": "8e8d1375-f73b-4c3e-897c-0cefc055f0bf",
        "colab": {
          "base_uri": "https://localhost:8080/",
          "height": 392
        }
      },
      "source": [
        "#확진자/검사자\n",
        "plt.plot(ts_confirmed_test.index.to_pydatetime(), ts_confirmed_test.values)"
      ],
      "execution_count": 0,
      "outputs": [
        {
          "output_type": "execute_result",
          "data": {
            "text/plain": [
              "[<matplotlib.lines.Line2D at 0x7f0b325ebc18>]"
            ]
          },
          "metadata": {
            "tags": []
          },
          "execution_count": 48
        },
        {
          "output_type": "display_data",
          "data": {
            "image/png": "[encoded data removed]",
            "text/plain": [
              "<Figure size 1080x432 with 1 Axes>"
            ]
          },
          "metadata": {
            "tags": []
          }
        }
      ]
    },
    {
      "cell_type": "code",
      "metadata": {
        "id": "mRA72QEVJxBf",
        "colab_type": "code",
        "colab": {}
      },
      "source": [
        "ts_confirmed_week = ts_confirmed.resample('W').mean()"
      ],
      "execution_count": 0,
      "outputs": []
    },
    {
      "cell_type": "code",
      "metadata": {
        "id": "YM8UZ68mJ5Rj",
        "colab_type": "code",
        "outputId": "5d8f317e-5586-4910-f467-e3fb8895ccc6",
        "colab": {
          "base_uri": "https://localhost:8080/",
          "height": 392
        }
      },
      "source": [
        "plt.plot(ts_confirmed_week.index.to_pydatetime(), ts_confirmed_week.values)"
      ],
      "execution_count": 0,
      "outputs": [
        {
          "output_type": "execute_result",
          "data": {
            "text/plain": [
              "[<matplotlib.lines.Line2D at 0x7f0b32557048>]"
            ]
          },
          "metadata": {
            "tags": []
          },
          "execution_count": 50
        },
        {
          "output_type": "display_data",
          "data": {
            "image/png": "[encoded data removed]",
            "text/plain": [
              "<Figure size 1080x432 with 1 Axes>"
            ]
          },
          "metadata": {
            "tags": []
          }
        }
      ]
    },
    {
      "cell_type": "code",
      "metadata": {
        "id": "VGp8gAjkKHR7",
        "colab_type": "code",
        "colab": {}
      },
      "source": [
        "def check_stationarity(timeseries):\n",
        "    \n",
        "    #Determing rolling statistics\n",
        "    rolling_mean = timeseries.rolling(window=52,center=False).mean() \n",
        "    rolling_std = timeseries.rolling(window=52,center=False).std()\n",
        "\n",
        "    #Plot rolling statistics:\n",
        "    original = plt.plot(timeseries.index.to_pydatetime(), timeseries.values, color='blue',label='Original')\n",
        "    mean = plt.plot(rolling_mean.index.to_pydatetime(), rolling_mean.values, color='red', label='Rolling Mean')\n",
        "    std = plt.plot(rolling_std.index.to_pydatetime(), rolling_std.values, color='black', label = 'Rolling Std')\n",
        "    plt.legend(loc='best')\n",
        "    plt.title('Rolling Mean & Standard Deviation')\n",
        "    plt.show(block=False)\n",
        "    \n",
        "    #Perform Dickey-Fuller test:\n",
        "    print ('Results of Dickey-Fuller Test:')\n",
        "    dickey_fuller_test = adfuller(timeseries, autolag='AIC')\n",
        "    dfresults = pd.Series(dickey_fuller_test[0:4], index=['Test Statistic','p-value','#Lags Used','Number of Observations Used'])\n",
        "    for key,value in dickey_fuller_test[4].items():\n",
        "        dfresults['Critical Value (%s)'%key] = value\n",
        "    print (dfresults)"
      ],
      "execution_count": 0,
      "outputs": []
    },
    {
      "cell_type": "code",
      "metadata": {
        "id": "WNmzMgRGKJcW",
        "colab_type": "code",
        "outputId": "1657362c-2477-4fa0-9ee9-dc126b76920c",
        "colab": {
          "base_uri": "https://localhost:8080/",
          "height": 549
        }
      },
      "source": [
        "check_stationarity(ts_confirmed)"
      ],
      "execution_count": 0,
      "outputs": [
        {
          "output_type": "display_data",
          "data": {
            "image/png": "[encoded data removed]",
            "text/plain": [
              "<Figure size 1080x432 with 1 Axes>"
            ]
          },
          "metadata": {
            "tags": []
          }
        },
        {
          "output_type": "stream",
          "text": [
            "Results of Dickey-Fuller Test:\n",
            "Test Statistic                 -1.101136\n",
            "p-value                         0.714619\n",
            "#Lags Used                      1.000000\n",
            "Number of Observations Used    57.000000\n",
            "Critical Value (1%)            -3.550670\n",
            "Critical Value (5%)            -2.913766\n",
            "Critical Value (10%)           -2.594624\n",
            "dtype: float64\n"
          ],
          "name": "stdout"
        }
      ]
    }
  ]
}
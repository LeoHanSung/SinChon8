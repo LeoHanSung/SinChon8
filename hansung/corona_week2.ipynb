{
 "nbformat": 4,
 "nbformat_minor": 0,
 "metadata": {
  "kernelspec": {
   "language": "python",
   "display_name": "Python 3",
   "name": "python3"
  },
  "language_info": {
   "pygments_lexer": "ipython3",
   "nbconvert_exporter": "python",
   "version": "3.6.4",
   "file_extension": ".py",
   "codemirror_mode": {
    "name": "ipython",
    "version": 3
   },
   "name": "python",
   "mimetype": "text/x-python"
  },
  "colab": {
   "name": "kernel13b39ff87f.ipynb",
   "provenance": [],
   "include_colab_link": true
  }
 },
 "cells": [
  {
   "cell_type": "markdown",
   "metadata": {
    "id": "view-in-github",
    "colab_type": "text"
   },
   "source": [
    "<a href=\"https://colab.research.google.com/github/LeoHanSung/SinChon8/blob/master/hansung/corona_week2.ipynb\" target=\"_parent\"><img src=\"https://colab.research.google.com/assets/colab-badge.svg\" alt=\"Open In Colab\"/></a>"
   ]
  },
  {
   "cell_type": "markdown",
   "metadata": {
    "id": "B7StyMiS30AP",
    "colab_type": "text"
   },
   "source": [
    "hansung/corona_week2.ipynb\n"
   ]
  },
  {
   "cell_type": "code",
   "metadata": {
    "_uuid": "8f2839f25d086af736a60e9eeb907d3b93b6e0e5",
    "_cell_guid": "b1076dfc-b9ad-4769-8c92-a6c4dae69d19",
    "trusted": true,
    "id": "EGaL-Xx-3sg7",
    "colab_type": "code",
    "colab": {}
   },
   "source": [
    "# This Python 3 environment comes with many helpful analytics libraries installed\n",
    "# It is defined by the kaggle/python docker image: https://github.com/kaggle/docker-python\n",
    "# For example, here's several helpful packages to load in \n",
    "\n",
    "import numpy as np # linear algebra\n",
    "import pandas as pd # data processing, CSV file I/O (e.g. pd.read_csv)\n",
    "\n",
    "# Input data files are available in the \"../input/\" directory.\n",
    "# For example, running this (by clicking run or pressing Shift+Enter) will list all files under the input directory\n",
    "\n",
    "import os\n",
    "for dirname, _, filenames in os.walk('/kaggle/input'):\n",
    "    for filename in filenames:\n",
    "        print(os.path.join(dirname, filename))\n",
    "\n",
    "# Any results you write to the current directory are saved as output."
   ],
   "execution_count": 0,
   "outputs": []
  },
  {
   "cell_type": "code",
   "metadata": {
    "trusted": true,
    "id": "Rxs2oIMI3shE",
    "colab_type": "code",
    "colab": {}
   },
   "source": [
    "import pandas as pd\n",
    "from pandas import Series\n",
    "import numpy as np\n",
    "from keras import optimizers\n",
    "#from keras.models import Sequential, Model\n",
    "#from keras.layers import Dense,Input\n",
    "from keras import backend as K\n",
    "\n",
    "from tensorflow.python.keras.layers import Input, Dense\n",
    "from tensorflow.python.keras.models import Sequential, Model"
   ],
   "execution_count": 1,
   "outputs": [
    {
     "name": "stderr",
     "output_type": "stream",
     "text": [
      "Using TensorFlow backend.\n"
     ]
    },
    {
     "ename": "ImportError",
     "evalue": "Traceback (most recent call last):\n  File \"C:\\Users\\leoha\\anaconda3\\lib\\site-packages\\tensorflow\\python\\pywrap_tensorflow.py\", line 58, in <module>\n    from tensorflow.python.pywrap_tensorflow_internal import *\n  File \"C:\\Users\\leoha\\anaconda3\\lib\\site-packages\\tensorflow\\python\\pywrap_tensorflow_internal.py\", line 28, in <module>\n    _pywrap_tensorflow_internal = swig_import_helper()\n  File \"C:\\Users\\leoha\\anaconda3\\lib\\site-packages\\tensorflow\\python\\pywrap_tensorflow_internal.py\", line 24, in swig_import_helper\n    _mod = imp.load_module('_pywrap_tensorflow_internal', fp, pathname, description)\n  File \"C:\\Users\\leoha\\anaconda3\\lib\\imp.py\", line 242, in load_module\n    return load_dynamic(name, filename, file)\n  File \"C:\\Users\\leoha\\anaconda3\\lib\\imp.py\", line 342, in load_dynamic\n    return _load(spec)\nImportError: DLL load failed: 지정된 모듈을 찾을 수 없습니다.\n\n\nFailed to load the native TensorFlow runtime.\n\nSee https://www.tensorflow.org/install/errors\n\nfor some common reasons and solutions.  Include the entire stack trace\nabove this error message when asking for help.",
     "output_type": "error",
     "traceback": [
      "\u001B[1;31m---------------------------------------------------------------------------\u001B[0m",
      "\u001B[1;31mImportError\u001B[0m                               Traceback (most recent call last)",
      "\u001B[1;32m~\\anaconda3\\lib\\site-packages\\tensorflow\\python\\pywrap_tensorflow.py\u001B[0m in \u001B[0;36m<module>\u001B[1;34m\u001B[0m\n\u001B[0;32m     57\u001B[0m \u001B[1;33m\u001B[0m\u001B[0m\n\u001B[1;32m---> 58\u001B[1;33m   \u001B[1;32mfrom\u001B[0m \u001B[0mtensorflow\u001B[0m\u001B[1;33m.\u001B[0m\u001B[0mpython\u001B[0m\u001B[1;33m.\u001B[0m\u001B[0mpywrap_tensorflow_internal\u001B[0m \u001B[1;32mimport\u001B[0m \u001B[1;33m*\u001B[0m\u001B[1;33m\u001B[0m\u001B[1;33m\u001B[0m\u001B[0m\n\u001B[0m\u001B[0;32m     59\u001B[0m \u001B[1;33m\u001B[0m\u001B[0m\n",
      "\u001B[1;32m~\\anaconda3\\lib\\site-packages\\tensorflow\\python\\pywrap_tensorflow_internal.py\u001B[0m in \u001B[0;36m<module>\u001B[1;34m\u001B[0m\n\u001B[0;32m     27\u001B[0m             \u001B[1;32mreturn\u001B[0m \u001B[0m_mod\u001B[0m\u001B[1;33m\u001B[0m\u001B[1;33m\u001B[0m\u001B[0m\n\u001B[1;32m---> 28\u001B[1;33m     \u001B[0m_pywrap_tensorflow_internal\u001B[0m \u001B[1;33m=\u001B[0m \u001B[0mswig_import_helper\u001B[0m\u001B[1;33m(\u001B[0m\u001B[1;33m)\u001B[0m\u001B[1;33m\u001B[0m\u001B[1;33m\u001B[0m\u001B[0m\n\u001B[0m\u001B[0;32m     29\u001B[0m     \u001B[1;32mdel\u001B[0m \u001B[0mswig_import_helper\u001B[0m\u001B[1;33m\u001B[0m\u001B[1;33m\u001B[0m\u001B[0m\n",
      "\u001B[1;32m~\\anaconda3\\lib\\site-packages\\tensorflow\\python\\pywrap_tensorflow_internal.py\u001B[0m in \u001B[0;36mswig_import_helper\u001B[1;34m()\u001B[0m\n\u001B[0;32m     23\u001B[0m             \u001B[1;32mtry\u001B[0m\u001B[1;33m:\u001B[0m\u001B[1;33m\u001B[0m\u001B[1;33m\u001B[0m\u001B[0m\n\u001B[1;32m---> 24\u001B[1;33m                 \u001B[0m_mod\u001B[0m \u001B[1;33m=\u001B[0m \u001B[0mimp\u001B[0m\u001B[1;33m.\u001B[0m\u001B[0mload_module\u001B[0m\u001B[1;33m(\u001B[0m\u001B[1;34m'_pywrap_tensorflow_internal'\u001B[0m\u001B[1;33m,\u001B[0m \u001B[0mfp\u001B[0m\u001B[1;33m,\u001B[0m \u001B[0mpathname\u001B[0m\u001B[1;33m,\u001B[0m \u001B[0mdescription\u001B[0m\u001B[1;33m)\u001B[0m\u001B[1;33m\u001B[0m\u001B[1;33m\u001B[0m\u001B[0m\n\u001B[0m\u001B[0;32m     25\u001B[0m             \u001B[1;32mfinally\u001B[0m\u001B[1;33m:\u001B[0m\u001B[1;33m\u001B[0m\u001B[1;33m\u001B[0m\u001B[0m\n",
      "\u001B[1;32m~\\anaconda3\\lib\\imp.py\u001B[0m in \u001B[0;36mload_module\u001B[1;34m(name, file, filename, details)\u001B[0m\n\u001B[0;32m    241\u001B[0m         \u001B[1;32melse\u001B[0m\u001B[1;33m:\u001B[0m\u001B[1;33m\u001B[0m\u001B[1;33m\u001B[0m\u001B[0m\n\u001B[1;32m--> 242\u001B[1;33m             \u001B[1;32mreturn\u001B[0m \u001B[0mload_dynamic\u001B[0m\u001B[1;33m(\u001B[0m\u001B[0mname\u001B[0m\u001B[1;33m,\u001B[0m \u001B[0mfilename\u001B[0m\u001B[1;33m,\u001B[0m \u001B[0mfile\u001B[0m\u001B[1;33m)\u001B[0m\u001B[1;33m\u001B[0m\u001B[1;33m\u001B[0m\u001B[0m\n\u001B[0m\u001B[0;32m    243\u001B[0m     \u001B[1;32melif\u001B[0m \u001B[0mtype_\u001B[0m \u001B[1;33m==\u001B[0m \u001B[0mPKG_DIRECTORY\u001B[0m\u001B[1;33m:\u001B[0m\u001B[1;33m\u001B[0m\u001B[1;33m\u001B[0m\u001B[0m\n",
      "\u001B[1;32m~\\anaconda3\\lib\\imp.py\u001B[0m in \u001B[0;36mload_dynamic\u001B[1;34m(name, path, file)\u001B[0m\n\u001B[0;32m    341\u001B[0m             name=name, loader=loader, origin=path)\n\u001B[1;32m--> 342\u001B[1;33m         \u001B[1;32mreturn\u001B[0m \u001B[0m_load\u001B[0m\u001B[1;33m(\u001B[0m\u001B[0mspec\u001B[0m\u001B[1;33m)\u001B[0m\u001B[1;33m\u001B[0m\u001B[1;33m\u001B[0m\u001B[0m\n\u001B[0m\u001B[0;32m    343\u001B[0m \u001B[1;33m\u001B[0m\u001B[0m\n",
      "\u001B[1;31mImportError\u001B[0m: DLL load failed: 지정된 모듈을 찾을 수 없습니다.",
      "\nDuring handling of the above exception, another exception occurred:\n",
      "\u001B[1;31mImportError\u001B[0m                               Traceback (most recent call last)",
      "\u001B[1;32m<ipython-input-1-bf29e153e68b>\u001B[0m in \u001B[0;36m<module>\u001B[1;34m\u001B[0m\n\u001B[0;32m      2\u001B[0m \u001B[1;32mfrom\u001B[0m \u001B[0mpandas\u001B[0m \u001B[1;32mimport\u001B[0m \u001B[0mSeries\u001B[0m\u001B[1;33m\u001B[0m\u001B[1;33m\u001B[0m\u001B[0m\n\u001B[0;32m      3\u001B[0m \u001B[1;32mimport\u001B[0m \u001B[0mnumpy\u001B[0m \u001B[1;32mas\u001B[0m \u001B[0mnp\u001B[0m\u001B[1;33m\u001B[0m\u001B[1;33m\u001B[0m\u001B[0m\n\u001B[1;32m----> 4\u001B[1;33m \u001B[1;32mfrom\u001B[0m \u001B[0mkeras\u001B[0m \u001B[1;32mimport\u001B[0m \u001B[0moptimizers\u001B[0m\u001B[1;33m\u001B[0m\u001B[1;33m\u001B[0m\u001B[0m\n\u001B[0m\u001B[0;32m      5\u001B[0m \u001B[1;31m#from keras.models import Sequential, Model\u001B[0m\u001B[1;33m\u001B[0m\u001B[1;33m\u001B[0m\u001B[1;33m\u001B[0m\u001B[0m\n\u001B[0;32m      6\u001B[0m \u001B[1;31m#from keras.layers import Dense,Input\u001B[0m\u001B[1;33m\u001B[0m\u001B[1;33m\u001B[0m\u001B[1;33m\u001B[0m\u001B[0m\n",
      "\u001B[1;32m~\\anaconda3\\lib\\site-packages\\keras\\__init__.py\u001B[0m in \u001B[0;36m<module>\u001B[1;34m\u001B[0m\n\u001B[0;32m      1\u001B[0m \u001B[1;32mfrom\u001B[0m \u001B[0m__future__\u001B[0m \u001B[1;32mimport\u001B[0m \u001B[0mabsolute_import\u001B[0m\u001B[1;33m\u001B[0m\u001B[1;33m\u001B[0m\u001B[0m\n\u001B[0;32m      2\u001B[0m \u001B[1;33m\u001B[0m\u001B[0m\n\u001B[1;32m----> 3\u001B[1;33m \u001B[1;32mfrom\u001B[0m \u001B[1;33m.\u001B[0m \u001B[1;32mimport\u001B[0m \u001B[0mutils\u001B[0m\u001B[1;33m\u001B[0m\u001B[1;33m\u001B[0m\u001B[0m\n\u001B[0m\u001B[0;32m      4\u001B[0m \u001B[1;32mfrom\u001B[0m \u001B[1;33m.\u001B[0m \u001B[1;32mimport\u001B[0m \u001B[0mactivations\u001B[0m\u001B[1;33m\u001B[0m\u001B[1;33m\u001B[0m\u001B[0m\n\u001B[0;32m      5\u001B[0m \u001B[1;32mfrom\u001B[0m \u001B[1;33m.\u001B[0m \u001B[1;32mimport\u001B[0m \u001B[0mapplications\u001B[0m\u001B[1;33m\u001B[0m\u001B[1;33m\u001B[0m\u001B[0m\n",
      "\u001B[1;32m~\\anaconda3\\lib\\site-packages\\keras\\utils\\__init__.py\u001B[0m in \u001B[0;36m<module>\u001B[1;34m\u001B[0m\n\u001B[0;32m      4\u001B[0m \u001B[1;32mfrom\u001B[0m \u001B[1;33m.\u001B[0m \u001B[1;32mimport\u001B[0m \u001B[0mdata_utils\u001B[0m\u001B[1;33m\u001B[0m\u001B[1;33m\u001B[0m\u001B[0m\n\u001B[0;32m      5\u001B[0m \u001B[1;32mfrom\u001B[0m \u001B[1;33m.\u001B[0m \u001B[1;32mimport\u001B[0m \u001B[0mio_utils\u001B[0m\u001B[1;33m\u001B[0m\u001B[1;33m\u001B[0m\u001B[0m\n\u001B[1;32m----> 6\u001B[1;33m \u001B[1;32mfrom\u001B[0m \u001B[1;33m.\u001B[0m \u001B[1;32mimport\u001B[0m \u001B[0mconv_utils\u001B[0m\u001B[1;33m\u001B[0m\u001B[1;33m\u001B[0m\u001B[0m\n\u001B[0m\u001B[0;32m      7\u001B[0m \u001B[1;32mfrom\u001B[0m \u001B[1;33m.\u001B[0m \u001B[1;32mimport\u001B[0m \u001B[0mlosses_utils\u001B[0m\u001B[1;33m\u001B[0m\u001B[1;33m\u001B[0m\u001B[0m\n\u001B[0;32m      8\u001B[0m \u001B[1;32mfrom\u001B[0m \u001B[1;33m.\u001B[0m \u001B[1;32mimport\u001B[0m \u001B[0mmetrics_utils\u001B[0m\u001B[1;33m\u001B[0m\u001B[1;33m\u001B[0m\u001B[0m\n",
      "\u001B[1;32m~\\anaconda3\\lib\\site-packages\\keras\\utils\\conv_utils.py\u001B[0m in \u001B[0;36m<module>\u001B[1;34m\u001B[0m\n\u001B[0;32m      7\u001B[0m \u001B[1;32mfrom\u001B[0m \u001B[0msix\u001B[0m\u001B[1;33m.\u001B[0m\u001B[0mmoves\u001B[0m \u001B[1;32mimport\u001B[0m \u001B[0mrange\u001B[0m\u001B[1;33m\u001B[0m\u001B[1;33m\u001B[0m\u001B[0m\n\u001B[0;32m      8\u001B[0m \u001B[1;32mimport\u001B[0m \u001B[0mnumpy\u001B[0m \u001B[1;32mas\u001B[0m \u001B[0mnp\u001B[0m\u001B[1;33m\u001B[0m\u001B[1;33m\u001B[0m\u001B[0m\n\u001B[1;32m----> 9\u001B[1;33m \u001B[1;32mfrom\u001B[0m \u001B[1;33m.\u001B[0m\u001B[1;33m.\u001B[0m \u001B[1;32mimport\u001B[0m \u001B[0mbackend\u001B[0m \u001B[1;32mas\u001B[0m \u001B[0mK\u001B[0m\u001B[1;33m\u001B[0m\u001B[1;33m\u001B[0m\u001B[0m\n\u001B[0m\u001B[0;32m     10\u001B[0m \u001B[1;33m\u001B[0m\u001B[0m\n\u001B[0;32m     11\u001B[0m \u001B[1;33m\u001B[0m\u001B[0m\n",
      "\u001B[1;32m~\\anaconda3\\lib\\site-packages\\keras\\backend\\__init__.py\u001B[0m in \u001B[0;36m<module>\u001B[1;34m\u001B[0m\n\u001B[1;32m----> 1\u001B[1;33m \u001B[1;32mfrom\u001B[0m \u001B[1;33m.\u001B[0m\u001B[0mload_backend\u001B[0m \u001B[1;32mimport\u001B[0m \u001B[0mepsilon\u001B[0m\u001B[1;33m\u001B[0m\u001B[1;33m\u001B[0m\u001B[0m\n\u001B[0m\u001B[0;32m      2\u001B[0m \u001B[1;32mfrom\u001B[0m \u001B[1;33m.\u001B[0m\u001B[0mload_backend\u001B[0m \u001B[1;32mimport\u001B[0m \u001B[0mset_epsilon\u001B[0m\u001B[1;33m\u001B[0m\u001B[1;33m\u001B[0m\u001B[0m\n\u001B[0;32m      3\u001B[0m \u001B[1;32mfrom\u001B[0m \u001B[1;33m.\u001B[0m\u001B[0mload_backend\u001B[0m \u001B[1;32mimport\u001B[0m \u001B[0mfloatx\u001B[0m\u001B[1;33m\u001B[0m\u001B[1;33m\u001B[0m\u001B[0m\n\u001B[0;32m      4\u001B[0m \u001B[1;32mfrom\u001B[0m \u001B[1;33m.\u001B[0m\u001B[0mload_backend\u001B[0m \u001B[1;32mimport\u001B[0m \u001B[0mset_floatx\u001B[0m\u001B[1;33m\u001B[0m\u001B[1;33m\u001B[0m\u001B[0m\n\u001B[0;32m      5\u001B[0m \u001B[1;32mfrom\u001B[0m \u001B[1;33m.\u001B[0m\u001B[0mload_backend\u001B[0m \u001B[1;32mimport\u001B[0m \u001B[0mcast_to_floatx\u001B[0m\u001B[1;33m\u001B[0m\u001B[1;33m\u001B[0m\u001B[0m\n",
      "\u001B[1;32m~\\anaconda3\\lib\\site-packages\\keras\\backend\\load_backend.py\u001B[0m in \u001B[0;36m<module>\u001B[1;34m\u001B[0m\n\u001B[0;32m     88\u001B[0m \u001B[1;32melif\u001B[0m \u001B[0m_BACKEND\u001B[0m \u001B[1;33m==\u001B[0m \u001B[1;34m'tensorflow'\u001B[0m\u001B[1;33m:\u001B[0m\u001B[1;33m\u001B[0m\u001B[1;33m\u001B[0m\u001B[0m\n\u001B[0;32m     89\u001B[0m     \u001B[0msys\u001B[0m\u001B[1;33m.\u001B[0m\u001B[0mstderr\u001B[0m\u001B[1;33m.\u001B[0m\u001B[0mwrite\u001B[0m\u001B[1;33m(\u001B[0m\u001B[1;34m'Using TensorFlow backend.\\n'\u001B[0m\u001B[1;33m)\u001B[0m\u001B[1;33m\u001B[0m\u001B[1;33m\u001B[0m\u001B[0m\n\u001B[1;32m---> 90\u001B[1;33m     \u001B[1;32mfrom\u001B[0m \u001B[1;33m.\u001B[0m\u001B[0mtensorflow_backend\u001B[0m \u001B[1;32mimport\u001B[0m \u001B[1;33m*\u001B[0m\u001B[1;33m\u001B[0m\u001B[1;33m\u001B[0m\u001B[0m\n\u001B[0m\u001B[0;32m     91\u001B[0m \u001B[1;32melse\u001B[0m\u001B[1;33m:\u001B[0m\u001B[1;33m\u001B[0m\u001B[1;33m\u001B[0m\u001B[0m\n\u001B[0;32m     92\u001B[0m     \u001B[1;31m# Try and load external backend.\u001B[0m\u001B[1;33m\u001B[0m\u001B[1;33m\u001B[0m\u001B[1;33m\u001B[0m\u001B[0m\n",
      "\u001B[1;32m~\\anaconda3\\lib\\site-packages\\keras\\backend\\tensorflow_backend.py\u001B[0m in \u001B[0;36m<module>\u001B[1;34m\u001B[0m\n\u001B[0;32m      3\u001B[0m \u001B[1;32mfrom\u001B[0m \u001B[0m__future__\u001B[0m \u001B[1;32mimport\u001B[0m \u001B[0mprint_function\u001B[0m\u001B[1;33m\u001B[0m\u001B[1;33m\u001B[0m\u001B[0m\n\u001B[0;32m      4\u001B[0m \u001B[1;33m\u001B[0m\u001B[0m\n\u001B[1;32m----> 5\u001B[1;33m \u001B[1;32mimport\u001B[0m \u001B[0mtensorflow\u001B[0m \u001B[1;32mas\u001B[0m \u001B[0mtf\u001B[0m\u001B[1;33m\u001B[0m\u001B[1;33m\u001B[0m\u001B[0m\n\u001B[0m\u001B[0;32m      6\u001B[0m \u001B[1;32mfrom\u001B[0m \u001B[0mtensorflow\u001B[0m\u001B[1;33m.\u001B[0m\u001B[0mpython\u001B[0m\u001B[1;33m.\u001B[0m\u001B[0meager\u001B[0m \u001B[1;32mimport\u001B[0m \u001B[0mcontext\u001B[0m\u001B[1;33m\u001B[0m\u001B[1;33m\u001B[0m\u001B[0m\n\u001B[0;32m      7\u001B[0m \u001B[1;32mfrom\u001B[0m \u001B[0mtensorflow\u001B[0m\u001B[1;33m.\u001B[0m\u001B[0mpython\u001B[0m\u001B[1;33m.\u001B[0m\u001B[0mframework\u001B[0m \u001B[1;32mimport\u001B[0m \u001B[0mdevice\u001B[0m \u001B[1;32mas\u001B[0m \u001B[0mtfdev\u001B[0m\u001B[1;33m\u001B[0m\u001B[1;33m\u001B[0m\u001B[0m\n",
      "\u001B[1;32m~\\anaconda3\\lib\\site-packages\\tensorflow\\__init__.py\u001B[0m in \u001B[0;36m<module>\u001B[1;34m\u001B[0m\n\u001B[0;32m     39\u001B[0m \u001B[1;32mimport\u001B[0m \u001B[0msys\u001B[0m \u001B[1;32mas\u001B[0m \u001B[0m_sys\u001B[0m\u001B[1;33m\u001B[0m\u001B[1;33m\u001B[0m\u001B[0m\n\u001B[0;32m     40\u001B[0m \u001B[1;33m\u001B[0m\u001B[0m\n\u001B[1;32m---> 41\u001B[1;33m \u001B[1;32mfrom\u001B[0m \u001B[0mtensorflow\u001B[0m\u001B[1;33m.\u001B[0m\u001B[0mpython\u001B[0m\u001B[1;33m.\u001B[0m\u001B[0mtools\u001B[0m \u001B[1;32mimport\u001B[0m \u001B[0mmodule_util\u001B[0m \u001B[1;32mas\u001B[0m \u001B[0m_module_util\u001B[0m\u001B[1;33m\u001B[0m\u001B[1;33m\u001B[0m\u001B[0m\n\u001B[0m\u001B[0;32m     42\u001B[0m \u001B[1;32mfrom\u001B[0m \u001B[0mtensorflow\u001B[0m\u001B[1;33m.\u001B[0m\u001B[0mpython\u001B[0m\u001B[1;33m.\u001B[0m\u001B[0mutil\u001B[0m\u001B[1;33m.\u001B[0m\u001B[0mlazy_loader\u001B[0m \u001B[1;32mimport\u001B[0m \u001B[0mLazyLoader\u001B[0m \u001B[1;32mas\u001B[0m \u001B[0m_LazyLoader\u001B[0m\u001B[1;33m\u001B[0m\u001B[1;33m\u001B[0m\u001B[0m\n\u001B[0;32m     43\u001B[0m \u001B[1;33m\u001B[0m\u001B[0m\n",
      "\u001B[1;32m~\\anaconda3\\lib\\site-packages\\tensorflow\\python\\__init__.py\u001B[0m in \u001B[0;36m<module>\u001B[1;34m\u001B[0m\n\u001B[0;32m     48\u001B[0m \u001B[1;32mimport\u001B[0m \u001B[0mnumpy\u001B[0m \u001B[1;32mas\u001B[0m \u001B[0mnp\u001B[0m\u001B[1;33m\u001B[0m\u001B[1;33m\u001B[0m\u001B[0m\n\u001B[0;32m     49\u001B[0m \u001B[1;33m\u001B[0m\u001B[0m\n\u001B[1;32m---> 50\u001B[1;33m \u001B[1;32mfrom\u001B[0m \u001B[0mtensorflow\u001B[0m\u001B[1;33m.\u001B[0m\u001B[0mpython\u001B[0m \u001B[1;32mimport\u001B[0m \u001B[0mpywrap_tensorflow\u001B[0m\u001B[1;33m\u001B[0m\u001B[1;33m\u001B[0m\u001B[0m\n\u001B[0m\u001B[0;32m     51\u001B[0m \u001B[1;33m\u001B[0m\u001B[0m\n\u001B[0;32m     52\u001B[0m \u001B[1;31m# Protocol buffers\u001B[0m\u001B[1;33m\u001B[0m\u001B[1;33m\u001B[0m\u001B[1;33m\u001B[0m\u001B[0m\n",
      "\u001B[1;32m~\\anaconda3\\lib\\site-packages\\tensorflow\\python\\pywrap_tensorflow.py\u001B[0m in \u001B[0;36m<module>\u001B[1;34m\u001B[0m\n\u001B[0;32m     67\u001B[0m \u001B[1;32mfor\u001B[0m \u001B[0msome\u001B[0m \u001B[0mcommon\u001B[0m \u001B[0mreasons\u001B[0m \u001B[1;32mand\u001B[0m \u001B[0msolutions\u001B[0m\u001B[1;33m.\u001B[0m  \u001B[0mInclude\u001B[0m \u001B[0mthe\u001B[0m \u001B[0mentire\u001B[0m \u001B[0mstack\u001B[0m \u001B[0mtrace\u001B[0m\u001B[1;33m\u001B[0m\u001B[1;33m\u001B[0m\u001B[0m\n\u001B[0;32m     68\u001B[0m above this error message when asking for help.\"\"\" % traceback.format_exc()\n\u001B[1;32m---> 69\u001B[1;33m   \u001B[1;32mraise\u001B[0m \u001B[0mImportError\u001B[0m\u001B[1;33m(\u001B[0m\u001B[0mmsg\u001B[0m\u001B[1;33m)\u001B[0m\u001B[1;33m\u001B[0m\u001B[1;33m\u001B[0m\u001B[0m\n\u001B[0m\u001B[0;32m     70\u001B[0m \u001B[1;33m\u001B[0m\u001B[0m\n\u001B[0;32m     71\u001B[0m \u001B[1;31m# pylint: enable=wildcard-import,g-import-not-at-top,unused-import,line-too-long\u001B[0m\u001B[1;33m\u001B[0m\u001B[1;33m\u001B[0m\u001B[1;33m\u001B[0m\u001B[0m\n",
      "\u001B[1;31mImportError\u001B[0m: Traceback (most recent call last):\n  File \"C:\\Users\\leoha\\anaconda3\\lib\\site-packages\\tensorflow\\python\\pywrap_tensorflow.py\", line 58, in <module>\n    from tensorflow.python.pywrap_tensorflow_internal import *\n  File \"C:\\Users\\leoha\\anaconda3\\lib\\site-packages\\tensorflow\\python\\pywrap_tensorflow_internal.py\", line 28, in <module>\n    _pywrap_tensorflow_internal = swig_import_helper()\n  File \"C:\\Users\\leoha\\anaconda3\\lib\\site-packages\\tensorflow\\python\\pywrap_tensorflow_internal.py\", line 24, in swig_import_helper\n    _mod = imp.load_module('_pywrap_tensorflow_internal', fp, pathname, description)\n  File \"C:\\Users\\leoha\\anaconda3\\lib\\imp.py\", line 242, in load_module\n    return load_dynamic(name, filename, file)\n  File \"C:\\Users\\leoha\\anaconda3\\lib\\imp.py\", line 342, in load_dynamic\n    return _load(spec)\nImportError: DLL load failed: 지정된 모듈을 찾을 수 없습니다.\n\n\nFailed to load the native TensorFlow runtime.\n\nSee https://www.tensorflow.org/install/errors\n\nfor some common reasons and solutions.  Include the entire stack trace\nabove this error message when asking for help."
     ]
    }
   ]
  },
  {
   "cell_type": "code",
   "metadata": {
    "_uuid": "d629ff2d2480ee46fbb7e2d37f6b5fab8052498a",
    "_cell_guid": "79c7e3d0-c299-4dcb-8224-4455121ee9b0",
    "trusted": true,
    "id": "7SoTHdD63shK",
    "colab_type": "code",
    "colab": {}
   },
   "source": [
    "train_df = pd.read_csv('/kaggle/input/covid19-global-forecasting-week-2/train.csv')\n",
    "train_df.head(5)"
   ],
   "execution_count": 0,
   "outputs": []
  },
  {
   "cell_type": "code",
   "metadata": {
    "trusted": true,
    "id": "DukD7ial3shP",
    "colab_type": "code",
    "colab": {}
   },
   "source": [
    "test_df = pd.read_csv('/kaggle/input/covid19-global-forecasting-week-2/test.csv')\n",
    "test_df.head(5)"
   ],
   "execution_count": 0,
   "outputs": []
  },
  {
   "cell_type": "code",
   "metadata": {
    "trusted": true,
    "id": "l4MYBI3H3shV",
    "colab_type": "code",
    "colab": {}
   },
   "source": [
    "sub_df = pd.read_csv('/kaggle/input/covid19-global-forecasting-week-2/submission.csv')\n",
    "sub_df.shape"
   ],
   "execution_count": 0,
   "outputs": []
  },
  {
   "cell_type": "code",
   "metadata": {
    "trusted": true,
    "id": "FinoxtWl3shb",
    "colab_type": "code",
    "colab": {}
   },
   "source": [
    "print([train_df.columns, train_df.shape, 19404/66])\n",
    "print([test_df.columns, test_df.shape],12642/43)"
   ],
   "execution_count": 0,
   "outputs": []
  },
  {
   "cell_type": "code",
   "metadata": {
    "trusted": true,
    "id": "L-ZyHdZd3shf",
    "colab_type": "code",
    "colab": {}
   },
   "source": [
    "print(\"Country_Region\")\n",
    "print(len(train_df['Country_Region'].unique()), train_df['Country_Region'].unique())\n",
    "print(\"Province_State\")\n",
    "print(len(train_df['Province_State'].unique()), train_df['Province_State'].unique())\n",
    "print(\"Date\")\n",
    "print(len(train_df['Date'].unique()),train_df['Date'].unique())"
   ],
   "execution_count": 0,
   "outputs": []
  },
  {
   "cell_type": "code",
   "metadata": {
    "trusted": true,
    "id": "TSriHjwL3shk",
    "colab_type": "code",
    "colab": {}
   },
   "source": [
    "print(\"Country_Region\")\n",
    "print(len(test_df['Country_Region'].unique()), test_df['Country_Region'].unique())\n",
    "print(\"Province_State\")\n",
    "print(len(test_df['Province_State'].unique()), test_df['Province_State'].unique())\n",
    "print(\"Date\")\n",
    "print(len(test_df['Date'].unique()),test_df['Date'].unique())"
   ],
   "execution_count": 0,
   "outputs": []
  },
  {
   "cell_type": "code",
   "metadata": {
    "trusted": true,
    "id": "jzcs1wgs3sho",
    "colab_type": "code",
    "colab": {}
   },
   "source": [
    "print(\"Date\")\n",
    "print(len(test_df['Date'].unique()),test_df['Date'].unique())"
   ],
   "execution_count": 0,
   "outputs": []
  },
  {
   "cell_type": "code",
   "metadata": {
    "trusted": true,
    "id": "1nn44WNF3shr",
    "colab_type": "code",
    "colab": {}
   },
   "source": [
    "train_df['rownum'] = [i for i in range(1,67)] * 294"
   ],
   "execution_count": 0,
   "outputs": []
  },
  {
   "cell_type": "code",
   "metadata": {
    "trusted": true,
    "id": "J_a6xwXy3shu",
    "colab_type": "code",
    "colab": {}
   },
   "source": [
    "test_df['rownum'] = [i for i in range(58,101)] * 294"
   ],
   "execution_count": 0,
   "outputs": []
  },
  {
   "cell_type": "code",
   "metadata": {
    "trusted": true,
    "id": "yamOoQQ63shx",
    "colab_type": "code",
    "colab": {}
   },
   "source": [
    "result_df = pd.DataFrame(columns=['ConfirmedCases','Fatalities'])\n",
    "BATCH = 20\n",
    "EPOCH = 3\n",
    "HIDDENB_NUM_ONE = 256\n",
    "OUTPUT_NUM = 2\n",
    "INPUT_NUM = 1\n",
    "\n",
    "\n",
    "for i in range(len(train_df['Country_Region'].unique())):\n",
    "    if(pd.isnull(train_df[train_df['Country_Region']==train_df['Country_Region'].unique()[i]]['Province_State']).unique()[0]==True):\n",
    "        nation_df = train_df[train_df['Country_Region']==train_df['Country_Region'].unique()[i]]\n",
    "        #print(\"--------------------------nation_df-----------------------\")\n",
    "        #print(nation_df)\n",
    "        x_train = nation_df['rownum']\n",
    "        y_train = nation_df[['ConfirmedCases','Fatalities']]\n",
    "        \n",
    "        x_train_data = np.array(x_train)\n",
    "        y_train_data = np.array(y_train)\n",
    "        \n",
    "        K.clear_session()\n",
    "        model = Sequential()\n",
    "        model.add(Dense(input_dim=INPUT_NUM, units=INPUT_NUM, activation=\"relu\"))\n",
    "        model.add(Dense(units=HIDDENB_NUM_ONE, activation=\"relu\"))\n",
    "        model.add(Dense(OUTPUT_NUM, activation=\"relu\"))\n",
    "        \n",
    "        #print(\"nation:\"+train_df['Country_Region'].unique()[i])\n",
    "        \n",
    "        model.compile(optimizer='adam', loss='mse')\n",
    "        model.fit(x_train_data,y_train_data,batch_size=20, epochs=3, verbose=1)\n",
    "        \n",
    "        x_test = test_df[:43]['rownum']\n",
    "        y_res = model.predict(x_test)\n",
    "        \n",
    "        #print(\"--------------------------y_res.shape-----------------------\")\n",
    "        #print(y_res.shape)\n",
    "        result_df = pd.concat([result_df, pd.DataFrame({'ConfirmedCases': y_res[:, 0], 'Fatalities': y_res[:, 1]})])\n",
    "        #print(\"--------------------------result_df.shape--------------------\")\n",
    "        print(result_df.shape)\n",
    "        #print(\"---------------------------result_df----------------------\")\n",
    "        print(result_df)\n",
    "        #print(\"#################################eon#######################\")\n",
    "    else:\n",
    "        print(len(train_df[train_df['Country_Region']==train_df['Country_Region'].unique()[i]]['Province_State'].unique()))\n",
    "        for m in range(len(train_df[train_df['Country_Region']==train_df['Country_Region'].unique()[i]]['Province_State'].unique())):\n",
    "            \n",
    "            province_df = train_df[train_df['Province_State']==train_df[train_df['Country_Region']==train_df['Country_Region'].unique()[i]]['Province_State'].unique()[m]]\n",
    "            \n",
    "            if(type(train_df[train_df['Country_Region']==train_df['Country_Region'].unique()[i]]['Province_State'].unique()[m])!=str):\n",
    "                province_df = train_df[train_df['Country_Region']==train_df['Country_Region'].unique()[i]][train_df[train_df['Country_Region']==train_df['Country_Region'].unique()[i]]['Province_State'].isna()]\n",
    "            \n",
    "            #print(\"--------------------------province_df-----------------------\")\n",
    "            print(province_df)\n",
    "            x_train = province_df['rownum']\n",
    "            y_train = province_df[['ConfirmedCases','Fatalities']]\n",
    "\n",
    "            x_train_data = np.array(x_train)\n",
    "            y_train_data = np.array(y_train)\n",
    "\n",
    "            K.clear_session()\n",
    "            model = Sequential()\n",
    "            model.add(Dense(input_dim=INPUT_NUM, units=INPUT_NUM, activation=\"relu\"))\n",
    "            model.add(Dense(units=HIDDENB_NUM_ONE, activation=\"relu\"))\n",
    "            model.add(Dense(OUTPUT_NUM, activation=\"relu\"))\n",
    "            \n",
    "            #print(i)\n",
    "            #print(m)\n",
    "            #print(type(train_df[train_df['Country_Region']==train_df['Country_Region'].unique()[i]]['Province_State'].unique()[m]))\n",
    "            #print(train_df['Country_Region'].unique()[i])\n",
    "            #print(train_df[train_df['Country_Region']==train_df['Country_Region'].unique()[i]]['Province_State'].unique()[m])\n",
    "            \n",
    "            \n",
    "            model.compile(optimizer='adam', loss='mse')\n",
    "            model.fit(x_train_data,y_train_data,batch_size=30, epochs=3, verbose=1)\n",
    "\n",
    "            x_test = test_df[:43]['rownum']\n",
    "            y_res = model.predict(x_test)\n",
    "            \n",
    "            #print(\"--------------------------y_res.shape-----------------------\")\n",
    "            #print(y_res.shape)\n",
    "            result_df = pd.concat([result_df, pd.DataFrame({'ConfirmedCases': y_res[:, 0], 'Fatalities': y_res[:, 1]})])\n",
    "            #print(\"--------------------------result_df.shape--------------------\")\n",
    "            #print(result_df.shape)\n",
    "            #print(\"---------------------------result_df----------------------\")\n",
    "            #print(result_df)\n",
    "            #print(\"#################################eop#######################\")"
   ],
   "execution_count": 0,
   "outputs": []
  },
  {
   "cell_type": "code",
   "metadata": {
    "trusted": true,
    "id": "V87YE-NR3sh0",
    "colab_type": "code",
    "colab": {}
   },
   "source": [
    "result_df.ConfirmedCases = result_df.ConfirmedCases.round(1)\n",
    "result_df.Fatalities = result_df.Fatalities.round(1)\n",
    "result_df[result_df['ConfirmedCases'] < 0] =0\n",
    "result_df[result_df['Fatalities'] < 0] =0\n",
    "result_df"
   ],
   "execution_count": 0,
   "outputs": []
  },
  {
   "cell_type": "code",
   "metadata": {
    "trusted": true,
    "id": "vp_UByEK3sh2",
    "colab_type": "code",
    "colab": {}
   },
   "source": [
    "sub = pd.DataFrame()\n",
    "sub['ForecastId'] = np.array(test_df['ForecastId'])\n",
    "sub['ConfirmedCases'] = np.array(result_df['ConfirmedCases'])\n",
    "sub['Fatalities'] = np.array(result_df['Fatalities'])\n",
    "sub.to_csv('submission.csv', index = False)"
   ],
   "execution_count": 0,
   "outputs": []
  }
 ]
}
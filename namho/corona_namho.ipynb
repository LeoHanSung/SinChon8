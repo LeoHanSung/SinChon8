{
  "nbformat": 4,
  "nbformat_minor": 0,
  "metadata": {
    "colab": {
      "name": "corona_namho.ipynb",
      "provenance": [],
      "authorship_tag": "ABX9TyNnGm8nhVGgM+8DXb1tvVBq",
      "include_colab_link": true
    },
    "kernelspec": {
      "name": "python3",
      "display_name": "Python 3"
    },
    "accelerator": "GPU"
  },
  "cells": [
    {
      "cell_type": "markdown",
      "metadata": {
        "id": "view-in-github",
        "colab_type": "text"
      },
      "source": [
        "<a href=\"https://colab.research.google.com/github/LeoHanSung/SinChon8/blob/master/namho/corona_namho.ipynb\" target=\"_parent\"><img src=\"https://colab.research.google.com/assets/colab-badge.svg\" alt=\"Open In Colab\"/></a>"
      ]
    },
    {
      "cell_type": "code",
      "metadata": {
        "id": "QSvmo8twpZOH",
        "colab_type": "code",
        "colab": {
          "base_uri": "https://localhost:8080/",
          "height": 34
        },
        "outputId": "daefdb60-5535-48e6-e179-3d74b1cb6d53"
      },
      "source": [
        "import pandas as pd\n",
        "import seaborn as sns\n",
        "import numpy as np\n",
        "import matplotlib.pyplot as plt\n",
        "%matplotlib inline\n",
        "plt.rc(\"font\", family = \"Malgun Gothic\")\n",
        "\n",
        "# 글씨가 뭉게져서 보이는 것 같으면 아래의 설정을 통해서 개선할 수 있음\n",
        "from IPython.display import display\n",
        "from IPython.display import set_matplotlib_formats\n",
        "set_matplotlib_formats('retina')\n",
        "\n",
        "from google.colab import drive\n",
        "drive.mount('/content/gdrive/')"
      ],
      "execution_count": 18,
      "outputs": [
        {
          "output_type": "stream",
          "text": [
            "Drive already mounted at /content/gdrive/; to attempt to forcibly remount, call drive.mount(\"/content/gdrive/\", force_remount=True).\n"
          ],
          "name": "stdout"
        }
      ]
    },
    {
      "cell_type": "code",
      "metadata": {
        "id": "TmyxY8hbw-T6",
        "colab_type": "code",
        "colab": {
          "base_uri": "https://localhost:8080/",
          "height": 653
        },
        "outputId": "92ed5ce3-6164-450a-a241-d3c3b20a972d"
      },
      "source": [
        "trend = pd.read_csv('./gdrive/My Drive/SinChon8/kaggle/Corona/trend.csv')\n",
        "patient = pd.read_csv('./gdrive/My Drive/SinChon8/kaggle/Corona/patient.csv')\n",
        "time = pd.read_csv('./gdrive/My Drive/SinChon8/kaggle/Corona/time.csv')\n",
        "route = pd.read_csv('./gdrive/My Drive/SinChon8/kaggle/Corona/route.csv')\n",
        "\n",
        "\n",
        "display(trend.head(3))\n",
        "display(patient.head(3))\n",
        "display(time.head(3))\n",
        "display(route.head(3))"
      ],
      "execution_count": 19,
      "outputs": [
        {
          "output_type": "display_data",
          "data": {
            "text/html": [
              "<div>\n",
              "<style scoped>\n",
              "    .dataframe tbody tr th:only-of-type {\n",
              "        vertical-align: middle;\n",
              "    }\n",
              "\n",
              "    .dataframe tbody tr th {\n",
              "        vertical-align: top;\n",
              "    }\n",
              "\n",
              "    .dataframe thead th {\n",
              "        text-align: right;\n",
              "    }\n",
              "</style>\n",
              "<table border=\"1\" class=\"dataframe\">\n",
              "  <thead>\n",
              "    <tr style=\"text-align: right;\">\n",
              "      <th></th>\n",
              "      <th>date</th>\n",
              "      <th>cold</th>\n",
              "      <th>flu</th>\n",
              "      <th>pneumonia</th>\n",
              "      <th>coronavirus</th>\n",
              "    </tr>\n",
              "  </thead>\n",
              "  <tbody>\n",
              "    <tr>\n",
              "      <th>0</th>\n",
              "      <td>2019-12-07</td>\n",
              "      <td>0.12408</td>\n",
              "      <td>0.24699</td>\n",
              "      <td>0.22144</td>\n",
              "      <td>0.01309</td>\n",
              "    </tr>\n",
              "    <tr>\n",
              "      <th>1</th>\n",
              "      <td>2019-12-08</td>\n",
              "      <td>0.11863</td>\n",
              "      <td>0.25390</td>\n",
              "      <td>0.19617</td>\n",
              "      <td>0.00836</td>\n",
              "    </tr>\n",
              "    <tr>\n",
              "      <th>2</th>\n",
              "      <td>2019-12-09</td>\n",
              "      <td>0.16308</td>\n",
              "      <td>0.47880</td>\n",
              "      <td>0.33180</td>\n",
              "      <td>0.01272</td>\n",
              "    </tr>\n",
              "  </tbody>\n",
              "</table>\n",
              "</div>"
            ],
            "text/plain": [
              "         date     cold      flu  pneumonia  coronavirus\n",
              "0  2019-12-07  0.12408  0.24699    0.22144      0.01309\n",
              "1  2019-12-08  0.11863  0.25390    0.19617      0.00836\n",
              "2  2019-12-09  0.16308  0.47880    0.33180      0.01272"
            ]
          },
          "metadata": {
            "tags": []
          }
        },
        {
          "output_type": "display_data",
          "data": {
            "text/html": [
              "<div>\n",
              "<style scoped>\n",
              "    .dataframe tbody tr th:only-of-type {\n",
              "        vertical-align: middle;\n",
              "    }\n",
              "\n",
              "    .dataframe tbody tr th {\n",
              "        vertical-align: top;\n",
              "    }\n",
              "\n",
              "    .dataframe thead th {\n",
              "        text-align: right;\n",
              "    }\n",
              "</style>\n",
              "<table border=\"1\" class=\"dataframe\">\n",
              "  <thead>\n",
              "    <tr style=\"text-align: right;\">\n",
              "      <th></th>\n",
              "      <th>id</th>\n",
              "      <th>sex</th>\n",
              "      <th>birth_year</th>\n",
              "      <th>country</th>\n",
              "      <th>region</th>\n",
              "      <th>disease</th>\n",
              "      <th>group</th>\n",
              "      <th>infection_reason</th>\n",
              "      <th>infection_order</th>\n",
              "      <th>infected_by</th>\n",
              "      <th>contact_number</th>\n",
              "      <th>confirmed_date</th>\n",
              "      <th>released_date</th>\n",
              "      <th>deceased_date</th>\n",
              "      <th>state</th>\n",
              "    </tr>\n",
              "  </thead>\n",
              "  <tbody>\n",
              "    <tr>\n",
              "      <th>0</th>\n",
              "      <td>1</td>\n",
              "      <td>female</td>\n",
              "      <td>1984.0</td>\n",
              "      <td>China</td>\n",
              "      <td>filtered at airport</td>\n",
              "      <td>NaN</td>\n",
              "      <td>NaN</td>\n",
              "      <td>visit to Wuhan</td>\n",
              "      <td>1.0</td>\n",
              "      <td>NaN</td>\n",
              "      <td>45.0</td>\n",
              "      <td>2020-01-20</td>\n",
              "      <td>2020-02-06</td>\n",
              "      <td>NaN</td>\n",
              "      <td>released</td>\n",
              "    </tr>\n",
              "    <tr>\n",
              "      <th>1</th>\n",
              "      <td>2</td>\n",
              "      <td>male</td>\n",
              "      <td>1964.0</td>\n",
              "      <td>Korea</td>\n",
              "      <td>filtered at airport</td>\n",
              "      <td>NaN</td>\n",
              "      <td>NaN</td>\n",
              "      <td>visit to Wuhan</td>\n",
              "      <td>1.0</td>\n",
              "      <td>NaN</td>\n",
              "      <td>75.0</td>\n",
              "      <td>2020-01-24</td>\n",
              "      <td>2020-02-05</td>\n",
              "      <td>NaN</td>\n",
              "      <td>released</td>\n",
              "    </tr>\n",
              "    <tr>\n",
              "      <th>2</th>\n",
              "      <td>3</td>\n",
              "      <td>male</td>\n",
              "      <td>1966.0</td>\n",
              "      <td>Korea</td>\n",
              "      <td>capital area</td>\n",
              "      <td>NaN</td>\n",
              "      <td>NaN</td>\n",
              "      <td>visit to Wuhan</td>\n",
              "      <td>1.0</td>\n",
              "      <td>NaN</td>\n",
              "      <td>16.0</td>\n",
              "      <td>2020-01-26</td>\n",
              "      <td>2020-02-12</td>\n",
              "      <td>NaN</td>\n",
              "      <td>released</td>\n",
              "    </tr>\n",
              "  </tbody>\n",
              "</table>\n",
              "</div>"
            ],
            "text/plain": [
              "   id     sex  birth_year  ... released_date deceased_date     state\n",
              "0   1  female      1984.0  ...    2020-02-06           NaN  released\n",
              "1   2    male      1964.0  ...    2020-02-05           NaN  released\n",
              "2   3    male      1966.0  ...    2020-02-12           NaN  released\n",
              "\n",
              "[3 rows x 15 columns]"
            ]
          },
          "metadata": {
            "tags": []
          }
        },
        {
          "output_type": "display_data",
          "data": {
            "text/html": [
              "<div>\n",
              "<style scoped>\n",
              "    .dataframe tbody tr th:only-of-type {\n",
              "        vertical-align: middle;\n",
              "    }\n",
              "\n",
              "    .dataframe tbody tr th {\n",
              "        vertical-align: top;\n",
              "    }\n",
              "\n",
              "    .dataframe thead th {\n",
              "        text-align: right;\n",
              "    }\n",
              "</style>\n",
              "<table border=\"1\" class=\"dataframe\">\n",
              "  <thead>\n",
              "    <tr style=\"text-align: right;\">\n",
              "      <th></th>\n",
              "      <th>date</th>\n",
              "      <th>time</th>\n",
              "      <th>acc_test</th>\n",
              "      <th>acc_negative</th>\n",
              "      <th>acc_confirmed</th>\n",
              "      <th>acc_released</th>\n",
              "      <th>acc_deceased</th>\n",
              "      <th>new_test</th>\n",
              "      <th>new_negative</th>\n",
              "      <th>new_confirmed</th>\n",
              "      <th>new_released</th>\n",
              "      <th>new_deceased</th>\n",
              "    </tr>\n",
              "  </thead>\n",
              "  <tbody>\n",
              "    <tr>\n",
              "      <th>0</th>\n",
              "      <td>2020-01-20</td>\n",
              "      <td>16</td>\n",
              "      <td>1</td>\n",
              "      <td>0</td>\n",
              "      <td>1</td>\n",
              "      <td>0</td>\n",
              "      <td>0</td>\n",
              "      <td>1</td>\n",
              "      <td>0</td>\n",
              "      <td>1</td>\n",
              "      <td>0</td>\n",
              "      <td>0</td>\n",
              "    </tr>\n",
              "    <tr>\n",
              "      <th>1</th>\n",
              "      <td>2020-01-21</td>\n",
              "      <td>16</td>\n",
              "      <td>1</td>\n",
              "      <td>0</td>\n",
              "      <td>1</td>\n",
              "      <td>0</td>\n",
              "      <td>0</td>\n",
              "      <td>0</td>\n",
              "      <td>0</td>\n",
              "      <td>0</td>\n",
              "      <td>0</td>\n",
              "      <td>0</td>\n",
              "    </tr>\n",
              "    <tr>\n",
              "      <th>2</th>\n",
              "      <td>2020-01-22</td>\n",
              "      <td>16</td>\n",
              "      <td>4</td>\n",
              "      <td>3</td>\n",
              "      <td>1</td>\n",
              "      <td>0</td>\n",
              "      <td>0</td>\n",
              "      <td>3</td>\n",
              "      <td>3</td>\n",
              "      <td>0</td>\n",
              "      <td>0</td>\n",
              "      <td>0</td>\n",
              "    </tr>\n",
              "  </tbody>\n",
              "</table>\n",
              "</div>"
            ],
            "text/plain": [
              "         date  time  acc_test  ...  new_confirmed  new_released  new_deceased\n",
              "0  2020-01-20    16         1  ...              1             0             0\n",
              "1  2020-01-21    16         1  ...              0             0             0\n",
              "2  2020-01-22    16         4  ...              0             0             0\n",
              "\n",
              "[3 rows x 12 columns]"
            ]
          },
          "metadata": {
            "tags": []
          }
        },
        {
          "output_type": "display_data",
          "data": {
            "text/html": [
              "<div>\n",
              "<style scoped>\n",
              "    .dataframe tbody tr th:only-of-type {\n",
              "        vertical-align: middle;\n",
              "    }\n",
              "\n",
              "    .dataframe tbody tr th {\n",
              "        vertical-align: top;\n",
              "    }\n",
              "\n",
              "    .dataframe thead th {\n",
              "        text-align: right;\n",
              "    }\n",
              "</style>\n",
              "<table border=\"1\" class=\"dataframe\">\n",
              "  <thead>\n",
              "    <tr style=\"text-align: right;\">\n",
              "      <th></th>\n",
              "      <th>id</th>\n",
              "      <th>date</th>\n",
              "      <th>province</th>\n",
              "      <th>city</th>\n",
              "      <th>visit</th>\n",
              "      <th>latitude</th>\n",
              "      <th>longitude</th>\n",
              "    </tr>\n",
              "  </thead>\n",
              "  <tbody>\n",
              "    <tr>\n",
              "      <th>0</th>\n",
              "      <td>1</td>\n",
              "      <td>2020-01-19</td>\n",
              "      <td>Incheon</td>\n",
              "      <td>Jung-gu</td>\n",
              "      <td>airport</td>\n",
              "      <td>37.460459</td>\n",
              "      <td>126.440680</td>\n",
              "    </tr>\n",
              "    <tr>\n",
              "      <th>1</th>\n",
              "      <td>1</td>\n",
              "      <td>2020-01-20</td>\n",
              "      <td>Incheon</td>\n",
              "      <td>Seo-gu</td>\n",
              "      <td>hospital_isolated</td>\n",
              "      <td>37.478832</td>\n",
              "      <td>126.668558</td>\n",
              "    </tr>\n",
              "    <tr>\n",
              "      <th>2</th>\n",
              "      <td>2</td>\n",
              "      <td>2020-01-22</td>\n",
              "      <td>Gyeonggi-do</td>\n",
              "      <td>Gimpo-si</td>\n",
              "      <td>airport</td>\n",
              "      <td>37.562143</td>\n",
              "      <td>126.801884</td>\n",
              "    </tr>\n",
              "  </tbody>\n",
              "</table>\n",
              "</div>"
            ],
            "text/plain": [
              "   id        date     province  ...              visit   latitude   longitude\n",
              "0   1  2020-01-19      Incheon  ...            airport  37.460459  126.440680\n",
              "1   1  2020-01-20      Incheon  ...  hospital_isolated  37.478832  126.668558\n",
              "2   2  2020-01-22  Gyeonggi-do  ...            airport  37.562143  126.801884\n",
              "\n",
              "[3 rows x 7 columns]"
            ]
          },
          "metadata": {
            "tags": []
          }
        }
      ]
    },
    {
      "cell_type": "code",
      "metadata": {
        "id": "AHp-GEoIzlAb",
        "colab_type": "code",
        "colab": {
          "base_uri": "https://localhost:8080/",
          "height": 122
        },
        "outputId": "97379a20-4706-4aaa-ef67-52e544ebd030"
      },
      "source": [
        "trend.isnull().sum() #checking for total null values"
      ],
      "execution_count": 21,
      "outputs": [
        {
          "output_type": "display_data",
          "data": {
            "text/plain": [
              "date           0\n",
              "cold           0\n",
              "flu            0\n",
              "pneumonia      0\n",
              "coronavirus    0\n",
              "dtype: int64"
            ]
          },
          "metadata": {
            "tags": []
          }
        }
      ]
    },
    {
      "cell_type": "code",
      "metadata": {
        "id": "70QphfyU2GkK",
        "colab_type": "code",
        "colab": {
          "base_uri": "https://localhost:8080/",
          "height": 244
        },
        "outputId": "b55ee9f2-3c44-4155-ceb1-c7e50b8adce5"
      },
      "source": [
        "time.isnull().sum() #checking for total null values"
      ],
      "execution_count": 23,
      "outputs": [
        {
          "output_type": "execute_result",
          "data": {
            "text/plain": [
              "date             0\n",
              "time             0\n",
              "acc_test         0\n",
              "acc_negative     0\n",
              "acc_confirmed    0\n",
              "acc_released     0\n",
              "acc_deceased     0\n",
              "new_test         0\n",
              "new_negative     0\n",
              "new_confirmed    0\n",
              "new_released     0\n",
              "new_deceased     0\n",
              "dtype: int64"
            ]
          },
          "metadata": {
            "tags": []
          },
          "execution_count": 23
        }
      ]
    },
    {
      "cell_type": "code",
      "metadata": {
        "id": "fg7Zd0xf0kKm",
        "colab_type": "code",
        "colab": {
          "base_uri": "https://localhost:8080/",
          "height": 157
        },
        "outputId": "b3faeb4f-b1e5-4d76-ce77-548fd9030df9"
      },
      "source": [
        "route.isnull().sum() #checking for total null values"
      ],
      "execution_count": 24,
      "outputs": [
        {
          "output_type": "execute_result",
          "data": {
            "text/plain": [
              "id           0\n",
              "date         0\n",
              "province     0\n",
              "city         0\n",
              "visit        0\n",
              "latitude     0\n",
              "longitude    0\n",
              "dtype: int64"
            ]
          },
          "metadata": {
            "tags": []
          },
          "execution_count": 24
        }
      ]
    },
    {
      "cell_type": "code",
      "metadata": {
        "id": "4PE_3kOG2ShK",
        "colab_type": "code",
        "colab": {
          "base_uri": "https://localhost:8080/",
          "height": 297
        },
        "outputId": "7916749a-0fc3-4d91-fdae-e153e2ca4885"
      },
      "source": [
        "patient.isnull().sum() #checking for total null values"
      ],
      "execution_count": 25,
      "outputs": [
        {
          "output_type": "execute_result",
          "data": {
            "text/plain": [
              "id                     0\n",
              "sex                 6337\n",
              "birth_year          6350\n",
              "country                1\n",
              "region              6349\n",
              "disease             6741\n",
              "group               6684\n",
              "infection_reason    6623\n",
              "infection_order     6732\n",
              "infected_by         6697\n",
              "contact_number      6717\n",
              "confirmed_date         1\n",
              "released_date       6712\n",
              "deceased_date       6735\n",
              "state                  1\n",
              "dtype: int64"
            ]
          },
          "metadata": {
            "tags": []
          },
          "execution_count": 25
        }
      ]
    },
    {
      "cell_type": "code",
      "metadata": {
        "id": "uOX9VBvK2zVp",
        "colab_type": "code",
        "colab": {}
      },
      "source": [
        ""
      ],
      "execution_count": 0,
      "outputs": []
    }
  ]
}
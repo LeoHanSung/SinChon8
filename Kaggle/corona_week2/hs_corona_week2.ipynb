{
  "nbformat": 4,
  "nbformat_minor": 0,
  "metadata": {
    "kernelspec": {
      "language": "python",
      "display_name": "Python 3",
      "name": "python3"
    },
    "language_info": {
      "pygments_lexer": "ipython3",
      "nbconvert_exporter": "python",
      "version": "3.6.4",
      "file_extension": ".py",
      "codemirror_mode": {
        "name": "ipython",
        "version": 3
      },
      "name": "python",
      "mimetype": "text/x-python"
    },
    "colab": {
      "name": "kernel13b39ff87f.ipynb",
      "provenance": [],
      "include_colab_link": true
    }
  },
  "cells": [
    {
      "cell_type": "markdown",
      "metadata": {
        "id": "view-in-github",
        "colab_type": "text"
      },
      "source": [
        "<a href=\"https://colab.research.google.com/github/LeoHanSung/SinChon8/blob/master/hansung/corona_week2.ipynb\" target=\"_parent\"><img src=\"https://colab.research.google.com/assets/colab-badge.svg\" alt=\"Open In Colab\"/></a>"
      ]
    },
    {
      "cell_type": "markdown",
      "metadata": {
        "id": "B7StyMiS30AP",
        "colab_type": "text"
      },
      "source": [
        "hansung/corona_week2.ipynb\n"
      ]
    },
    {
      "cell_type": "code",
      "metadata": {
        "_uuid": "8f2839f25d086af736a60e9eeb907d3b93b6e0e5",
        "_cell_guid": "b1076dfc-b9ad-4769-8c92-a6c4dae69d19",
        "trusted": true,
        "id": "EGaL-Xx-3sg7",
        "colab_type": "code",
        "colab": {}
      },
      "source": [
        "# This Python 3 environment comes with many helpful analytics libraries installed\n",
        "# It is defined by the kaggle/python docker image: https://github.com/kaggle/docker-python\n",
        "# For example, here's several helpful packages to load in \n",
        "\n",
        "import numpy as np # linear algebra\n",
        "import pandas as pd # data processing, CSV file I/O (e.g. pd.read_csv)\n",
        "\n",
        "# Input data files are available in the \"../input/\" directory.\n",
        "# For example, running this (by clicking run or pressing Shift+Enter) will list all files under the input directory\n",
        "\n",
        "import os\n",
        "for dirname, _, filenames in os.walk('/kaggle/input'):\n",
        "    for filename in filenames:\n",
        "        print(os.path.join(dirname, filename))\n",
        "\n",
        "# Any results you write to the current directory are saved as output."
      ],
      "execution_count": 0,
      "outputs": []
    },
    {
      "cell_type": "code",
      "metadata": {
        "trusted": true,
        "id": "Rxs2oIMI3shE",
        "colab_type": "code",
        "colab": {}
      },
      "source": [
        "import pandas as pd\n",
        "from pandas import Series\n",
        "import numpy as np\n",
        "from keras import optimizers\n",
        "#from keras.models import Sequential, Model\n",
        "#from keras.layers import Dense,Input\n",
        "from keras import backend as K\n",
        "\n",
        "from tensorflow.python.keras.layers import Input, Dense\n",
        "from tensorflow.python.keras.models import Sequential, Model"
      ],
      "execution_count": 0,
      "outputs": []
    },
    {
      "cell_type": "code",
      "metadata": {
        "_uuid": "d629ff2d2480ee46fbb7e2d37f6b5fab8052498a",
        "_cell_guid": "79c7e3d0-c299-4dcb-8224-4455121ee9b0",
        "trusted": true,
        "id": "7SoTHdD63shK",
        "colab_type": "code",
        "colab": {}
      },
      "source": [
        "train_df = pd.read_csv('/kaggle/input/covid19-global-forecasting-week-2/train.csv')\n",
        "train_df.head(5)"
      ],
      "execution_count": 0,
      "outputs": []
    },
    {
      "cell_type": "code",
      "metadata": {
        "trusted": true,
        "id": "DukD7ial3shP",
        "colab_type": "code",
        "colab": {}
      },
      "source": [
        "test_df = pd.read_csv('/kaggle/input/covid19-global-forecasting-week-2/test.csv')\n",
        "test_df.head(5)"
      ],
      "execution_count": 0,
      "outputs": []
    },
    {
      "cell_type": "code",
      "metadata": {
        "trusted": true,
        "id": "l4MYBI3H3shV",
        "colab_type": "code",
        "colab": {}
      },
      "source": [
        "sub_df = pd.read_csv('/kaggle/input/covid19-global-forecasting-week-2/submission.csv')\n",
        "sub_df.shape"
      ],
      "execution_count": 0,
      "outputs": []
    },
    {
      "cell_type": "code",
      "metadata": {
        "trusted": true,
        "id": "FinoxtWl3shb",
        "colab_type": "code",
        "colab": {}
      },
      "source": [
        "print([train_df.columns, train_df.shape, 19404/66])\n",
        "print([test_df.columns, test_df.shape],12642/43)"
      ],
      "execution_count": 0,
      "outputs": []
    },
    {
      "cell_type": "code",
      "metadata": {
        "trusted": true,
        "id": "L-ZyHdZd3shf",
        "colab_type": "code",
        "colab": {}
      },
      "source": [
        "print(\"Country_Region\")\n",
        "print(len(train_df['Country_Region'].unique()), train_df['Country_Region'].unique())\n",
        "print(\"Province_State\")\n",
        "print(len(train_df['Province_State'].unique()), train_df['Province_State'].unique())\n",
        "print(\"Date\")\n",
        "print(len(train_df['Date'].unique()),train_df['Date'].unique())"
      ],
      "execution_count": 0,
      "outputs": []
    },
    {
      "cell_type": "code",
      "metadata": {
        "trusted": true,
        "id": "TSriHjwL3shk",
        "colab_type": "code",
        "colab": {}
      },
      "source": [
        "print(\"Country_Region\")\n",
        "print(len(test_df['Country_Region'].unique()), test_df['Country_Region'].unique())\n",
        "print(\"Province_State\")\n",
        "print(len(test_df['Province_State'].unique()), test_df['Province_State'].unique())\n",
        "print(\"Date\")\n",
        "print(len(test_df['Date'].unique()),test_df['Date'].unique())"
      ],
      "execution_count": 0,
      "outputs": []
    },
    {
      "cell_type": "code",
      "metadata": {
        "trusted": true,
        "id": "jzcs1wgs3sho",
        "colab_type": "code",
        "colab": {}
      },
      "source": [
        "print(\"Date\")\n",
        "print(len(test_df['Date'].unique()),test_df['Date'].unique())"
      ],
      "execution_count": 0,
      "outputs": []
    },
    {
      "cell_type": "code",
      "metadata": {
        "trusted": true,
        "id": "1nn44WNF3shr",
        "colab_type": "code",
        "colab": {}
      },
      "source": [
        "train_df['rownum'] = [i for i in range(1,67)] * 294"
      ],
      "execution_count": 0,
      "outputs": []
    },
    {
      "cell_type": "code",
      "metadata": {
        "trusted": true,
        "id": "J_a6xwXy3shu",
        "colab_type": "code",
        "colab": {}
      },
      "source": [
        "test_df['rownum'] = [i for i in range(58,101)] * 294"
      ],
      "execution_count": 0,
      "outputs": []
    },
    {
      "cell_type": "code",
      "metadata": {
        "trusted": true,
        "id": "yamOoQQ63shx",
        "colab_type": "code",
        "colab": {}
      },
      "source": [
        "result_df = pd.DataFrame(columns=['ConfirmedCases','Fatalities'])\n",
        "BATCH = 20\n",
        "EPOCH = 3\n",
        "HIDDENB_NUM_ONE = 256\n",
        "OUTPUT_NUM = 2\n",
        "INPUT_NUM = 1\n",
        "\n",
        "\n",
        "for i in range(len(train_df['Country_Region'].unique())):\n",
        "    if(pd.isnull(train_df[train_df['Country_Region']==train_df['Country_Region'].unique()[i]]['Province_State']).unique()[0]==True):\n",
        "        nation_df = train_df[train_df['Country_Region']==train_df['Country_Region'].unique()[i]]\n",
        "        #print(\"--------------------------nation_df-----------------------\")\n",
        "        #print(nation_df)\n",
        "        x_train = nation_df['rownum']\n",
        "        y_train = nation_df[['ConfirmedCases','Fatalities']]\n",
        "        \n",
        "        x_train_data = np.array(x_train)\n",
        "        y_train_data = np.array(y_train)\n",
        "        \n",
        "        K.clear_session()\n",
        "        model = Sequential()\n",
        "        model.add(Dense(input_dim=INPUT_NUM, units=INPUT_NUM, activation=\"relu\"))\n",
        "        model.add(Dense(units=HIDDENB_NUM_ONE, activation=\"relu\"))\n",
        "        model.add(Dense(OUTPUT_NUM, activation=\"relu\"))\n",
        "        \n",
        "        #print(\"nation:\"+train_df['Country_Region'].unique()[i])\n",
        "        \n",
        "        model.compile(optimizer='adam', loss='mse')\n",
        "        model.fit(x_train_data,y_train_data,batch_size=20, epochs=3, verbose=1)\n",
        "        \n",
        "        x_test = test_df[:43]['rownum']\n",
        "        y_res = model.predict(x_test)\n",
        "        \n",
        "        #print(\"--------------------------y_res.shape-----------------------\")\n",
        "        #print(y_res.shape)\n",
        "        result_df = pd.concat([result_df, pd.DataFrame({'ConfirmedCases': y_res[:, 0], 'Fatalities': y_res[:, 1]})])\n",
        "        #print(\"--------------------------result_df.shape--------------------\")\n",
        "        print(result_df.shape)\n",
        "        #print(\"---------------------------result_df----------------------\")\n",
        "        print(result_df)\n",
        "        #print(\"#################################eon#######################\")\n",
        "    else:\n",
        "        print(len(train_df[train_df['Country_Region']==train_df['Country_Region'].unique()[i]]['Province_State'].unique()))\n",
        "        for m in range(len(train_df[train_df['Country_Region']==train_df['Country_Region'].unique()[i]]['Province_State'].unique())):\n",
        "            \n",
        "            province_df = train_df[train_df['Province_State']==train_df[train_df['Country_Region']==train_df['Country_Region'].unique()[i]]['Province_State'].unique()[m]]\n",
        "            \n",
        "            if(type(train_df[train_df['Country_Region']==train_df['Country_Region'].unique()[i]]['Province_State'].unique()[m])!=str):\n",
        "                province_df = train_df[train_df['Country_Region']==train_df['Country_Region'].unique()[i]][train_df[train_df['Country_Region']==train_df['Country_Region'].unique()[i]]['Province_State'].isna()]\n",
        "            \n",
        "            #print(\"--------------------------province_df-----------------------\")\n",
        "            print(province_df)\n",
        "            x_train = province_df['rownum']\n",
        "            y_train = province_df[['ConfirmedCases','Fatalities']]\n",
        "\n",
        "            x_train_data = np.array(x_train)\n",
        "            y_train_data = np.array(y_train)\n",
        "\n",
        "            K.clear_session()\n",
        "            model = Sequential()\n",
        "            model.add(Dense(input_dim=INPUT_NUM, units=INPUT_NUM, activation=\"relu\"))\n",
        "            model.add(Dense(units=HIDDENB_NUM_ONE, activation=\"relu\"))\n",
        "            model.add(Dense(OUTPUT_NUM, activation=\"relu\"))\n",
        "            \n",
        "            #print(i)\n",
        "            #print(m)\n",
        "            #print(type(train_df[train_df['Country_Region']==train_df['Country_Region'].unique()[i]]['Province_State'].unique()[m]))\n",
        "            #print(train_df['Country_Region'].unique()[i])\n",
        "            #print(train_df[train_df['Country_Region']==train_df['Country_Region'].unique()[i]]['Province_State'].unique()[m])\n",
        "            \n",
        "            \n",
        "            model.compile(optimizer='adam', loss='mse')\n",
        "            model.fit(x_train_data,y_train_data,batch_size=30, epochs=3, verbose=1)\n",
        "\n",
        "            x_test = test_df[:43]['rownum']\n",
        "            y_res = model.predict(x_test)\n",
        "            \n",
        "            #print(\"--------------------------y_res.shape-----------------------\")\n",
        "            #print(y_res.shape)\n",
        "            result_df = pd.concat([result_df, pd.DataFrame({'ConfirmedCases': y_res[:, 0], 'Fatalities': y_res[:, 1]})])\n",
        "            #print(\"--------------------------result_df.shape--------------------\")\n",
        "            #print(result_df.shape)\n",
        "            #print(\"---------------------------result_df----------------------\")\n",
        "            #print(result_df)\n",
        "            #print(\"#################################eop#######################\")"
      ],
      "execution_count": 0,
      "outputs": []
    },
    {
      "cell_type": "code",
      "metadata": {
        "trusted": true,
        "id": "V87YE-NR3sh0",
        "colab_type": "code",
        "colab": {}
      },
      "source": [
        "result_df.ConfirmedCases = result_df.ConfirmedCases.round(1)\n",
        "result_df.Fatalities = result_df.Fatalities.round(1)\n",
        "result_df[result_df['ConfirmedCases'] < 0] =0\n",
        "result_df[result_df['Fatalities'] < 0] =0\n",
        "result_df"
      ],
      "execution_count": 0,
      "outputs": []
    },
    {
      "cell_type": "code",
      "metadata": {
        "trusted": true,
        "id": "vp_UByEK3sh2",
        "colab_type": "code",
        "colab": {}
      },
      "source": [
        "sub = pd.DataFrame()\n",
        "sub['ForecastId'] = np.array(test_df['ForecastId'])\n",
        "sub['ConfirmedCases'] = np.array(result_df['ConfirmedCases'])\n",
        "sub['Fatalities'] = np.array(result_df['Fatalities'])\n",
        "sub.to_csv('submission.csv', index = False)"
      ],
      "execution_count": 0,
      "outputs": []
    }
  ]
}
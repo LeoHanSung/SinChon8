{
 "cells": [
  {
   "cell_type": "code",
   "execution_count": 1,
   "metadata": {},
   "outputs": [],
   "source": [
    "# 세계 확진자 및 사망자수 정리"
   ]
  },
  {
   "cell_type": "code",
   "execution_count": null,
   "metadata": {},
   "outputs": [],
   "source": [
    "import pandas as pd\n",
    "import numpy as np"
   ]
  },
  {
   "cell_type": "code",
   "execution_count": 2,
   "metadata": {},
   "outputs": [],
   "source": [
    "data = pd.read_csv(\"./covid19-global-forecasting-week-1/train.csv\", index_col='Id')"
   ]
  },
  {
   "cell_type": "code",
   "execution_count": 3,
   "metadata": {},
   "outputs": [
    {
     "name": "stdout",
     "output_type": "stream",
     "text": [
      "<class 'pandas.core.frame.DataFrame'>\n",
      "Int64Index: 16756 entries, 1 to 26378\n",
      "Data columns (total 7 columns):\n",
      " #   Column          Non-Null Count  Dtype  \n",
      "---  ------          --------------  -----  \n",
      " 0   Province/State  7670 non-null   object \n",
      " 1   Country/Region  16756 non-null  object \n",
      " 2   Lat             16697 non-null  float64\n",
      " 3   Long            16697 non-null  float64\n",
      " 4   Date            16756 non-null  object \n",
      " 5   ConfirmedCases  16756 non-null  float64\n",
      " 6   Fatalities      16756 non-null  float64\n",
      "dtypes: float64(4), object(3)\n",
      "memory usage: 1.0+ MB\n"
     ]
    }
   ],
   "source": [
    "data.info()"
   ]
  },
  {
   "cell_type": "code",
   "execution_count": 4,
   "metadata": {},
   "outputs": [
    {
     "data": {
      "text/html": [
       "<div>\n",
       "<style scoped>\n",
       "    .dataframe tbody tr th:only-of-type {\n",
       "        vertical-align: middle;\n",
       "    }\n",
       "\n",
       "    .dataframe tbody tr th {\n",
       "        vertical-align: top;\n",
       "    }\n",
       "\n",
       "    .dataframe thead th {\n",
       "        text-align: right;\n",
       "    }\n",
       "</style>\n",
       "<table border=\"1\" class=\"dataframe\">\n",
       "  <thead>\n",
       "    <tr style=\"text-align: right;\">\n",
       "      <th></th>\n",
       "      <th>Province/State</th>\n",
       "      <th>Country/Region</th>\n",
       "      <th>Lat</th>\n",
       "      <th>Long</th>\n",
       "      <th>Date</th>\n",
       "      <th>ConfirmedCases</th>\n",
       "      <th>Fatalities</th>\n",
       "    </tr>\n",
       "    <tr>\n",
       "      <th>Id</th>\n",
       "      <th></th>\n",
       "      <th></th>\n",
       "      <th></th>\n",
       "      <th></th>\n",
       "      <th></th>\n",
       "      <th></th>\n",
       "      <th></th>\n",
       "    </tr>\n",
       "  </thead>\n",
       "  <tbody>\n",
       "    <tr>\n",
       "      <th>1</th>\n",
       "      <td>NaN</td>\n",
       "      <td>Afghanistan</td>\n",
       "      <td>33.0</td>\n",
       "      <td>65.0</td>\n",
       "      <td>2020-01-22</td>\n",
       "      <td>0.0</td>\n",
       "      <td>0.0</td>\n",
       "    </tr>\n",
       "    <tr>\n",
       "      <th>2</th>\n",
       "      <td>NaN</td>\n",
       "      <td>Afghanistan</td>\n",
       "      <td>33.0</td>\n",
       "      <td>65.0</td>\n",
       "      <td>2020-01-23</td>\n",
       "      <td>0.0</td>\n",
       "      <td>0.0</td>\n",
       "    </tr>\n",
       "    <tr>\n",
       "      <th>3</th>\n",
       "      <td>NaN</td>\n",
       "      <td>Afghanistan</td>\n",
       "      <td>33.0</td>\n",
       "      <td>65.0</td>\n",
       "      <td>2020-01-24</td>\n",
       "      <td>0.0</td>\n",
       "      <td>0.0</td>\n",
       "    </tr>\n",
       "    <tr>\n",
       "      <th>4</th>\n",
       "      <td>NaN</td>\n",
       "      <td>Afghanistan</td>\n",
       "      <td>33.0</td>\n",
       "      <td>65.0</td>\n",
       "      <td>2020-01-25</td>\n",
       "      <td>0.0</td>\n",
       "      <td>0.0</td>\n",
       "    </tr>\n",
       "    <tr>\n",
       "      <th>5</th>\n",
       "      <td>NaN</td>\n",
       "      <td>Afghanistan</td>\n",
       "      <td>33.0</td>\n",
       "      <td>65.0</td>\n",
       "      <td>2020-01-26</td>\n",
       "      <td>0.0</td>\n",
       "      <td>0.0</td>\n",
       "    </tr>\n",
       "  </tbody>\n",
       "</table>\n",
       "</div>"
      ],
      "text/plain": [
       "   Province/State Country/Region   Lat  Long        Date  ConfirmedCases  \\\n",
       "Id                                                                         \n",
       "1             NaN    Afghanistan  33.0  65.0  2020-01-22             0.0   \n",
       "2             NaN    Afghanistan  33.0  65.0  2020-01-23             0.0   \n",
       "3             NaN    Afghanistan  33.0  65.0  2020-01-24             0.0   \n",
       "4             NaN    Afghanistan  33.0  65.0  2020-01-25             0.0   \n",
       "5             NaN    Afghanistan  33.0  65.0  2020-01-26             0.0   \n",
       "\n",
       "    Fatalities  \n",
       "Id              \n",
       "1          0.0  \n",
       "2          0.0  \n",
       "3          0.0  \n",
       "4          0.0  \n",
       "5          0.0  "
      ]
     },
     "execution_count": 4,
     "metadata": {},
     "output_type": "execute_result"
    }
   ],
   "source": [
    "data.head()"
   ]
  },
  {
   "cell_type": "code",
   "execution_count": 5,
   "metadata": {},
   "outputs": [
    {
     "data": {
      "text/plain": [
       "Index(['Province/State', 'Country/Region', 'Lat', 'Long', 'Date',\n",
       "       'ConfirmedCases', 'Fatalities'],\n",
       "      dtype='object')"
      ]
     },
     "execution_count": 5,
     "metadata": {},
     "output_type": "execute_result"
    }
   ],
   "source": [
    "data.columns"
   ]
  },
  {
   "cell_type": "code",
   "execution_count": 6,
   "metadata": {},
   "outputs": [],
   "source": [
    "# null 값은 0으로 대체\n",
    "data.fillna(0, inplace=True)"
   ]
  },
  {
   "cell_type": "code",
   "execution_count": 7,
   "metadata": {},
   "outputs": [
    {
     "name": "stderr",
     "output_type": "stream",
     "text": [
      "c:\\users\\hans\\.conda\\envs\\tf2\\lib\\site-packages\\pandas\\core\\indexing.py:671: SettingWithCopyWarning: \n",
      "A value is trying to be set on a copy of a slice from a DataFrame\n",
      "\n",
      "See the caveats in the documentation: https://pandas.pydata.org/pandas-docs/stable/user_guide/indexing.html#returning-a-view-versus-a-copy\n",
      "  self._setitem_with_indexer(indexer, value)\n"
     ]
    },
    {
     "data": {
      "text/html": [
       "<div>\n",
       "<style scoped>\n",
       "    .dataframe tbody tr th:only-of-type {\n",
       "        vertical-align: middle;\n",
       "    }\n",
       "\n",
       "    .dataframe tbody tr th {\n",
       "        vertical-align: top;\n",
       "    }\n",
       "\n",
       "    .dataframe thead th {\n",
       "        text-align: right;\n",
       "    }\n",
       "</style>\n",
       "<table border=\"1\" class=\"dataframe\">\n",
       "  <thead>\n",
       "    <tr style=\"text-align: right;\">\n",
       "      <th></th>\n",
       "      <th>Province/State</th>\n",
       "      <th>Country/Region</th>\n",
       "      <th>Lat</th>\n",
       "      <th>Long</th>\n",
       "      <th>Date</th>\n",
       "      <th>ConfirmedCases</th>\n",
       "      <th>Fatalities</th>\n",
       "    </tr>\n",
       "    <tr>\n",
       "      <th>Id</th>\n",
       "      <th></th>\n",
       "      <th></th>\n",
       "      <th></th>\n",
       "      <th></th>\n",
       "      <th></th>\n",
       "      <th></th>\n",
       "      <th></th>\n",
       "    </tr>\n",
       "  </thead>\n",
       "  <tbody>\n",
       "    <tr>\n",
       "      <th>1</th>\n",
       "      <td>Afghanistan</td>\n",
       "      <td>Afghanistan</td>\n",
       "      <td>33.0</td>\n",
       "      <td>65.0</td>\n",
       "      <td>2020-01-22</td>\n",
       "      <td>0.0</td>\n",
       "      <td>0.0</td>\n",
       "    </tr>\n",
       "    <tr>\n",
       "      <th>2</th>\n",
       "      <td>Afghanistan</td>\n",
       "      <td>Afghanistan</td>\n",
       "      <td>33.0</td>\n",
       "      <td>65.0</td>\n",
       "      <td>2020-01-23</td>\n",
       "      <td>0.0</td>\n",
       "      <td>0.0</td>\n",
       "    </tr>\n",
       "    <tr>\n",
       "      <th>3</th>\n",
       "      <td>Afghanistan</td>\n",
       "      <td>Afghanistan</td>\n",
       "      <td>33.0</td>\n",
       "      <td>65.0</td>\n",
       "      <td>2020-01-24</td>\n",
       "      <td>0.0</td>\n",
       "      <td>0.0</td>\n",
       "    </tr>\n",
       "    <tr>\n",
       "      <th>4</th>\n",
       "      <td>Afghanistan</td>\n",
       "      <td>Afghanistan</td>\n",
       "      <td>33.0</td>\n",
       "      <td>65.0</td>\n",
       "      <td>2020-01-25</td>\n",
       "      <td>0.0</td>\n",
       "      <td>0.0</td>\n",
       "    </tr>\n",
       "    <tr>\n",
       "      <th>5</th>\n",
       "      <td>Afghanistan</td>\n",
       "      <td>Afghanistan</td>\n",
       "      <td>33.0</td>\n",
       "      <td>65.0</td>\n",
       "      <td>2020-01-26</td>\n",
       "      <td>0.0</td>\n",
       "      <td>0.0</td>\n",
       "    </tr>\n",
       "  </tbody>\n",
       "</table>\n",
       "</div>"
      ],
      "text/plain": [
       "   Province/State Country/Region   Lat  Long        Date  ConfirmedCases  \\\n",
       "Id                                                                         \n",
       "1     Afghanistan    Afghanistan  33.0  65.0  2020-01-22             0.0   \n",
       "2     Afghanistan    Afghanistan  33.0  65.0  2020-01-23             0.0   \n",
       "3     Afghanistan    Afghanistan  33.0  65.0  2020-01-24             0.0   \n",
       "4     Afghanistan    Afghanistan  33.0  65.0  2020-01-25             0.0   \n",
       "5     Afghanistan    Afghanistan  33.0  65.0  2020-01-26             0.0   \n",
       "\n",
       "    Fatalities  \n",
       "Id              \n",
       "1          0.0  \n",
       "2          0.0  \n",
       "3          0.0  \n",
       "4          0.0  \n",
       "5          0.0  "
      ]
     },
     "execution_count": 7,
     "metadata": {},
     "output_type": "execute_result"
    }
   ],
   "source": [
    "for i in range(len(data)):    \n",
    "    if data['Province/State'].iloc[i]==0:\n",
    "        #print(data['Province/State'].iloc[i])\n",
    "        data['Province/State'].iloc[i]=data['Country/Region'].iloc[i]\n",
    "        \n",
    "    else:\n",
    "        #print(data['Province/State'].iloc[i])\n",
    "        data['Province/State'].iloc[i]=data['Country/Region'].iloc[i]+\"_\"+data['Province/State'].iloc[i]\n",
    "data.head()"
   ]
  },
  {
   "cell_type": "code",
   "execution_count": 8,
   "metadata": {},
   "outputs": [
    {
     "data": {
      "text/plain": [
       "(array(['Afghanistan', 'Albania', 'Algeria', 'Andorra',\n",
       "        'Antigua and Barbuda', 'Argentina', 'Armenia', 'Aruba',\n",
       "        'Australia_Australian Capital Territory',\n",
       "        'Australia_From Diamond Princess', 'Australia_New South Wales',\n",
       "        'Australia_Northern Territory', 'Australia_Queensland',\n",
       "        'Australia_South Australia', 'Australia_Tasmania',\n",
       "        'Australia_Victoria', 'Australia_Western Australia', 'Austria',\n",
       "        'Azerbaijan', 'Bahrain', 'Bangladesh', 'Barbados', 'Belarus',\n",
       "        'Belgium', 'Benin', 'Bhutan', 'Bolivia', 'Bosnia and Herzegovina',\n",
       "        'Brazil', 'Brunei', 'Bulgaria', 'Burkina Faso', 'Cambodia',\n",
       "        'Cameroon', 'Canada_Alberta', 'Canada_British Columbia',\n",
       "        'Canada_Grand Princess', 'Canada_Manitoba', 'Canada_New Brunswick',\n",
       "        'Canada_Newfoundland and Labrador', 'Canada_Nova Scotia',\n",
       "        'Canada_Ontario', 'Canada_Prince Edward Island', 'Canada_Quebec',\n",
       "        'Canada_Saskatchewan', 'Central African Republic', 'Chile',\n",
       "        'China_Anhui', 'China_Beijing', 'China_Chongqing', 'China_Fujian',\n",
       "        'China_Gansu', 'China_Guangdong', 'China_Guangxi', 'China_Guizhou',\n",
       "        'China_Hainan', 'China_Hebei', 'China_Heilongjiang', 'China_Henan',\n",
       "        'China_Hong Kong', 'China_Hubei', 'China_Hunan',\n",
       "        'China_Inner Mongolia', 'China_Jiangsu', 'China_Jiangxi',\n",
       "        'China_Jilin', 'China_Liaoning', 'China_Macau', 'China_Ningxia',\n",
       "        'China_Qinghai', 'China_Shaanxi', 'China_Shandong',\n",
       "        'China_Shanghai', 'China_Shanxi', 'China_Sichuan', 'China_Tianjin',\n",
       "        'China_Tibet', 'China_Xinjiang', 'China_Yunnan', 'China_Zhejiang',\n",
       "        'Colombia', 'Congo (Brazzaville)', 'Congo (Kinshasa)',\n",
       "        'Costa Rica', \"Cote d'Ivoire\", 'Croatia',\n",
       "        'Cruise Ship_Diamond Princess', 'Cuba', 'Cyprus', 'Czechia',\n",
       "        'Denmark_Denmark', 'Denmark_Faroe Islands', 'Djibouti',\n",
       "        'Dominican Republic', 'Ecuador', 'Egypt', 'Equatorial Guinea',\n",
       "        'Estonia', 'Eswatini', 'Ethiopia', 'Finland', 'France_France',\n",
       "        'France_French Guiana', 'France_French Polynesia',\n",
       "        'France_Guadeloupe', 'France_Mayotte', 'France_Reunion',\n",
       "        'France_Saint Barthelemy', 'France_St Martin', 'French Guiana',\n",
       "        'Gabon', 'Gambia, The', 'Georgia', 'Germany', 'Ghana', 'Greece',\n",
       "        'Greenland', 'Guadeloupe', 'Guam', 'Guatemala', 'Guernsey',\n",
       "        'Guinea', 'Guyana', 'Holy See', 'Honduras', 'Hungary', 'Iceland',\n",
       "        'India', 'Indonesia', 'Iran', 'Iraq', 'Ireland', 'Israel', 'Italy',\n",
       "        'Jamaica', 'Japan', 'Jersey', 'Jordan', 'Kazakhstan', 'Kenya',\n",
       "        'Korea, South', 'Kosovo', 'Kuwait', 'Kyrgyzstan', 'Latvia',\n",
       "        'Lebanon', 'Liberia', 'Liechtenstein', 'Lithuania', 'Luxembourg',\n",
       "        'Malaysia', 'Maldives', 'Malta', 'Martinique', 'Mauritania',\n",
       "        'Mauritius', 'Mayotte', 'Mexico', 'Moldova', 'Monaco', 'Mongolia',\n",
       "        'Montenegro', 'Morocco', 'Namibia', 'Nepal', 'Netherlands_Aruba',\n",
       "        'Netherlands_Curacao', 'Netherlands_Netherlands', 'New Zealand',\n",
       "        'Nigeria', 'North Macedonia', 'Norway', 'Oman', 'Pakistan',\n",
       "        'Panama', 'Paraguay', 'Peru', 'Philippines', 'Poland', 'Portugal',\n",
       "        'Puerto Rico', 'Qatar', 'Republic of the Congo', 'Reunion',\n",
       "        'Romania', 'Russia', 'Rwanda', 'Saint Lucia',\n",
       "        'Saint Vincent and the Grenadines', 'San Marino', 'Saudi Arabia',\n",
       "        'Senegal', 'Serbia', 'Seychelles', 'Singapore', 'Slovakia',\n",
       "        'Slovenia', 'Somalia', 'South Africa', 'Spain', 'Sri Lanka',\n",
       "        'Sudan', 'Suriname', 'Sweden', 'Switzerland', 'Taiwan*',\n",
       "        'Tanzania', 'Thailand', 'The Bahamas', 'The Gambia', 'Togo',\n",
       "        'Trinidad and Tobago', 'Tunisia', 'Turkey', 'US_Alabama',\n",
       "        'US_Alaska', 'US_Arizona', 'US_Arkansas', 'US_California',\n",
       "        'US_Colorado', 'US_Connecticut', 'US_Delaware',\n",
       "        'US_Diamond Princess', 'US_District of Columbia', 'US_Florida',\n",
       "        'US_Georgia', 'US_Grand Princess', 'US_Guam', 'US_Hawaii',\n",
       "        'US_Idaho', 'US_Illinois', 'US_Indiana', 'US_Iowa', 'US_Kansas',\n",
       "        'US_Kentucky', 'US_Louisiana', 'US_Maine', 'US_Maryland',\n",
       "        'US_Massachusetts', 'US_Michigan', 'US_Minnesota',\n",
       "        'US_Mississippi', 'US_Missouri', 'US_Montana', 'US_Nebraska',\n",
       "        'US_Nevada', 'US_New Hampshire', 'US_New Jersey', 'US_New Mexico',\n",
       "        'US_New York', 'US_North Carolina', 'US_North Dakota', 'US_Ohio',\n",
       "        'US_Oklahoma', 'US_Oregon', 'US_Pennsylvania', 'US_Puerto Rico',\n",
       "        'US_Rhode Island', 'US_South Carolina', 'US_South Dakota',\n",
       "        'US_Tennessee', 'US_Texas', 'US_US',\n",
       "        'US_United States Virgin Islands', 'US_Utah', 'US_Vermont',\n",
       "        'US_Virgin Islands', 'US_Virginia', 'US_Washington',\n",
       "        'US_West Virginia', 'US_Wisconsin', 'US_Wyoming', 'Ukraine',\n",
       "        'United Arab Emirates', 'United Kingdom_Cayman Islands',\n",
       "        'United Kingdom_Channel Islands', 'United Kingdom_Gibraltar',\n",
       "        'United Kingdom_Montserrat', 'United Kingdom_United Kingdom',\n",
       "        'Uruguay', 'Uzbekistan', 'Venezuela', 'Vietnam', 'Zambia'],\n",
       "       dtype=object),\n",
       " numpy.ndarray,\n",
       " 284)"
      ]
     },
     "execution_count": 8,
     "metadata": {},
     "output_type": "execute_result"
    }
   ],
   "source": [
    "countries = data['Province/State'].unique()\n",
    "countries, type(countries), len(countries)"
   ]
  },
  {
   "cell_type": "code",
   "execution_count": 9,
   "metadata": {},
   "outputs": [
    {
     "data": {
      "text/plain": [
       "Jamaica                  59\n",
       "Aruba                    59\n",
       "Republic of the Congo    59\n",
       "Afghanistan              59\n",
       "US_Grand Princess        59\n",
       "                         ..\n",
       "Canada_Manitoba          59\n",
       "Greece                   59\n",
       "China_Liaoning           59\n",
       "Martinique               59\n",
       "China_Sichuan            59\n",
       "Name: Province/State, Length: 284, dtype: int64"
      ]
     },
     "execution_count": 9,
     "metadata": {},
     "output_type": "execute_result"
    }
   ],
   "source": [
    "data['Province/State'].value_counts()"
   ]
  },
  {
   "cell_type": "code",
   "execution_count": 10,
   "metadata": {},
   "outputs": [
    {
     "data": {
      "text/plain": [
       "284"
      ]
     },
     "execution_count": 10,
     "metadata": {},
     "output_type": "execute_result"
    }
   ],
   "source": [
    "total_list = list()\n",
    "\n",
    "for country in countries:    \n",
    "    tmp = []\n",
    "    for i in range(len(data)):                \n",
    "        if data['Province/State'].iloc[i]==country:            \n",
    "            #print(data['Country/Region'].iloc[i])\n",
    "            tmp.append(data.iloc[i])        \n",
    "    total_list.append(tmp)\n",
    "len(total_list)"
   ]
  },
  {
   "cell_type": "code",
   "execution_count": 27,
   "metadata": {},
   "outputs": [
    {
     "data": {
      "text/plain": [
       "array(['2020-01-22', '2020-01-23', '2020-01-24', '2020-01-25',\n",
       "       '2020-01-26', '2020-01-27', '2020-01-28', '2020-01-29',\n",
       "       '2020-01-30', '2020-01-31', '2020-02-01', '2020-02-02',\n",
       "       '2020-02-03', '2020-02-04', '2020-02-05', '2020-02-06',\n",
       "       '2020-02-07', '2020-02-08', '2020-02-09', '2020-02-10',\n",
       "       '2020-02-11', '2020-02-12', '2020-02-13', '2020-02-14',\n",
       "       '2020-02-15', '2020-02-16', '2020-02-17', '2020-02-18',\n",
       "       '2020-02-19', '2020-02-20', '2020-02-21', '2020-02-22',\n",
       "       '2020-02-23', '2020-02-24', '2020-02-25', '2020-02-26',\n",
       "       '2020-02-27', '2020-02-28', '2020-02-29', '2020-03-01',\n",
       "       '2020-03-02', '2020-03-03', '2020-03-04', '2020-03-05',\n",
       "       '2020-03-06', '2020-03-07', '2020-03-08', '2020-03-09',\n",
       "       '2020-03-10', '2020-03-11', '2020-03-12', '2020-03-13',\n",
       "       '2020-03-14', '2020-03-15', '2020-03-16', '2020-03-17',\n",
       "       '2020-03-18', '2020-03-19', '2020-03-20'], dtype=object)"
      ]
     },
     "execution_count": 27,
     "metadata": {},
     "output_type": "execute_result"
    }
   ],
   "source": [
    "index = data['Date'].unique()\n",
    "index"
   ]
  },
  {
   "cell_type": "code",
   "execution_count": 25,
   "metadata": {},
   "outputs": [
    {
     "data": {
      "text/plain": [
       "285"
      ]
     },
     "execution_count": 25,
     "metadata": {},
     "output_type": "execute_result"
    }
   ],
   "source": [
    "ConfirmedCases_dict = {\"Date\":index}\n",
    "Fatalities_dict = {\"Date\":index}\n",
    "\n",
    "for country in countries:    \n",
    "    ConfirmedCases_list=list()\n",
    "    Fatalities_list=list()\n",
    "    for i in range(len(data)):                \n",
    "        if data['Province/State'].iloc[i]==country:\n",
    "            ConfirmedCases_list.append(data['ConfirmedCases'].iloc[i])\n",
    "            Fatalities_list.append(data['ConfirmedCases'].iloc[i])\n",
    "            \n",
    "    ConfirmedCases_dict[country]=ConfirmedCases_list\n",
    "    Fatalities_dict[country]=Fatalities_list\n",
    "    \n",
    "len(ConfirmedCases_dict)"
   ]
  },
  {
   "cell_type": "code",
   "execution_count": 29,
   "metadata": {},
   "outputs": [
    {
     "data": {
      "text/plain": [
       "(            Afghanistan  Albania  Algeria  Andorra  Antigua and Barbuda  \\\n",
       " Date                                                                      \n",
       " 2020-01-22          0.0      0.0      0.0      0.0                  0.0   \n",
       " 2020-01-23          0.0      0.0      0.0      0.0                  0.0   \n",
       " 2020-01-24          0.0      0.0      0.0      0.0                  0.0   \n",
       " 2020-01-25          0.0      0.0      0.0      0.0                  0.0   \n",
       " 2020-01-26          0.0      0.0      0.0      0.0                  0.0   \n",
       " \n",
       "             Argentina  Armenia  Aruba  Australia_Australian Capital Territory  \\\n",
       " Date                                                                            \n",
       " 2020-01-22        0.0      0.0    0.0                                     0.0   \n",
       " 2020-01-23        0.0      0.0    0.0                                     0.0   \n",
       " 2020-01-24        0.0      0.0    0.0                                     0.0   \n",
       " 2020-01-25        0.0      0.0    0.0                                     0.0   \n",
       " 2020-01-26        0.0      0.0    0.0                                     0.0   \n",
       " \n",
       "             Australia_From Diamond Princess  ...  \\\n",
       " Date                                         ...   \n",
       " 2020-01-22                              0.0  ...   \n",
       " 2020-01-23                              0.0  ...   \n",
       " 2020-01-24                              0.0  ...   \n",
       " 2020-01-25                              0.0  ...   \n",
       " 2020-01-26                              0.0  ...   \n",
       " \n",
       "             United Kingdom_Channel Islands  United Kingdom_Gibraltar  \\\n",
       " Date                                                                   \n",
       " 2020-01-22                             0.0                       0.0   \n",
       " 2020-01-23                             0.0                       0.0   \n",
       " 2020-01-24                             0.0                       0.0   \n",
       " 2020-01-25                             0.0                       0.0   \n",
       " 2020-01-26                             0.0                       0.0   \n",
       " \n",
       "             United Kingdom_Montserrat  United Kingdom_United Kingdom  Uruguay  \\\n",
       " Date                                                                            \n",
       " 2020-01-22                        0.0                            0.0      0.0   \n",
       " 2020-01-23                        0.0                            0.0      0.0   \n",
       " 2020-01-24                        0.0                            0.0      0.0   \n",
       " 2020-01-25                        0.0                            0.0      0.0   \n",
       " 2020-01-26                        0.0                            0.0      0.0   \n",
       " \n",
       "             Uzbekistan  Venezuela  Vietnam  Zambia     sum  \n",
       " Date                                                        \n",
       " 2020-01-22         0.0        0.0      0.0     0.0   554.0  \n",
       " 2020-01-23         0.0        0.0      2.0     0.0   652.0  \n",
       " 2020-01-24         0.0        0.0      2.0     0.0   939.0  \n",
       " 2020-01-25         0.0        0.0      2.0     0.0  1432.0  \n",
       " 2020-01-26         0.0        0.0      2.0     0.0  2113.0  \n",
       " \n",
       " [5 rows x 285 columns],\n",
       "             Afghanistan  Albania  Algeria  Andorra  Antigua and Barbuda  \\\n",
       " Date                                                                      \n",
       " 2020-01-22          0.0      0.0      0.0      0.0                  0.0   \n",
       " 2020-01-23          0.0      0.0      0.0      0.0                  0.0   \n",
       " 2020-01-24          0.0      0.0      0.0      0.0                  0.0   \n",
       " 2020-01-25          0.0      0.0      0.0      0.0                  0.0   \n",
       " 2020-01-26          0.0      0.0      0.0      0.0                  0.0   \n",
       " \n",
       "             Argentina  Armenia  Aruba  Australia_Australian Capital Territory  \\\n",
       " Date                                                                            \n",
       " 2020-01-22        0.0      0.0    0.0                                     0.0   \n",
       " 2020-01-23        0.0      0.0    0.0                                     0.0   \n",
       " 2020-01-24        0.0      0.0    0.0                                     0.0   \n",
       " 2020-01-25        0.0      0.0    0.0                                     0.0   \n",
       " 2020-01-26        0.0      0.0    0.0                                     0.0   \n",
       " \n",
       "             Australia_From Diamond Princess  ...  \\\n",
       " Date                                         ...   \n",
       " 2020-01-22                              0.0  ...   \n",
       " 2020-01-23                              0.0  ...   \n",
       " 2020-01-24                              0.0  ...   \n",
       " 2020-01-25                              0.0  ...   \n",
       " 2020-01-26                              0.0  ...   \n",
       " \n",
       "             United Kingdom_Channel Islands  United Kingdom_Gibraltar  \\\n",
       " Date                                                                   \n",
       " 2020-01-22                             0.0                       0.0   \n",
       " 2020-01-23                             0.0                       0.0   \n",
       " 2020-01-24                             0.0                       0.0   \n",
       " 2020-01-25                             0.0                       0.0   \n",
       " 2020-01-26                             0.0                       0.0   \n",
       " \n",
       "             United Kingdom_Montserrat  United Kingdom_United Kingdom  Uruguay  \\\n",
       " Date                                                                            \n",
       " 2020-01-22                        0.0                            0.0      0.0   \n",
       " 2020-01-23                        0.0                            0.0      0.0   \n",
       " 2020-01-24                        0.0                            0.0      0.0   \n",
       " 2020-01-25                        0.0                            0.0      0.0   \n",
       " 2020-01-26                        0.0                            0.0      0.0   \n",
       " \n",
       "             Uzbekistan  Venezuela  Vietnam  Zambia     sum  \n",
       " Date                                                        \n",
       " 2020-01-22         0.0        0.0      0.0     0.0   554.0  \n",
       " 2020-01-23         0.0        0.0      2.0     0.0   652.0  \n",
       " 2020-01-24         0.0        0.0      2.0     0.0   939.0  \n",
       " 2020-01-25         0.0        0.0      2.0     0.0  1432.0  \n",
       " 2020-01-26         0.0        0.0      2.0     0.0  2113.0  \n",
       " \n",
       " [5 rows x 285 columns])"
      ]
     },
     "execution_count": 29,
     "metadata": {},
     "output_type": "execute_result"
    }
   ],
   "source": [
    "ConfirmedCases = pd.DataFrame(ConfirmedCases_dict)\n",
    "Fatalities = pd.DataFrame(Fatalities_dict)\n",
    "ConfirmedCases.set_index(\"Date\", inplace=True)\n",
    "Fatalities.set_index(\"Date\", inplace=True)\n",
    "#df['e'] = df.sum(axis=1)\n",
    "ConfirmedCases['sum'] = ConfirmedCases.sum(axis=1)\n",
    "Fatalities['sum'] = Fatalities.sum(axis=1)\n",
    "ConfirmedCases['sum'].head(), Fatalities['sum'].head()\n",
    "ConfirmedCases.head(1), Fatalities.head(1)"
   ]
  },
  {
   "cell_type": "code",
   "execution_count": 31,
   "metadata": {},
   "outputs": [],
   "source": [
    "# 일자별 세계 확진자수, 사망자수 CSV 파일로 저장\n",
    "ConfirmedCases.to_csv(\"ConfirmedCases.csv\",)\n",
    "Fatalities.to_csv(\"Fatalities.csv\")"
   ]
  }
 ],
 "metadata": {
  "kernelspec": {
   "display_name": "Python 3",
   "language": "python",
   "name": "python3"
  },
  "language_info": {
   "codemirror_mode": {
    "name": "ipython",
    "version": 3
   },
   "file_extension": ".py",
   "mimetype": "text/x-python",
   "name": "python",
   "nbconvert_exporter": "python",
   "pygments_lexer": "ipython3",
   "version": "3.7.7"
  }
 },
 "nbformat": 4,
 "nbformat_minor": 4
}
